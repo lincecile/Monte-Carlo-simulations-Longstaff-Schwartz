{
 "cells": [
  {
   "cell_type": "markdown",
   "metadata": {},
   "source": [
    "####   Exemple"
   ]
  },
  {
   "cell_type": "code",
   "execution_count": 7,
   "metadata": {},
   "outputs": [],
   "source": [
    "from Classes_Both.module_marche import DonneeMarche\n",
    "from Classes_MonteCarlo_LSM.module_brownian import Brownian\n",
    "from Classes_MonteCarlo_LSM.module_LSM import LSM_method\n",
    "from Classes_Both.module_option import Option\n",
    "from Classes_Both.derivatives import OptionDerivatives, OptionDerivativesParameters\n",
    "import datetime as dt\n",
    "import numpy as np\n",
    "import time\n",
    "from Classes_TrinomialTree.module_arbre_noeud import Arbre\n",
    "import matplotlib.pyplot as plt\n",
    "import pandas as pd"
   ]
  },
  {
   "cell_type": "markdown",
   "metadata": {},
   "source": [
    "### Paramètre"
   ]
  },
  {
   "cell_type": "code",
   "execution_count": 8,
   "metadata": {},
   "outputs": [
    {
     "name": "stdout",
     "output_type": "stream",
     "text": [
      "Prix arbre option 3.8750280070050906\n"
     ]
    }
   ],
   "source": [
    "start_date = dt.datetime(2024, 1, 1)\n",
    "end_date = dt.datetime(2026, 1, 1)\n",
    "\n",
    "market = DonneeMarche(date_debut= start_date,\n",
    "volatilite=0.2, \n",
    "taux_interet=0.15, \n",
    "taux_actualisation=0.15,\n",
    "# dividends=[{\"ex_div_date\": dt.datetime(2024, 4, 21), \"amount\": 3, \"rate\": 0}], \n",
    "dividende_ex_date = dt.datetime(2024, 4, 21),\n",
    "dividende_montant = 10,\n",
    "dividende_rate=0,\n",
    "prix_spot=100)\n",
    "\n",
    "option = Option(date_pricing=start_date, \n",
    "                maturite=end_date, \n",
    "\n",
    "                prix_exercice=90, call=False, americaine=True)\n",
    "pricer = LSM_method(option)\n",
    "\n",
    "# nombre d'année entre début et fin \n",
    "period = (end_date - start_date).days / 365\n",
    "\n",
    "nb_pas_arbre = 1000\n",
    "arbre = Arbre(nb_pas_arbre, market, option, pruning = True)\n",
    "arbre.pricer_arbre()\n",
    "print(f\"Prix arbre option {arbre.prix_option}\")"
   ]
  },
  {
   "cell_type": "markdown",
   "metadata": {},
   "source": [
    "### Test solo"
   ]
  },
  {
   "cell_type": "code",
   "execution_count": 9,
   "metadata": {},
   "outputs": [
    {
     "name": "stdout",
     "output_type": "stream",
     "text": [
      "Nb chemins non antithetic: 10000\n",
      "Prix min ('non antithetic', 'américaine', 'vector'): 3.6943314654110853\n",
      "Prix max ('non antithetic', 'américaine', 'vector'): 3.913965932306691\n",
      "Prix:  3.804148698858888\n"
     ]
    }
   ],
   "source": [
    "nb_pas = int((end_date - start_date).days / 2)\n",
    "nb_chemin = 10000\n",
    "seed = 1\n",
    "method = 'vector'        # vector ou scalar\n",
    "model_type=\"polynomial\"  # \"polynomial\" \"laguerre\" \"hermite\" \"legendre\" \"chebyshev\"\n",
    "degree_polynome = 2      # utile pour polynomial, laguerre, hermite, legendre, chebyshev\n",
    "\n",
    "brownian = Brownian(period, nb_pas, nb_chemin, seed)\n",
    "price, std_error, intervalle = pricer.LSM(brownian, market, method=method, \n",
    "                              antithetic=False,poly_degree=degree_polynome, model_type=model_type,\n",
    "                              print_info = True)\n",
    "print(\"Prix: \", price)\n",
    "        \n"
   ]
  },
  {
   "cell_type": "markdown",
   "metadata": {},
   "source": [
    "### Itération nombre pas et chemin"
   ]
  },
  {
   "cell_type": "code",
   "execution_count": 10,
   "metadata": {},
   "outputs": [
    {
     "name": "stdout",
     "output_type": "stream",
     "text": [
      "10 10000 3.780097409909457\n",
      "20 10000 3.798002126499371\n",
      "30 10000 3.8256137286444383\n",
      "40 10000 3.821030265763076\n",
      "50 10000 3.7637662107802403\n",
      "60 10000 3.7628119153605804\n",
      "70 10000 3.75448544168616\n",
      "80 10000 3.8040408815147004\n",
      "90 10000 3.7928381960720055\n",
      "100 10000 3.85311602545103\n",
      "110 10000 3.806965319103551\n",
      "120 10000 3.800586126822463\n",
      "130 10000 3.8673031445020833\n",
      "140 10000 3.83275511291125\n",
      "150 10000 3.8468478435752855\n",
      "365 10000 3.8309242721139816\n",
      "365 20000 3.821660388213067\n",
      "365 30000 3.810502732896819\n",
      "365 40000 3.8107631196088914\n",
      "365 50000 3.8131160157319863\n",
      "365 60000 3.8136144729503187\n",
      "365 70000 3.8133788029695745\n",
      "365 80000 3.812667548098901\n",
      "365 90000 3.812986885865995\n",
      "365 100000 3.815481428450533\n"
     ]
    },
    {
     "data": {
      "text/html": [
       "<div>\n",
       "<style scoped>\n",
       "    .dataframe tbody tr th:only-of-type {\n",
       "        vertical-align: middle;\n",
       "    }\n",
       "\n",
       "    .dataframe tbody tr th {\n",
       "        vertical-align: top;\n",
       "    }\n",
       "\n",
       "    .dataframe thead tr th {\n",
       "        text-align: left;\n",
       "    }\n",
       "</style>\n",
       "<table border=\"1\" class=\"dataframe\">\n",
       "  <thead>\n",
       "    <tr>\n",
       "      <th></th>\n",
       "      <th>160</th>\n",
       "    </tr>\n",
       "    <tr>\n",
       "      <th></th>\n",
       "      <th>10000</th>\n",
       "    </tr>\n",
       "  </thead>\n",
       "  <tbody>\n",
       "    <tr>\n",
       "      <th>vrai prix</th>\n",
       "      <td>3.875028</td>\n",
       "    </tr>\n",
       "    <tr>\n",
       "      <th>price</th>\n",
       "      <td>3.8725</td>\n",
       "    </tr>\n",
       "    <tr>\n",
       "      <th>ecart-type</th>\n",
       "      <td>0.0292</td>\n",
       "    </tr>\n",
       "    <tr>\n",
       "      <th>min</th>\n",
       "      <td>3.8141</td>\n",
       "    </tr>\n",
       "    <tr>\n",
       "      <th>max</th>\n",
       "      <td>3.9308</td>\n",
       "    </tr>\n",
       "    <tr>\n",
       "      <th>proche</th>\n",
       "      <td>✅</td>\n",
       "    </tr>\n",
       "  </tbody>\n",
       "</table>\n",
       "</div>"
      ],
      "text/plain": [
       "                 160\n",
       "               10000\n",
       "vrai prix   3.875028\n",
       "price         3.8725\n",
       "ecart-type    0.0292\n",
       "min           3.8141\n",
       "max           3.9308\n",
       "proche         ✅    "
      ]
     },
     "execution_count": 10,
     "metadata": {},
     "output_type": "execute_result"
    }
   ],
   "source": [
    "###### test boucle\n",
    "from itertools import product\n",
    "liste_chemin = [10000 * i for i in range(1, 11)]\n",
    "liste_pas_chemin = [(10000 * i, int((end_date - start_date).days / 2)) for i in range(1, 11)]\n",
    "liste_pas = [10 * i for i in range(1, 31)]\n",
    "combinations = list(product(liste_chemin,liste_pas))\n",
    "dico_price = {}\n",
    "\n",
    "def test_boucle(combi):\n",
    "    for (path,pas) in combi:\n",
    "        brownian = Brownian(period, pas, path, 1)\n",
    "        price, std_error, intervalle = pricer.LSM(brownian, market, method='vector', antithetic=True, \n",
    "                                                  poly_degree=2, model_type=\"polynomial\",\n",
    "                                                  print_info = False)\n",
    "        if intervalle[0] <= arbre.prix_option <= intervalle[1]:\n",
    "            if int(arbre.prix_option * 100) / 100 == int(price * 100) / 100:# and std_error < 0.01:\n",
    "                dico_price[(pas,path)] = {'vrai prix': arbre.prix_option,'price': round(price, 4) ,'ecart-type': round(std_error, 4), \n",
    "                'min': round(intervalle[0], 4), 'max':round(intervalle[1], 4), 'proche': \"✅    \"}\n",
    "                break\n",
    "            if int(price * 100) / 100 - 0.01 <= int(arbre.prix_option * 100) / 100 <= int(price * 100) / 100 + 0.01:# and std_error < 0.01:\n",
    "                dico_price[(pas,path)] = {'vrai prix': arbre.prix_option,'price': round(price, 4) ,'ecart-type': round(std_error, 4), \n",
    "                'min': round(intervalle[0], 4), 'max':round(intervalle[1], 4),'proche':'❌    '}\n",
    "        print(pas,path, price)\n",
    "\n",
    "test_boucle(combinations)\n",
    "test_boucle(liste_pas_chemin)\n",
    "pd.DataFrame(dico_price)"
   ]
  },
  {
   "cell_type": "markdown",
   "metadata": {},
   "source": [
    "### Grecques"
   ]
  },
  {
   "cell_type": "code",
   "execution_count": 11,
   "metadata": {},
   "outputs": [
    {
     "name": "stdout",
     "output_type": "stream",
     "text": [
      "Prix : (3.8072238479426765, 0.01735516924674396, (3.7725135094491886, 3.8419341864361645))\n",
      "Delta : -0.31922276412664474\n",
      "Vega : 34.752301508652295\n",
      "Theta : -0.08658280319751577\n",
      "Gamma : 0.021995939175030177\n"
     ]
    }
   ],
   "source": [
    "option_deriv = OptionDerivatives(option, market, pricer)  \n",
    "print(\"Prix :\", option_deriv.price(option_deriv.parameters))\n",
    "print(\"Delta :\", option_deriv.delta())\n",
    "print(\"Vega :\", option_deriv.vega())\n",
    "print(\"Theta :\", option_deriv.theta())\n",
    "print(\"Gamma :\", option_deriv.gamma())\n"
   ]
  },
  {
   "cell_type": "code",
   "execution_count": null,
   "metadata": {},
   "outputs": [],
   "source": []
  }
 ],
 "metadata": {
  "kernelspec": {
   "display_name": "base",
   "language": "python",
   "name": "python3"
  },
  "language_info": {
   "codemirror_mode": {
    "name": "ipython",
    "version": 3
   },
   "file_extension": ".py",
   "mimetype": "text/x-python",
   "name": "python",
   "nbconvert_exporter": "python",
   "pygments_lexer": "ipython3",
   "version": "3.12.4"
  }
 },
 "nbformat": 4,
 "nbformat_minor": 2
}
