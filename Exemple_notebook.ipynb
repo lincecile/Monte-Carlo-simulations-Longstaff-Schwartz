{
 "cells": [
  {
   "cell_type": "markdown",
   "metadata": {},
   "source": [
    "####   Exemple"
   ]
  },
  {
   "cell_type": "code",
   "execution_count": 1,
   "metadata": {},
   "outputs": [],
   "source": [
    "from Classes_Both.module_marche import DonneeMarche\n",
    "from Classes_MonteCarlo_LSM.module_brownian import Brownian\n",
    "from Classes_MonteCarlo_LSM.module_LSM import LSM_method\n",
    "from Classes_Both.module_option import Option\n",
    "from Classes_Both.derivatives import OptionDerivatives, OptionDerivativesParameters\n",
    "import datetime as dt\n",
    "import numpy as np\n",
    "import time\n",
    "from Classes_TrinomialTree.module_arbre_noeud import Arbre\n",
    "import matplotlib.pyplot as plt\n",
    "import pandas as pd"
   ]
  },
  {
   "cell_type": "markdown",
   "metadata": {},
   "source": [
    "### Paramètre"
   ]
  },
  {
   "cell_type": "code",
   "execution_count": 2,
   "metadata": {},
   "outputs": [
    {
     "name": "stdout",
     "output_type": "stream",
     "text": [
      "Prix arbre option 9.867787904968338\n"
     ]
    }
   ],
   "source": [
    "start_date = dt.datetime(2025, 4, 4)\n",
    "end_date = dt.datetime(2026, 4, 4)\n",
    "\n",
    "market = DonneeMarche(date_debut= start_date,\n",
    "volatilite=0.30, \n",
    "taux_interet=0.05, \n",
    "taux_actualisation=0.05,\n",
    "# dividends=[{\"ex_div_date\": dt.datetime(2024, 4, 21), \"amount\": 3, \"rate\": 0}], \n",
    "dividende_ex_date = dt.datetime(2025, 1, 1),\n",
    "dividende_montant = 0,\n",
    "dividende_rate=0,\n",
    "prix_spot=100)\n",
    "\n",
    "optionA = Option(date_pricing=start_date, \n",
    "                maturite=end_date, \n",
    "                prix_exercice=100, call=False, americaine=True)\n",
    "\n",
    "optionB = Option(date_pricing=start_date, \n",
    "                maturite=end_date, \n",
    "                prix_exercice=102, call=False, americaine=True)\n",
    "# bermudien, 4 de chaque mois, donc mettre 1 pas de temps à chaque mois\n",
    "\n",
    "optionC = Option(date_pricing=start_date, \n",
    "                maturite=end_date, # ici prix strike inultile, et type call put inutile\n",
    "                prix_exercice=107, call=True, americaine=True)\n",
    "\n",
    "pricer = LSM_method(optionC)\n",
    "\n",
    "# nombre d'année entre début et fin \n",
    "period = (end_date - start_date).days / 365\n",
    "nb_pas_arbre = 1000\n",
    "arbre = Arbre(nb_pas_arbre, market, optionA, pruning = True)\n",
    "arbre.pricer_arbre()\n",
    "\n",
    "print(f\"Prix arbre option {arbre.prix_option}\")"
   ]
  },
  {
   "cell_type": "markdown",
   "metadata": {},
   "source": [
    "### Test solo"
   ]
  },
  {
   "cell_type": "code",
   "execution_count": 3,
   "metadata": {},
   "outputs": [
    {
     "name": "stdout",
     "output_type": "stream",
     "text": [
      "Nb chemins non antithetic: 10000\n",
      "Prix min ('non antithetic', 'européenne', 'vector'): 9.283562945698417\n",
      "Prix max ('non antithetic', 'européenne', 'vector'): 9.810675416196187\n",
      "Prix:  9.547119180947302\n",
      "Ecart type:  0.1317781176244422\n",
      "Intervalle de confiance:  (np.float64(9.283562945698417), np.float64(9.810675416196187))\n"
     ]
    }
   ],
   "source": [
    "nb_pas = 100 #12 #10000 #int((end_date - start_date).days / 2)*2\n",
    "nb_chemin = 10000\n",
    "seed = 1\n",
    "method = 'vector'        # vector ou scalar\n",
    "model_type=\"polynomial\"  # \"polynomial\" \"laguerre\" \"hermite\" \"legendre\" \"chebyshev\"\n",
    "degree_polynome = 3      # utile pour polynomial, laguerre, hermite, legendre, chebyshev\n",
    "\n",
    "brownian = Brownian(period, nb_pas, nb_chemin, seed)\n",
    "price, std_error, intervalle = pricer.LSM(brownian, market, method=method, \n",
    "                              antithetic=False,poly_degree=degree_polynome, model_type=model_type,\n",
    "                              print_info = True)\n",
    "print(\"Prix: \", price)\n",
    "print(\"Ecart type: \", std_error)\n",
    "print(\"Intervalle de confiance: \", intervalle)     \n"
   ]
  },
  {
   "cell_type": "code",
   "execution_count": 4,
   "metadata": {},
   "outputs": [
    {
     "name": "stdout",
     "output_type": "stream",
     "text": [
      "Nb chemins antithetic: 20000\n",
      "Prix min ('antithetic', 'européenne', 'vector'): 9.275807018096339\n",
      "Prix max ('antithetic', 'européenne', 'vector'): 9.646759340761994\n",
      "Prix:  9.461283179429167\n",
      "Ecart type:  0.09273808066641355\n",
      "Intervalle de confiance:  (np.float64(9.275807018096339), np.float64(9.646759340761994))\n"
     ]
    }
   ],
   "source": [
    "brownian = Brownian(period, nb_pas, nb_chemin, seed)\n",
    "price_ant, std_error_ant, intervalle_ant = pricer.LSM(brownian, market, method=method, \n",
    "                              antithetic=True,poly_degree=degree_polynome, model_type=model_type,\n",
    "                              print_info = True)\n",
    "print(\"Prix: \", price_ant)\n",
    "print(\"Ecart type: \", std_error_ant)\n",
    "print(\"Intervalle de confiance: \", intervalle_ant)\n",
    "\n",
    "#std_error_ant / std_error - 1 # reduction ecart type"
   ]
  },
  {
   "cell_type": "markdown",
   "metadata": {},
   "source": [
    "### Itération nombre pas et chemin"
   ]
  },
  {
   "cell_type": "code",
   "execution_count": null,
   "metadata": {},
   "outputs": [
    {
     "name": "stdout",
     "output_type": "stream",
     "text": [
      "10 10000 10.252561959718344\n",
      "20 10000 10.24955386579374\n",
      "30 10000 10.367117168656707\n",
      "40 10000 10.576852400488375\n",
      "50 10000 10.545147404644506\n",
      "60 10000 10.572537461042511\n",
      "70 10000 10.63403575603293\n",
      "80 10000 10.698433115334879\n",
      "90 10000 10.70061894970842\n",
      "100 10000 10.745428859842105\n",
      "110 10000 10.783574223732154\n",
      "120 10000 10.789729203076806\n",
      "130 10000 10.791381853999168\n",
      "140 10000 10.861213609906988\n",
      "150 10000 10.856888882653035\n",
      "160 10000 10.819008194014334\n",
      "170 10000 10.766966575531223\n",
      "180 10000 10.827560877734955\n",
      "190 10000 10.815424509224764\n",
      "200 10000 10.82252016479841\n",
      "210 10000 10.834142283567573\n",
      "220 10000 10.859427239047422\n",
      "230 10000 10.88377208619735\n",
      "240 10000 10.846205000097983\n",
      "250 10000 10.853774508496791\n"
     ]
    }
   ],
   "source": [
    "###### test boucle\n",
    "from itertools import product\n",
    "liste_chemin = [10000 * i for i in range(1, 11)]\n",
    "liste_pas_chemin = [(10000 * i, int((end_date - start_date).days / 2)) for i in range(1, 11)]\n",
    "liste_pas = [10 * i for i in range(1, 31)]\n",
    "combinations = list(product(liste_chemin,liste_pas))\n",
    "dico_price = {}\n",
    "\n",
    "def test_boucle(combi):\n",
    "    for (path,pas) in combi:\n",
    "        brownian = Brownian(period, pas, path, 1)\n",
    "        price, std_error, intervalle = pricer.LSM(brownian, market, method='vector', antithetic=True, \n",
    "                                                  poly_degree=2, model_type=\"polynomial\",\n",
    "                                                  print_info = False)\n",
    "        if intervalle[0] <= arbre.prix_option <= intervalle[1]:\n",
    "            if int(arbre.prix_option * 100) / 100 == int(price * 100) / 100:# and std_error < 0.01:\n",
    "                dico_price[(pas,path)] = {'vrai prix': arbre.prix_option,'price': round(price, 4) ,'ecart-type': round(std_error, 4), \n",
    "                'min': round(intervalle[0], 4), 'max':round(intervalle[1], 4), 'proche': \"✅    \"}\n",
    "                break\n",
    "            if int(price * 100) / 100 - 0.01 <= int(arbre.prix_option * 100) / 100 <= int(price * 100) / 100 + 0.01:# and std_error < 0.01:\n",
    "                dico_price[(pas,path)] = {'vrai prix': arbre.prix_option,'price': round(price, 4) ,'ecart-type': round(std_error, 4), \n",
    "                'min': round(intervalle[0], 4), 'max':round(intervalle[1], 4),'proche':'❌    '}\n",
    "        print(pas,path, price)\n",
    "\n",
    "test_boucle(combinations)\n",
    "test_boucle(liste_pas_chemin)\n",
    "pd.DataFrame(dico_price)"
   ]
  },
  {
   "cell_type": "code",
   "execution_count": null,
   "metadata": {},
   "outputs": [
    {
     "name": "stdout",
     "output_type": "stream",
     "text": [
      "Nb chemins non antithetic: 10000\n",
      "Prix min ('non antithetic', 'américaine', 'vector'): 14.206988140219405\n",
      "Prix max ('non antithetic', 'américaine', 'vector'): 15.024044644362519\n",
      "Nb chemins antithetic: 10000\n",
      "Prix min ('antithetic', 'américaine', 'vector'): 14.424295704137034\n",
      "Prix max ('antithetic', 'américaine', 'vector'): 14.810330706710904\n",
      "Prix:  14.615516392290962 0.20426412603577876\n",
      "Prix antithetic:  14.617313205423969 0.09650875064346773\n"
     ]
    },
    {
     "data": {
      "text/plain": [
       "-0.5275296131707272"
      ]
     },
     "execution_count": 5,
     "metadata": {},
     "output_type": "execute_result"
    }
   ],
   "source": [
    "nb_pas = int((end_date - start_date).days / 2)\n",
    "nb_chemin = 10000\n",
    "seed = 1\n",
    "method = 'vector'        # vector ou scalar\n",
    "model_type=\"polynomial\"  # \"polynomial\" \"laguerre\" \"hermite\" \"legendre\" \"chebyshev\"\n",
    "degree_polynome = 2      # utile pour polynomial, laguerre, hermite, legendre, chebyshev\n",
    "\n",
    "# non antithetic\n",
    "brownian = Brownian(period, nb_pas, nb_chemin, seed)\n",
    "price, std_error_non_antithetic, intervalle = pricer.LSM(brownian, market, method=method, \n",
    "                              antithetic=False,poly_degree=degree_polynome, model_type=model_type,\n",
    "                              print_info = True)\n",
    "\n",
    "# antithetic\n",
    "brownian = Brownian(period, nb_pas, nb_chemin, seed)\n",
    "price_antithetic, std_error_antithetic, intervalle = pricer.LSM(brownian, market, method=method, \n",
    "                              antithetic=True,poly_degree=degree_polynome, model_type=model_type,\n",
    "                              print_info = True)\n",
    "print(\"Prix: \", price, std_error_non_antithetic)\n",
    "print(\"Prix antithetic: \", price_antithetic, std_error_antithetic)\n",
    "std_error_antithetic/std_error_non_antithetic - 1\n"
   ]
  },
  {
   "cell_type": "markdown",
   "metadata": {},
   "source": [
    "### Grecques"
   ]
  },
  {
   "cell_type": "code",
   "execution_count": 6,
   "metadata": {},
   "outputs": [
    {
     "name": "stdout",
     "output_type": "stream",
     "text": [
      "Delta : -0.37212091960992755\n",
      "Vega : 0.38287310672401276\n",
      "Theta : -0.03405000295189966\n",
      "Gamma : 0.012178115046128646\n",
      "Vomma : -0.018469466045356597\n"
     ]
    }
   ],
   "source": [
    "pricer_options = {\n",
    "    \"method\": \"vector\",\n",
    "    \"poly_degree\": 3,\n",
    "    \"model_type\": \"polynomial\",\n",
    "    \"antithetic\": False\n",
    "}\n",
    "\n",
    "brownian = Brownian(period, nb_pas, nb_chemin, seed)\n",
    "\n",
    "option_deriv = OptionDerivatives(option, market, pricer, pricer_options)\n",
    " \n",
    "#print(\"Prix :\", option_deriv.price(option_deriv.parameters))\n",
    "print(\"Delta :\", option_deriv.delta(brownian))\n",
    "print(\"Vega :\", option_deriv.vega(brownian)/100)\n",
    "print(\"Theta :\", option_deriv.theta(brownian)/100)\n",
    "print(\"Gamma :\", option_deriv.gamma(brownian))\n",
    "print(\"Vomma :\", option_deriv.vomma(brownian)/100)\n"
   ]
  },
  {
   "cell_type": "code",
   "execution_count": 5,
   "metadata": {},
   "outputs": [
    {
     "data": {
      "text/plain": [
       "np.float64(-8.7105062608671)"
      ]
     },
     "execution_count": 5,
     "metadata": {},
     "output_type": "execute_result"
    }
   ],
   "source": [
    "option_deriv.delta() * 20"
   ]
  }
 ],
 "metadata": {
  "kernelspec": {
   "display_name": "Python 3",
   "language": "python",
   "name": "python3"
  },
  "language_info": {
   "codemirror_mode": {
    "name": "ipython",
    "version": 3
   },
   "file_extension": ".py",
   "mimetype": "text/x-python",
   "name": "python",
   "nbconvert_exporter": "python",
   "pygments_lexer": "ipython3",
   "version": "3.13.2"
  }
 },
 "nbformat": 4,
 "nbformat_minor": 2
}
