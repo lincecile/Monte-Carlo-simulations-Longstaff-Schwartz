{
 "cells": [
  {
   "cell_type": "markdown",
   "metadata": {},
   "source": [
    "####   Exemple"
   ]
  },
  {
   "cell_type": "code",
   "execution_count": 1,
   "metadata": {},
   "outputs": [],
   "source": [
    "from Classes_Both.module_marche import DonneeMarche\n",
    "from Classes_MonteCarlo_LSM.module_brownian import Brownian\n",
    "from Classes_MonteCarlo_LSM.module_LSM import LSM_method\n",
    "from Classes_Both.module_option import Option\n",
    "from Classes_Both.derivatives import OptionDerivatives, OptionDerivativesParameters\n",
    "import datetime as dt\n",
    "import numpy as np\n",
    "import time\n",
    "from Classes_TrinomialTree.module_arbre_noeud import Arbre\n",
    "import matplotlib.pyplot as plt\n",
    "import pandas as pd"
   ]
  },
  {
   "cell_type": "markdown",
   "metadata": {},
   "source": [
    "### Paramètre"
   ]
  },
  {
   "cell_type": "code",
   "execution_count": 2,
   "metadata": {},
   "outputs": [
    {
     "name": "stdout",
     "output_type": "stream",
     "text": [
      "Prix arbre option 9.867787904968338\n"
     ]
    }
   ],
   "source": [
    "start_date = dt.datetime(2025, 4, 4)\n",
    "end_date = dt.datetime(2026, 4, 4)\n",
    "\n",
    "market = DonneeMarche(date_debut= start_date,\n",
    "volatilite=0.30, \n",
    "taux_interet=0.05, \n",
    "taux_actualisation=0.05,\n",
    "# dividends=[{\"ex_div_date\": dt.datetime(2024, 4, 21), \"amount\": 3, \"rate\": 0}], \n",
    "dividende_ex_date = dt.datetime(2025, 1, 1),\n",
    "dividende_montant = 0,\n",
    "dividende_rate=0,\n",
    "prix_spot=100)\n",
    "\n",
    "optionA = Option(date_pricing=start_date, \n",
    "                maturite=end_date, \n",
    "                prix_exercice=100, call=False, americaine=True)\n",
    "\n",
    "optionB = Option(date_pricing=start_date, \n",
    "                maturite=end_date, \n",
    "                prix_exercice=102, call=False, americaine=True)\n",
    "# bermudien, 4 de chaque mois, donc mettre 1 pas de temps à chaque mois\n",
    "\n",
    "optionC = Option(date_pricing=start_date, \n",
    "                maturite=end_date, # ici prix strike inultile, et type call put inutile\n",
    "                prix_exercice=107, call=True, americaine=True)\n",
    "\n",
    "pricer = LSM_method(optionC)\n",
    "\n",
    "# nombre d'année entre début et fin \n",
    "period = (end_date - start_date).days / 365\n",
    "\n",
    "nb_pas_arbre = 1000\n",
    "arbre = Arbre(nb_pas_arbre, market, optionA, pruning = True)\n",
    "arbre.pricer_arbre()\n",
    "\n",
    "print(f\"Prix arbre option {arbre.prix_option}\")"
   ]
  },
  {
   "cell_type": "markdown",
   "metadata": {},
   "source": [
    "### Test solo"
   ]
  },
  {
   "cell_type": "code",
   "execution_count": 3,
   "metadata": {},
   "outputs": [
    {
     "name": "stdout",
     "output_type": "stream",
     "text": [
      "Nb chemins non antithetic: 10000\n",
      "Prix min ('non antithetic', 'américaine', 'vector'): 0.7554609301551596\n",
      "Prix max ('non antithetic', 'américaine', 'vector'): 0.7721395704730283\n",
      "Prix:  0.7638002503140939\n",
      "Ecart type:  0.0041696600794671815\n"
     ]
    }
   ],
   "source": [
    "nb_pas = 100 #12 #10000 #int((end_date - start_date).days / 2)*2\n",
    "nb_chemin = 10000\n",
    "seed = 1\n",
    "method = 'vector'        # vector ou scalar\n",
    "model_type=\"polynomial\"  # \"polynomial\" \"laguerre\" \"hermite\" \"legendre\" \"chebyshev\"\n",
    "degree_polynome = 2      # utile pour polynomial, laguerre, hermite, legendre, chebyshev\n",
    "\n",
    "brownian = Brownian(period, nb_pas, nb_chemin, seed)\n",
    "price, std_error, intervalle = pricer.LSM(brownian, market, method=method, \n",
    "                              antithetic=False,poly_degree=degree_polynome, model_type=model_type,\n",
    "                              print_info = True)\n",
    "print(\"Prix: \", price)\n",
    "print(\"Ecart type: \", std_error)    \n"
   ]
  },
  {
   "cell_type": "markdown",
   "metadata": {},
   "source": [
    "### Itération nombre pas et chemin"
   ]
  },
  {
   "cell_type": "code",
   "execution_count": null,
   "metadata": {},
   "outputs": [
    {
     "name": "stdout",
     "output_type": "stream",
     "text": [
      "10 10000 14.526973161333691\n",
      "20 10000 14.530328125307813\n",
      "30 10000 14.75643479573864\n",
      "40 10000 14.68480805766634\n",
      "365 10000 14.617313205423969\n",
      "365 20000 14.776423056455815\n",
      "365 30000 14.724431473696399\n",
      "365 40000 14.688987932695385\n",
      "365 50000 14.698631369018662\n",
      "365 60000 14.696266631366672\n",
      "365 70000 14.683923758225264\n",
      "365 80000 14.695121525090869\n",
      "365 90000 14.704312852953846\n",
      "365 100000 14.690874178371825\n"
     ]
    },
    {
     "data": {
      "text/html": [
       "<div>\n",
       "<style scoped>\n",
       "    .dataframe tbody tr th:only-of-type {\n",
       "        vertical-align: middle;\n",
       "    }\n",
       "\n",
       "    .dataframe tbody tr th {\n",
       "        vertical-align: top;\n",
       "    }\n",
       "\n",
       "    .dataframe thead tr th {\n",
       "        text-align: left;\n",
       "    }\n",
       "</style>\n",
       "<table border=\"1\" class=\"dataframe\">\n",
       "  <thead>\n",
       "    <tr>\n",
       "      <th></th>\n",
       "      <th>50</th>\n",
       "      <th>365</th>\n",
       "    </tr>\n",
       "    <tr>\n",
       "      <th></th>\n",
       "      <th>10000</th>\n",
       "      <th>30000</th>\n",
       "    </tr>\n",
       "  </thead>\n",
       "  <tbody>\n",
       "    <tr>\n",
       "      <th>vrai prix</th>\n",
       "      <td>14.71668</td>\n",
       "      <td>14.71668</td>\n",
       "    </tr>\n",
       "    <tr>\n",
       "      <th>price</th>\n",
       "      <td>14.7126</td>\n",
       "      <td>14.7244</td>\n",
       "    </tr>\n",
       "    <tr>\n",
       "      <th>ecart-type</th>\n",
       "      <td>0.1083</td>\n",
       "      <td>0.0629</td>\n",
       "    </tr>\n",
       "    <tr>\n",
       "      <th>min</th>\n",
       "      <td>14.496</td>\n",
       "      <td>14.5986</td>\n",
       "    </tr>\n",
       "    <tr>\n",
       "      <th>max</th>\n",
       "      <td>14.9292</td>\n",
       "      <td>14.8503</td>\n",
       "    </tr>\n",
       "    <tr>\n",
       "      <th>proche</th>\n",
       "      <td>✅</td>\n",
       "      <td>❌</td>\n",
       "    </tr>\n",
       "  </tbody>\n",
       "</table>\n",
       "</div>"
      ],
      "text/plain": [
       "                 50        365\n",
       "               10000     30000\n",
       "vrai prix   14.71668  14.71668\n",
       "price        14.7126   14.7244\n",
       "ecart-type    0.1083    0.0629\n",
       "min           14.496   14.5986\n",
       "max          14.9292   14.8503\n",
       "proche         ✅         ❌    "
      ]
     },
     "execution_count": 4,
     "metadata": {},
     "output_type": "execute_result"
    }
   ],
   "source": [
    "###### test boucle\n",
    "from itertools import product\n",
    "liste_chemin = [10000 * i for i in range(1, 11)]\n",
    "liste_pas_chemin = [(10000 * i, int((end_date - start_date).days / 2)) for i in range(1, 11)]\n",
    "liste_pas = [10 * i for i in range(1, 31)]\n",
    "combinations = list(product(liste_chemin,liste_pas))\n",
    "dico_price = {}\n",
    "\n",
    "def test_boucle(combi):\n",
    "    for (path,pas) in combi:\n",
    "        brownian = Brownian(period, pas, path, 1)\n",
    "        price, std_error, intervalle = pricer.LSM(brownian, market, method='vector', antithetic=True, \n",
    "                                                  poly_degree=2, model_type=\"polynomial\",\n",
    "                                                  print_info = False)\n",
    "        if intervalle[0] <= arbre.prix_option <= intervalle[1]:\n",
    "            if int(arbre.prix_option * 100) / 100 == int(price * 100) / 100:# and std_error < 0.01:\n",
    "                dico_price[(pas,path)] = {'vrai prix': arbre.prix_option,'price': round(price, 4) ,'ecart-type': round(std_error, 4), \n",
    "                'min': round(intervalle[0], 4), 'max':round(intervalle[1], 4), 'proche': \"✅    \"}\n",
    "                break\n",
    "            if int(price * 100) / 100 - 0.01 <= int(arbre.prix_option * 100) / 100 <= int(price * 100) / 100 + 0.01:# and std_error < 0.01:\n",
    "                dico_price[(pas,path)] = {'vrai prix': arbre.prix_option,'price': round(price, 4) ,'ecart-type': round(std_error, 4), \n",
    "                'min': round(intervalle[0], 4), 'max':round(intervalle[1], 4),'proche':'❌    '}\n",
    "        print(pas,path, price)\n",
    "\n",
    "test_boucle(combinations)\n",
    "test_boucle(liste_pas_chemin)\n",
    "pd.DataFrame(dico_price)"
   ]
  },
  {
   "cell_type": "code",
   "execution_count": null,
   "metadata": {},
   "outputs": [
    {
     "name": "stdout",
     "output_type": "stream",
     "text": [
      "Nb chemins non antithetic: 10000\n",
      "Prix min ('non antithetic', 'américaine', 'vector'): 14.206988140219405\n",
      "Prix max ('non antithetic', 'américaine', 'vector'): 15.024044644362519\n",
      "Nb chemins antithetic: 10000\n",
      "Prix min ('antithetic', 'américaine', 'vector'): 14.424295704137034\n",
      "Prix max ('antithetic', 'américaine', 'vector'): 14.810330706710904\n",
      "Prix:  14.615516392290962 0.20426412603577876\n",
      "Prix antithetic:  14.617313205423969 0.09650875064346773\n"
     ]
    },
    {
     "data": {
      "text/plain": [
       "-0.5275296131707272"
      ]
     },
     "execution_count": 5,
     "metadata": {},
     "output_type": "execute_result"
    }
   ],
   "source": [
    "nb_pas = int((end_date - start_date).days / 2)\n",
    "nb_chemin = 10000\n",
    "seed = 1\n",
    "method = 'vector'        # vector ou scalar\n",
    "model_type=\"polynomial\"  # \"polynomial\" \"laguerre\" \"hermite\" \"legendre\" \"chebyshev\"\n",
    "degree_polynome = 2      # utile pour polynomial, laguerre, hermite, legendre, chebyshev\n",
    "\n",
    "# non antithetic\n",
    "brownian = Brownian(period, nb_pas, nb_chemin, seed)\n",
    "price, std_error_non_antithetic, intervalle = pricer.LSM(brownian, market, method=method, \n",
    "                              antithetic=False,poly_degree=degree_polynome, model_type=model_type,\n",
    "                              print_info = True)\n",
    "\n",
    "# antithetic\n",
    "brownian = Brownian(period, nb_pas, nb_chemin, seed)\n",
    "price_antithetic, std_error_antithetic, intervalle = pricer.LSM(brownian, market, method=method, \n",
    "                              antithetic=True,poly_degree=degree_polynome, model_type=model_type,\n",
    "                              print_info = True)\n",
    "print(\"Prix: \", price, std_error_non_antithetic)\n",
    "print(\"Prix antithetic: \", price_antithetic, std_error_antithetic)\n",
    "std_error_antithetic/std_error_non_antithetic - 1\n"
   ]
  },
  {
   "cell_type": "markdown",
   "metadata": {},
   "source": [
    "### Grecques"
   ]
  },
  {
   "cell_type": "code",
   "execution_count": 6,
   "metadata": {},
   "outputs": [
    {
     "name": "stdout",
     "output_type": "stream",
     "text": [
      "Prix : (0.7638002503140939, 0.0041696600794671815, (0.7554609301551596, 0.7721395704730283))\n",
      "Delta : -0.01339760133817669\n"
     ]
    }
   ],
   "source": [
    "option_deriv = OptionDerivatives(optionC, market, pricer)  \n",
    "print(\"Prix :\", option_deriv.price(option_deriv.parameters))\n",
    "print(\"Delta :\", option_deriv.delta())\n",
    "# print(\"Vega :\", option_deriv.vega())\n",
    "# print(\"Theta :\", option_deriv.theta())\n",
    "# print(\"Gamma :\", option_deriv.gamma())\n"
   ]
  },
  {
   "cell_type": "markdown",
   "metadata": {},
   "source": []
  },
  {
   "cell_type": "code",
   "execution_count": 5,
   "metadata": {},
   "outputs": [
    {
     "data": {
      "text/plain": [
       "-8.616579708374346"
      ]
     },
     "execution_count": 5,
     "metadata": {},
     "output_type": "execute_result"
    }
   ],
   "source": [
    "-0.4308289854187173*20"
   ]
  },
  {
   "cell_type": "code",
   "execution_count": 5,
   "metadata": {},
   "outputs": [
    {
     "data": {
      "text/plain": [
       "-13.39760133817669"
      ]
     },
     "execution_count": 5,
     "metadata": {},
     "output_type": "execute_result"
    }
   ],
   "source": [
    "-0.01339760133817669*1000"
   ]
  },
  {
   "cell_type": "code",
   "execution_count": null,
   "metadata": {},
   "outputs": [],
   "source": [
    "# prix C = 0.76\n",
    "# delta C = 11"
   ]
  }
 ],
 "metadata": {
  "kernelspec": {
   "display_name": "base",
   "language": "python",
   "name": "python3"
  },
  "language_info": {
   "codemirror_mode": {
    "name": "ipython",
    "version": 3
   },
   "file_extension": ".py",
   "mimetype": "text/x-python",
   "name": "python",
   "nbconvert_exporter": "python",
   "pygments_lexer": "ipython3",
   "version": "3.12.4"
  }
 },
 "nbformat": 4,
 "nbformat_minor": 2
}
