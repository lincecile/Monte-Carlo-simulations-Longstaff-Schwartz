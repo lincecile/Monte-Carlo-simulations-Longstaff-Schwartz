{
 "cells": [
  {
   "cell_type": "markdown",
   "metadata": {},
   "source": [
    "# Exemple d'utilisation du pricer"
   ]
  },
  {
   "cell_type": "code",
   "execution_count": 1,
   "metadata": {},
   "outputs": [],
   "source": [
    "import concurrent.futures\n",
    "import time\n",
    "import pandas as pd\n",
    "import datetime as dt\n",
    "import sys\n",
    "import plotly.graph_objects as go\n",
    "import numpy as np\n",
    "import warnings\n",
    "warnings.filterwarnings(\"ignore\")\n",
    "\n",
    "from Classes_Both.module_enums import TypeBarriere, DirectionBarriere, ConventionBaseCalendaire, MethodeCalcul, RegType\n",
    "from Classes_Both.module_marche import DonneeMarche\n",
    "from Classes_Both.module_option import Option\n",
    "from Classes_TrinomialTree.module_barriere import Barriere\n",
    "from Classes_TrinomialTree.module_arbre_noeud import Arbre\n",
    "from Classes_Both.module_pricing_analysis import StrikeComparison, VolComparison, RateComparison\n",
    "from Classes_Both.module_black_scholes import BlackAndScholes\n",
    "from Classes_TrinomialTree.module_grecques_empiriques import GrecquesEmpiriques\n",
    "\n",
    "from Classes_MonteCarlo_LSM.module_brownian import Brownian\n",
    "from Classes_MonteCarlo_LSM.module_LSM import LSM_method\n",
    "from Classes_MonteCarlo_LSM.module_graph import LSMGraph\n",
    "\n",
    "from Classes_Both.derivatives import OptionDerivatives, OptionDerivativesParameters\n"
   ]
  },
  {
   "cell_type": "markdown",
   "metadata": {},
   "source": [
    "## Input et Création des objets"
   ]
  },
  {
   "cell_type": "code",
   "execution_count": 2,
   "metadata": {},
   "outputs": [],
   "source": [
    "date_pricing = dt.date(2024, 1, 13)\n",
    "spot = 100\n",
    "volatite = 0.2\n",
    "risk_free_rate = 0.02\n",
    "dividende_ex_date = dt.date.today()\n",
    "dividende_montant = 0\n",
    "maturite = dt.date(2024, 10, 23)\n",
    "strike = 101\n",
    "option_exercice = 'Européenne' \n",
    "option_type = \"Call\"\n",
    "convention_base_calendaire = 365\n",
    "parametre_alpha = 3\n",
    "pruning = True\n",
    "epsilon_arbre = 1e-15\n",
    "nb_pas = 100\n",
    "nb_chemin = 100000\n",
    "seed_choice = 42\n",
    "antithetic_choice = False\n",
    "poly_degree = 2\n",
    "regress_method = \"Polynomial\"\n",
    "barriere = Barriere(niveau_barriere=0, type_barriere=None, direction_barriere=None)\n",
    "donnee_marche = DonneeMarche(date_pricing, spot, volatite, risk_free_rate, risk_free_rate, dividende_ex_date, dividende_montant)\n",
    "option = Option(maturite, strike, barriere=barriere, \n",
    "                americaine=False if option_exercice == 'Européenne' else True, call=True if option_type == \"Call\" else False,\n",
    "                date_pricing=date_pricing)\n",
    "\n",
    "pricer_arbre = Arbre(nb_pas=nb_pas, donnee_marche=donnee_marche, option=option, convention_base_calendaire=convention_base_calendaire, parametre_alpha=parametre_alpha, pruning=pruning, epsilon=epsilon_arbre)\n",
    "pricer_arbre.pricer_arbre()\n",
    "\n",
    "brownian = Brownian(time_to_maturity=(maturite-date_pricing).days / convention_base_calendaire, nb_step=nb_pas, nb_trajectoire=nb_chemin, seed=seed_choice)\n",
    "pricer_LSM = LSM_method(option)\n",
    "\n",
    "bns = BlackAndScholes(modele=pricer_arbre)\n"
   ]
  },
  {
   "cell_type": "markdown",
   "metadata": {},
   "source": [
    "### Prix de l'arbre"
   ]
  },
  {
   "cell_type": "code",
   "execution_count": 3,
   "metadata": {},
   "outputs": [
    {
     "data": {
      "text/plain": [
       "7.290791114447453"
      ]
     },
     "execution_count": 3,
     "metadata": {},
     "output_type": "execute_result"
    }
   ],
   "source": [
    "pricer_arbre.prix_option"
   ]
  },
  {
   "cell_type": "markdown",
   "metadata": {},
   "source": [
    "### Prix de black scholes"
   ]
  },
  {
   "cell_type": "code",
   "execution_count": 4,
   "metadata": {},
   "outputs": [
    {
     "data": {
      "text/plain": [
       "7.292591439771627"
      ]
     },
     "execution_count": 4,
     "metadata": {},
     "output_type": "execute_result"
    }
   ],
   "source": [
    "bns.bs_pricer()"
   ]
  },
  {
   "cell_type": "markdown",
   "metadata": {},
   "source": [
    "### Prix de LSM"
   ]
  },
  {
   "cell_type": "code",
   "execution_count": 5,
   "metadata": {},
   "outputs": [
    {
     "data": {
      "text/plain": [
       "(7.3010821280856515,\n",
       " 0.03672867462542061,\n",
       " (7.2276247788348105, 7.3745394773364925))"
      ]
     },
     "execution_count": 5,
     "metadata": {},
     "output_type": "execute_result"
    }
   ],
   "source": [
    "price, std_error, intevalles = pricer_LSM.LSM(brownian, donnee_marche, \n",
    "                                            method= 'vector',\n",
    "                                            antithetic = antithetic_choice,\n",
    "                                            poly_degree=poly_degree, \n",
    "                                            model_type=regress_method)\n",
    "price, std_error, intevalles"
   ]
  },
  {
   "cell_type": "markdown",
   "metadata": {},
   "source": [
    "### Graphique"
   ]
  },
  {
   "cell_type": "code",
   "execution_count": 6,
   "metadata": {},
   "outputs": [],
   "source": [
    "graph = LSMGraph(option=option, market=donnee_marche)\n"
   ]
  },
  {
   "cell_type": "code",
   "execution_count": 7,
   "metadata": {},
   "outputs": [],
   "source": [
    "# graph.afficher_mouvements_browniens(brownian,nb_trajectoires=nb_chemin)\n",
    "# trajectoire = pricer_LSM.Price(market=donnee_marche, brownian=brownian)\n",
    "# graph_spot = graph.afficher_trajectoires_prix(trajectoire,brownian,nb_trajectoires=nb_chemin)\n",
    "# graph_spot.show()"
   ]
  },
  {
   "cell_type": "code",
   "execution_count": 8,
   "metadata": {},
   "outputs": [
    {
     "data": {
      "application/vnd.plotly.v1+json": {
       "config": {
        "plotlyServerURL": "https://plot.ly"
       },
       "data": [
        {
         "error_y": {
          "array": [
           0.7518816636837393
          ],
          "type": "data",
          "visible": true
         },
         "marker": {
          "color": "#1f77b4",
          "size": 12
         },
         "mode": "markers",
         "name": "vector (0.03s)",
         "type": "scatter",
         "x": [
          "vector"
         ],
         "y": [
          7.326520128557066
         ]
        },
        {
         "error_y": {
          "array": [
           0.7518816636837393
          ],
          "type": "data",
          "visible": true
         },
         "marker": {
          "color": "#ff7f0e",
          "size": 12
         },
         "mode": "markers",
         "name": "scalar (24.05s)",
         "type": "scatter",
         "x": [
          "scalar"
         ],
         "y": [
          7.3265201285570685
         ]
        }
       ],
       "layout": {
        "annotations": [
         {
          "showarrow": false,
          "text": "Prix moyen: 7.3265",
          "x": 1,
          "y": 7.326520128557068,
          "yshift": 10
         }
        ],
        "shapes": [
         {
          "line": {
           "color": "black",
           "dash": "dash",
           "width": 2
          },
          "type": "line",
          "x0": -0.5,
          "x1": 1.5,
          "y0": 7.326520128557068,
          "y1": 7.326520128557068
         }
        ],
        "template": {
         "data": {
          "bar": [
           {
            "error_x": {
             "color": "#2a3f5f"
            },
            "error_y": {
             "color": "#2a3f5f"
            },
            "marker": {
             "line": {
              "color": "white",
              "width": 0.5
             },
             "pattern": {
              "fillmode": "overlay",
              "size": 10,
              "solidity": 0.2
             }
            },
            "type": "bar"
           }
          ],
          "barpolar": [
           {
            "marker": {
             "line": {
              "color": "white",
              "width": 0.5
             },
             "pattern": {
              "fillmode": "overlay",
              "size": 10,
              "solidity": 0.2
             }
            },
            "type": "barpolar"
           }
          ],
          "carpet": [
           {
            "aaxis": {
             "endlinecolor": "#2a3f5f",
             "gridcolor": "#C8D4E3",
             "linecolor": "#C8D4E3",
             "minorgridcolor": "#C8D4E3",
             "startlinecolor": "#2a3f5f"
            },
            "baxis": {
             "endlinecolor": "#2a3f5f",
             "gridcolor": "#C8D4E3",
             "linecolor": "#C8D4E3",
             "minorgridcolor": "#C8D4E3",
             "startlinecolor": "#2a3f5f"
            },
            "type": "carpet"
           }
          ],
          "choropleth": [
           {
            "colorbar": {
             "outlinewidth": 0,
             "ticks": ""
            },
            "type": "choropleth"
           }
          ],
          "contour": [
           {
            "colorbar": {
             "outlinewidth": 0,
             "ticks": ""
            },
            "colorscale": [
             [
              0,
              "#0d0887"
             ],
             [
              0.1111111111111111,
              "#46039f"
             ],
             [
              0.2222222222222222,
              "#7201a8"
             ],
             [
              0.3333333333333333,
              "#9c179e"
             ],
             [
              0.4444444444444444,
              "#bd3786"
             ],
             [
              0.5555555555555556,
              "#d8576b"
             ],
             [
              0.6666666666666666,
              "#ed7953"
             ],
             [
              0.7777777777777778,
              "#fb9f3a"
             ],
             [
              0.8888888888888888,
              "#fdca26"
             ],
             [
              1,
              "#f0f921"
             ]
            ],
            "type": "contour"
           }
          ],
          "contourcarpet": [
           {
            "colorbar": {
             "outlinewidth": 0,
             "ticks": ""
            },
            "type": "contourcarpet"
           }
          ],
          "heatmap": [
           {
            "colorbar": {
             "outlinewidth": 0,
             "ticks": ""
            },
            "colorscale": [
             [
              0,
              "#0d0887"
             ],
             [
              0.1111111111111111,
              "#46039f"
             ],
             [
              0.2222222222222222,
              "#7201a8"
             ],
             [
              0.3333333333333333,
              "#9c179e"
             ],
             [
              0.4444444444444444,
              "#bd3786"
             ],
             [
              0.5555555555555556,
              "#d8576b"
             ],
             [
              0.6666666666666666,
              "#ed7953"
             ],
             [
              0.7777777777777778,
              "#fb9f3a"
             ],
             [
              0.8888888888888888,
              "#fdca26"
             ],
             [
              1,
              "#f0f921"
             ]
            ],
            "type": "heatmap"
           }
          ],
          "heatmapgl": [
           {
            "colorbar": {
             "outlinewidth": 0,
             "ticks": ""
            },
            "colorscale": [
             [
              0,
              "#0d0887"
             ],
             [
              0.1111111111111111,
              "#46039f"
             ],
             [
              0.2222222222222222,
              "#7201a8"
             ],
             [
              0.3333333333333333,
              "#9c179e"
             ],
             [
              0.4444444444444444,
              "#bd3786"
             ],
             [
              0.5555555555555556,
              "#d8576b"
             ],
             [
              0.6666666666666666,
              "#ed7953"
             ],
             [
              0.7777777777777778,
              "#fb9f3a"
             ],
             [
              0.8888888888888888,
              "#fdca26"
             ],
             [
              1,
              "#f0f921"
             ]
            ],
            "type": "heatmapgl"
           }
          ],
          "histogram": [
           {
            "marker": {
             "pattern": {
              "fillmode": "overlay",
              "size": 10,
              "solidity": 0.2
             }
            },
            "type": "histogram"
           }
          ],
          "histogram2d": [
           {
            "colorbar": {
             "outlinewidth": 0,
             "ticks": ""
            },
            "colorscale": [
             [
              0,
              "#0d0887"
             ],
             [
              0.1111111111111111,
              "#46039f"
             ],
             [
              0.2222222222222222,
              "#7201a8"
             ],
             [
              0.3333333333333333,
              "#9c179e"
             ],
             [
              0.4444444444444444,
              "#bd3786"
             ],
             [
              0.5555555555555556,
              "#d8576b"
             ],
             [
              0.6666666666666666,
              "#ed7953"
             ],
             [
              0.7777777777777778,
              "#fb9f3a"
             ],
             [
              0.8888888888888888,
              "#fdca26"
             ],
             [
              1,
              "#f0f921"
             ]
            ],
            "type": "histogram2d"
           }
          ],
          "histogram2dcontour": [
           {
            "colorbar": {
             "outlinewidth": 0,
             "ticks": ""
            },
            "colorscale": [
             [
              0,
              "#0d0887"
             ],
             [
              0.1111111111111111,
              "#46039f"
             ],
             [
              0.2222222222222222,
              "#7201a8"
             ],
             [
              0.3333333333333333,
              "#9c179e"
             ],
             [
              0.4444444444444444,
              "#bd3786"
             ],
             [
              0.5555555555555556,
              "#d8576b"
             ],
             [
              0.6666666666666666,
              "#ed7953"
             ],
             [
              0.7777777777777778,
              "#fb9f3a"
             ],
             [
              0.8888888888888888,
              "#fdca26"
             ],
             [
              1,
              "#f0f921"
             ]
            ],
            "type": "histogram2dcontour"
           }
          ],
          "mesh3d": [
           {
            "colorbar": {
             "outlinewidth": 0,
             "ticks": ""
            },
            "type": "mesh3d"
           }
          ],
          "parcoords": [
           {
            "line": {
             "colorbar": {
              "outlinewidth": 0,
              "ticks": ""
             }
            },
            "type": "parcoords"
           }
          ],
          "pie": [
           {
            "automargin": true,
            "type": "pie"
           }
          ],
          "scatter": [
           {
            "fillpattern": {
             "fillmode": "overlay",
             "size": 10,
             "solidity": 0.2
            },
            "type": "scatter"
           }
          ],
          "scatter3d": [
           {
            "line": {
             "colorbar": {
              "outlinewidth": 0,
              "ticks": ""
             }
            },
            "marker": {
             "colorbar": {
              "outlinewidth": 0,
              "ticks": ""
             }
            },
            "type": "scatter3d"
           }
          ],
          "scattercarpet": [
           {
            "marker": {
             "colorbar": {
              "outlinewidth": 0,
              "ticks": ""
             }
            },
            "type": "scattercarpet"
           }
          ],
          "scattergeo": [
           {
            "marker": {
             "colorbar": {
              "outlinewidth": 0,
              "ticks": ""
             }
            },
            "type": "scattergeo"
           }
          ],
          "scattergl": [
           {
            "marker": {
             "colorbar": {
              "outlinewidth": 0,
              "ticks": ""
             }
            },
            "type": "scattergl"
           }
          ],
          "scattermapbox": [
           {
            "marker": {
             "colorbar": {
              "outlinewidth": 0,
              "ticks": ""
             }
            },
            "type": "scattermapbox"
           }
          ],
          "scatterpolar": [
           {
            "marker": {
             "colorbar": {
              "outlinewidth": 0,
              "ticks": ""
             }
            },
            "type": "scatterpolar"
           }
          ],
          "scatterpolargl": [
           {
            "marker": {
             "colorbar": {
              "outlinewidth": 0,
              "ticks": ""
             }
            },
            "type": "scatterpolargl"
           }
          ],
          "scatterternary": [
           {
            "marker": {
             "colorbar": {
              "outlinewidth": 0,
              "ticks": ""
             }
            },
            "type": "scatterternary"
           }
          ],
          "surface": [
           {
            "colorbar": {
             "outlinewidth": 0,
             "ticks": ""
            },
            "colorscale": [
             [
              0,
              "#0d0887"
             ],
             [
              0.1111111111111111,
              "#46039f"
             ],
             [
              0.2222222222222222,
              "#7201a8"
             ],
             [
              0.3333333333333333,
              "#9c179e"
             ],
             [
              0.4444444444444444,
              "#bd3786"
             ],
             [
              0.5555555555555556,
              "#d8576b"
             ],
             [
              0.6666666666666666,
              "#ed7953"
             ],
             [
              0.7777777777777778,
              "#fb9f3a"
             ],
             [
              0.8888888888888888,
              "#fdca26"
             ],
             [
              1,
              "#f0f921"
             ]
            ],
            "type": "surface"
           }
          ],
          "table": [
           {
            "cells": {
             "fill": {
              "color": "#EBF0F8"
             },
             "line": {
              "color": "white"
             }
            },
            "header": {
             "fill": {
              "color": "#C8D4E3"
             },
             "line": {
              "color": "white"
             }
            },
            "type": "table"
           }
          ]
         },
         "layout": {
          "annotationdefaults": {
           "arrowcolor": "#2a3f5f",
           "arrowhead": 0,
           "arrowwidth": 1
          },
          "autotypenumbers": "strict",
          "coloraxis": {
           "colorbar": {
            "outlinewidth": 0,
            "ticks": ""
           }
          },
          "colorscale": {
           "diverging": [
            [
             0,
             "#8e0152"
            ],
            [
             0.1,
             "#c51b7d"
            ],
            [
             0.2,
             "#de77ae"
            ],
            [
             0.3,
             "#f1b6da"
            ],
            [
             0.4,
             "#fde0ef"
            ],
            [
             0.5,
             "#f7f7f7"
            ],
            [
             0.6,
             "#e6f5d0"
            ],
            [
             0.7,
             "#b8e186"
            ],
            [
             0.8,
             "#7fbc41"
            ],
            [
             0.9,
             "#4d9221"
            ],
            [
             1,
             "#276419"
            ]
           ],
           "sequential": [
            [
             0,
             "#0d0887"
            ],
            [
             0.1111111111111111,
             "#46039f"
            ],
            [
             0.2222222222222222,
             "#7201a8"
            ],
            [
             0.3333333333333333,
             "#9c179e"
            ],
            [
             0.4444444444444444,
             "#bd3786"
            ],
            [
             0.5555555555555556,
             "#d8576b"
            ],
            [
             0.6666666666666666,
             "#ed7953"
            ],
            [
             0.7777777777777778,
             "#fb9f3a"
            ],
            [
             0.8888888888888888,
             "#fdca26"
            ],
            [
             1,
             "#f0f921"
            ]
           ],
           "sequentialminus": [
            [
             0,
             "#0d0887"
            ],
            [
             0.1111111111111111,
             "#46039f"
            ],
            [
             0.2222222222222222,
             "#7201a8"
            ],
            [
             0.3333333333333333,
             "#9c179e"
            ],
            [
             0.4444444444444444,
             "#bd3786"
            ],
            [
             0.5555555555555556,
             "#d8576b"
            ],
            [
             0.6666666666666666,
             "#ed7953"
            ],
            [
             0.7777777777777778,
             "#fb9f3a"
            ],
            [
             0.8888888888888888,
             "#fdca26"
            ],
            [
             1,
             "#f0f921"
            ]
           ]
          },
          "colorway": [
           "#636efa",
           "#EF553B",
           "#00cc96",
           "#ab63fa",
           "#FFA15A",
           "#19d3f3",
           "#FF6692",
           "#B6E880",
           "#FF97FF",
           "#FECB52"
          ],
          "font": {
           "color": "#2a3f5f"
          },
          "geo": {
           "bgcolor": "white",
           "lakecolor": "white",
           "landcolor": "white",
           "showlakes": true,
           "showland": true,
           "subunitcolor": "#C8D4E3"
          },
          "hoverlabel": {
           "align": "left"
          },
          "hovermode": "closest",
          "mapbox": {
           "style": "light"
          },
          "paper_bgcolor": "white",
          "plot_bgcolor": "white",
          "polar": {
           "angularaxis": {
            "gridcolor": "#EBF0F8",
            "linecolor": "#EBF0F8",
            "ticks": ""
           },
           "bgcolor": "white",
           "radialaxis": {
            "gridcolor": "#EBF0F8",
            "linecolor": "#EBF0F8",
            "ticks": ""
           }
          },
          "scene": {
           "xaxis": {
            "backgroundcolor": "white",
            "gridcolor": "#DFE8F3",
            "gridwidth": 2,
            "linecolor": "#EBF0F8",
            "showbackground": true,
            "ticks": "",
            "zerolinecolor": "#EBF0F8"
           },
           "yaxis": {
            "backgroundcolor": "white",
            "gridcolor": "#DFE8F3",
            "gridwidth": 2,
            "linecolor": "#EBF0F8",
            "showbackground": true,
            "ticks": "",
            "zerolinecolor": "#EBF0F8"
           },
           "zaxis": {
            "backgroundcolor": "white",
            "gridcolor": "#DFE8F3",
            "gridwidth": 2,
            "linecolor": "#EBF0F8",
            "showbackground": true,
            "ticks": "",
            "zerolinecolor": "#EBF0F8"
           }
          },
          "shapedefaults": {
           "line": {
            "color": "#2a3f5f"
           }
          },
          "ternary": {
           "aaxis": {
            "gridcolor": "#DFE8F3",
            "linecolor": "#A2B1C6",
            "ticks": ""
           },
           "baxis": {
            "gridcolor": "#DFE8F3",
            "linecolor": "#A2B1C6",
            "ticks": ""
           },
           "bgcolor": "white",
           "caxis": {
            "gridcolor": "#DFE8F3",
            "linecolor": "#A2B1C6",
            "ticks": ""
           }
          },
          "title": {
           "x": 0.05
          },
          "xaxis": {
           "automargin": true,
           "gridcolor": "#EBF0F8",
           "linecolor": "#EBF0F8",
           "ticks": "",
           "title": {
            "standoff": 15
           },
           "zerolinecolor": "#EBF0F8",
           "zerolinewidth": 2
          },
          "yaxis": {
           "automargin": true,
           "gridcolor": "#EBF0F8",
           "linecolor": "#EBF0F8",
           "ticks": "",
           "title": {
            "standoff": 15
           },
           "zerolinecolor": "#EBF0F8",
           "zerolinewidth": 2
          }
         }
        },
        "title": {
         "text": "Intervalles de confiance des prix (± 2 écart-types)"
        },
        "xaxis": {
         "title": {
          "text": "Méthodes"
         }
        },
        "yaxis": {
         "title": {
          "text": "Prix"
         }
        }
       }
      }
     },
     "metadata": {},
     "output_type": "display_data"
    }
   ],
   "source": [
    "graph_vs = graph.comparer_methodes()\n",
    "graph_vs.show()"
   ]
  },
  {
   "cell_type": "code",
   "execution_count": 7,
   "metadata": {},
   "outputs": [
    {
     "data": {
      "application/vnd.plotly.v1+json": {
       "config": {
        "plotlyServerURL": "https://plot.ly"
       },
       "data": [
        {
         "error_y": {
          "array": [
           0.22583918139104248,
           0.2278129123350212,
           0.23621562328966564,
           0.2307634911120845,
           0.2303668644065965,
           0.2317820653362082,
           0.23353643245608713,
           0.2290525746033612,
           0.23240203493459707,
           0.2322494431672153,
           0.2288253226280639,
           0.2333325523561003,
           0.2358858684747682,
           0.23603760408962873,
           0.2296419226512259,
           0.23064782929046332,
           0.2327372606340734,
           0.23481839940097515,
           0.23401828708846495,
           0.2321143127430735,
           0.22797971158571412,
           0.2364469664430793,
           0.23383323664396838,
           0.23099857366629398,
           0.2315158512500432,
           0.23173299617796367,
           0.23322953611579297,
           0.23108060833241598,
           0.23384290774005925,
           0.22665607807383537,
           0.23270290534024338,
           0.23641001096274752,
           0.23290335043947422,
           0.23005331438823515,
           0.2313083890901134,
           0.23032751229456674,
           0.22811415415965075,
           0.23287544144386887,
           0.23684782840452137,
           0.23140803599999907,
           0.2281298724649321,
           0.23101593539253387,
           0.23322600657780207,
           0.23425434695311714,
           0.23600538709147567,
           0.23197250614242093,
           0.23243360812865707,
           0.2356049727295864,
           0.2315426465721801,
           0.23355093071560412,
           0.23279722710627898,
           0.22981591315697372,
           0.23817751475214302,
           0.23359674873788527,
           0.2297164914795251,
           0.2357856076885185,
           0.23363964367391707,
           0.2325500282299437,
           0.23426229094113413,
           0.23054806449153312,
           0.2324172968916901,
           0.2323349860735774,
           0.23568741594905673,
           0.23267903089470432,
           0.2260938118006962,
           0.2345326990422927,
           0.23040957276102236,
           0.23382476156965332,
           0.23149793639264996,
           0.23165102854694403,
           0.23557399287192116,
           0.2338623238961927,
           0.2322869092747838,
           0.23386620119136414,
           0.22995012657813615,
           0.23546509402729027,
           0.23320533913680871,
           0.23203266045974347,
           0.23544336541893654,
           0.23530365291312083,
           0.232700989763083,
           0.22551199863534854,
           0.2294314149522999,
           0.23171271944317393,
           0.23353562516063506,
           0.22866451898473522,
           0.22656699529123936,
           0.23184559707306437,
           0.23090995240294618,
           0.23268344502187335,
           0.2365556566011627,
           0.2374451783018773,
           0.22829296448601777,
           0.22547131171259133,
           0.2288854594685446,
           0.22807522425660737,
           0.23132394762589029,
           0.22977677379028694,
           0.2292236266161287,
           0.23066100699141515
          ],
          "type": "data",
          "visible": true
         },
         "marker": {
          "color": "blue",
          "size": 10
         },
         "mode": "markers",
         "name": "Prix estimés",
         "type": "scatter",
         "x": [
          1,
          2,
          3,
          4,
          5,
          6,
          7,
          8,
          9,
          10,
          11,
          12,
          13,
          14,
          15,
          16,
          17,
          18,
          19,
          20,
          21,
          22,
          23,
          24,
          25,
          26,
          27,
          28,
          29,
          30,
          31,
          32,
          33,
          34,
          35,
          36,
          37,
          38,
          39,
          40,
          41,
          42,
          43,
          44,
          45,
          46,
          47,
          48,
          49,
          50,
          51,
          52,
          53,
          54,
          55,
          56,
          57,
          58,
          59,
          60,
          61,
          62,
          63,
          64,
          65,
          66,
          67,
          68,
          69,
          70,
          71,
          72,
          73,
          74,
          75,
          76,
          77,
          78,
          79,
          80,
          81,
          82,
          83,
          84,
          85,
          86,
          87,
          88,
          89,
          90,
          91,
          92,
          93,
          94,
          95,
          96,
          97,
          98,
          99,
          100
         ],
         "y": [
          7.127490486770842,
          7.124752901677432,
          7.365786159979227,
          7.2035617322272545,
          7.283342264349933,
          7.220101875342619,
          7.393292763614646,
          7.1590835870886265,
          7.332052464280519,
          7.237465235843562,
          7.181954484953062,
          7.317692940972332,
          7.425591615061891,
          7.279687669642334,
          7.17734421891888,
          7.341299520685512,
          7.161718370891226,
          7.305145155662323,
          7.269320049634068,
          7.254058112074646,
          7.124691884219035,
          7.5283779283132155,
          7.379499715985861,
          7.30156283793996,
          7.371379848363422,
          7.32855315960933,
          7.316436466281112,
          7.236636325424758,
          7.397638519912631,
          7.130439806567441,
          7.256957854901335,
          7.467534851385343,
          7.307689755340398,
          7.269771037053279,
          7.228005013925987,
          7.256584024088385,
          7.156740624844545,
          7.411994606503501,
          7.433745498831296,
          7.258896929253571,
          7.110713756844252,
          7.27649978422386,
          7.364192231662685,
          7.300783803792001,
          7.4840520696724,
          7.260730946888596,
          7.326513450474584,
          7.3761568152206936,
          7.3327628422668685,
          7.14428909273358,
          7.309718619023119,
          7.269440565914477,
          7.4633203212855035,
          7.334593240324163,
          7.171767373803913,
          7.354523813475087,
          7.351668786658435,
          7.208060594271637,
          7.304058477287081,
          7.2387868729520735,
          7.384239546978762,
          7.271413651413883,
          7.302197608423496,
          7.311173495839494,
          7.128573878962107,
          7.256416998351036,
          7.227323446972531,
          7.219464105055298,
          7.199818606482847,
          7.2688465349351725,
          7.30560622668445,
          7.5606349077021875,
          7.370635112185439,
          7.335154539292817,
          7.264977274695053,
          7.413012874359628,
          7.278423004069741,
          7.334146864366756,
          7.29058813910256,
          7.403242387160038,
          7.214463362368686,
          7.075821737628732,
          7.124102779507696,
          7.329264920386554,
          7.254284806077916,
          6.9920526384784605,
          7.077133613728493,
          7.291234789580657,
          7.218735928271469,
          7.310105270997117,
          7.392573335213435,
          7.426919232856302,
          7.050824435908333,
          7.023401926089591,
          7.068599771807369,
          7.094702255494893,
          7.248230874701148,
          7.259055200612487,
          7.209311197648852,
          7.292363698520473
         ]
        },
        {
         "fill": "toself",
         "fillcolor": "rgba(0, 0, 255, 0.1)",
         "hoverinfo": "skip",
         "line": {
          "color": "rgba(0, 0, 255, 0)"
         },
         "showlegend": false,
         "type": "scatter",
         "x": [
          1,
          2,
          3,
          4,
          5,
          6,
          7,
          8,
          9,
          10,
          11,
          12,
          13,
          14,
          15,
          16,
          17,
          18,
          19,
          20,
          21,
          22,
          23,
          24,
          25,
          26,
          27,
          28,
          29,
          30,
          31,
          32,
          33,
          34,
          35,
          36,
          37,
          38,
          39,
          40,
          41,
          42,
          43,
          44,
          45,
          46,
          47,
          48,
          49,
          50,
          51,
          52,
          53,
          54,
          55,
          56,
          57,
          58,
          59,
          60,
          61,
          62,
          63,
          64,
          65,
          66,
          67,
          68,
          69,
          70,
          71,
          72,
          73,
          74,
          75,
          76,
          77,
          78,
          79,
          80,
          81,
          82,
          83,
          84,
          85,
          86,
          87,
          88,
          89,
          90,
          91,
          92,
          93,
          94,
          95,
          96,
          97,
          98,
          99,
          100,
          100,
          99,
          98,
          97,
          96,
          95,
          94,
          93,
          92,
          91,
          90,
          89,
          88,
          87,
          86,
          85,
          84,
          83,
          82,
          81,
          80,
          79,
          78,
          77,
          76,
          75,
          74,
          73,
          72,
          71,
          70,
          69,
          68,
          67,
          66,
          65,
          64,
          63,
          62,
          61,
          60,
          59,
          58,
          57,
          56,
          55,
          54,
          53,
          52,
          51,
          50,
          49,
          48,
          47,
          46,
          45,
          44,
          43,
          42,
          41,
          40,
          39,
          38,
          37,
          36,
          35,
          34,
          33,
          32,
          31,
          30,
          29,
          28,
          27,
          26,
          25,
          24,
          23,
          22,
          21,
          20,
          19,
          18,
          17,
          16,
          15,
          14,
          13,
          12,
          11,
          10,
          9,
          8,
          7,
          6,
          5,
          4,
          3,
          2,
          1
         ],
         "y": [
          7.3533296681618845,
          7.352565814012453,
          7.602001783268893,
          7.434325223339339,
          7.513709128756529,
          7.451883940678828,
          7.626829196070733,
          7.388136161691988,
          7.564454499215116,
          7.469714679010777,
          7.410779807581126,
          7.551025493328432,
          7.661477483536659,
          7.515725273731962,
          7.406986141570106,
          7.571947349975975,
          7.394455631525299,
          7.539963555063298,
          7.503338336722533,
          7.4861724248177195,
          7.3526715958047495,
          7.764824894756295,
          7.613332952629829,
          7.532561411606253,
          7.602895699613465,
          7.560286155787293,
          7.549666002396905,
          7.467716933757174,
          7.63148142765269,
          7.357095884641277,
          7.489660760241579,
          7.703944862348091,
          7.540593105779872,
          7.499824351441514,
          7.4593134030161,
          7.4869115363829515,
          7.384854779004196,
          7.64487004794737,
          7.670593327235817,
          7.4903049652535705,
          7.338843629309184,
          7.507515719616395,
          7.597418238240487,
          7.535038150745118,
          7.720057456763876,
          7.492703453031017,
          7.558947058603241,
          7.61176178795028,
          7.564305488839048,
          7.377840023449184,
          7.542515846129398,
          7.499256479071451,
          7.701497836037647,
          7.5681899890620485,
          7.4014838652834385,
          7.590309421163605,
          7.585308430332352,
          7.4406106225015805,
          7.538320768228216,
          7.469334937443606,
          7.616656843870452,
          7.50374863748746,
          7.537885024372553,
          7.543852526734199,
          7.3546676907628035,
          7.490949697393329,
          7.457733019733554,
          7.453288866624951,
          7.431316542875496,
          7.500497563482116,
          7.541180219556371,
          7.79449723159838,
          7.6029220214602224,
          7.569020740484181,
          7.4949274012731895,
          7.648477968386919,
          7.511628343206549,
          7.566179524826499,
          7.526031504521497,
          7.638546040073159,
          7.447164352131769,
          7.30133373626408,
          7.353534194459996,
          7.560977639829728,
          7.487820431238551,
          7.220717157463196,
          7.3037006090197325,
          7.523080386653722,
          7.4496458806744155,
          7.542788716018991,
          7.629128991814598,
          7.6643644111581795,
          7.279117400394351,
          7.248873237802182,
          7.297485231275914,
          7.3227774797515,
          7.479554822327039,
          7.488831974402774,
          7.438534824264981,
          7.523024705511888,
          7.061702691529058,
          6.9800875710327235,
          7.0292784268221995,
          7.016906927075258,
          6.866627031238285,
          6.839714312338824,
          6.797930614376999,
          6.822531471422315,
          7.189474054554425,
          7.1560176786122724,
          7.077421825975244,
          6.987825975868523,
          7.0593891925075924,
          6.850566618437253,
          6.763388119493725,
          7.020749180917281,
          7.09755220094338,
          6.894671364555396,
          6.850309738993383,
          6.981762372605602,
          7.167938734246917,
          7.055144773683623,
          7.102114203907012,
          7.045217664932933,
          7.177547780332338,
          7.035027148116917,
          7.101288338101453,
          7.138348202910655,
          7.326772583805995,
          7.070032233812529,
          7.037195506388229,
          6.968320670090197,
          6.985639343485645,
          6.996913874211509,
          7.021884299308743,
          6.90248006716141,
          7.078494464944789,
          7.066510192474439,
          7.0390786653403055,
          7.151822250087072,
          7.008238808460541,
          7.069796186345947,
          6.975510566041693,
          7.118029142984518,
          7.118738205786569,
          6.942050882324388,
          7.100996491586278,
          7.22514280653336,
          7.039624652757504,
          7.07692139191684,
          6.910738162017975,
          7.1012201956946885,
          7.140551842491107,
          7.094079842345927,
          7.0287584407461745,
          7.248046682580925,
          7.066529456838884,
          7.130966225084882,
          7.045483848831326,
          6.8825838843793194,
          7.0274888932535715,
          7.196897670426775,
          7.179119165059632,
          6.928626470684894,
          7.026256511793818,
          6.996696624835874,
          7.039717722665044,
          7.074786404900924,
          7.231124840422596,
          7.024254949561092,
          6.903783728493606,
          7.163795612172572,
          7.005555717092342,
          7.083206930165319,
          7.096820163431366,
          7.1398639971133795,
          7.070564264273666,
          7.145666479341893,
          7.291930961870136,
          6.896712172633321,
          7.021943799331573,
          7.035301762545603,
          7.070326756261347,
          6.928981110257152,
          7.110651691395049,
          6.9477022962676545,
          7.043650065552705,
          7.189705746587123,
          7.084360388616232,
          6.953129162324998,
          7.0052157926763465,
          7.099650429345922,
          6.930031012485265,
          7.159756331158559,
          6.988319810006411,
          7.052975399943337,
          6.97279824111517,
          7.129570536689561,
          6.896939989342411,
          6.9016513053798
         ]
        },
        {
         "line": {
          "color": "red",
          "dash": "dash",
          "width": 2
         },
         "mode": "lines",
         "name": "Prix moyen: 7.2739 ± 0.1160",
         "type": "scatter",
         "x": [
          1,
          100
         ],
         "y": [
          7.2738558273610225,
          7.2738558273610225
         ]
        }
       ],
       "layout": {
        "legend": {
         "orientation": "h",
         "x": 1,
         "xanchor": "right",
         "y": 1.02,
         "yanchor": "bottom"
        },
        "template": {
         "data": {
          "bar": [
           {
            "error_x": {
             "color": "#2a3f5f"
            },
            "error_y": {
             "color": "#2a3f5f"
            },
            "marker": {
             "line": {
              "color": "white",
              "width": 0.5
             },
             "pattern": {
              "fillmode": "overlay",
              "size": 10,
              "solidity": 0.2
             }
            },
            "type": "bar"
           }
          ],
          "barpolar": [
           {
            "marker": {
             "line": {
              "color": "white",
              "width": 0.5
             },
             "pattern": {
              "fillmode": "overlay",
              "size": 10,
              "solidity": 0.2
             }
            },
            "type": "barpolar"
           }
          ],
          "carpet": [
           {
            "aaxis": {
             "endlinecolor": "#2a3f5f",
             "gridcolor": "#C8D4E3",
             "linecolor": "#C8D4E3",
             "minorgridcolor": "#C8D4E3",
             "startlinecolor": "#2a3f5f"
            },
            "baxis": {
             "endlinecolor": "#2a3f5f",
             "gridcolor": "#C8D4E3",
             "linecolor": "#C8D4E3",
             "minorgridcolor": "#C8D4E3",
             "startlinecolor": "#2a3f5f"
            },
            "type": "carpet"
           }
          ],
          "choropleth": [
           {
            "colorbar": {
             "outlinewidth": 0,
             "ticks": ""
            },
            "type": "choropleth"
           }
          ],
          "contour": [
           {
            "colorbar": {
             "outlinewidth": 0,
             "ticks": ""
            },
            "colorscale": [
             [
              0,
              "#0d0887"
             ],
             [
              0.1111111111111111,
              "#46039f"
             ],
             [
              0.2222222222222222,
              "#7201a8"
             ],
             [
              0.3333333333333333,
              "#9c179e"
             ],
             [
              0.4444444444444444,
              "#bd3786"
             ],
             [
              0.5555555555555556,
              "#d8576b"
             ],
             [
              0.6666666666666666,
              "#ed7953"
             ],
             [
              0.7777777777777778,
              "#fb9f3a"
             ],
             [
              0.8888888888888888,
              "#fdca26"
             ],
             [
              1,
              "#f0f921"
             ]
            ],
            "type": "contour"
           }
          ],
          "contourcarpet": [
           {
            "colorbar": {
             "outlinewidth": 0,
             "ticks": ""
            },
            "type": "contourcarpet"
           }
          ],
          "heatmap": [
           {
            "colorbar": {
             "outlinewidth": 0,
             "ticks": ""
            },
            "colorscale": [
             [
              0,
              "#0d0887"
             ],
             [
              0.1111111111111111,
              "#46039f"
             ],
             [
              0.2222222222222222,
              "#7201a8"
             ],
             [
              0.3333333333333333,
              "#9c179e"
             ],
             [
              0.4444444444444444,
              "#bd3786"
             ],
             [
              0.5555555555555556,
              "#d8576b"
             ],
             [
              0.6666666666666666,
              "#ed7953"
             ],
             [
              0.7777777777777778,
              "#fb9f3a"
             ],
             [
              0.8888888888888888,
              "#fdca26"
             ],
             [
              1,
              "#f0f921"
             ]
            ],
            "type": "heatmap"
           }
          ],
          "heatmapgl": [
           {
            "colorbar": {
             "outlinewidth": 0,
             "ticks": ""
            },
            "colorscale": [
             [
              0,
              "#0d0887"
             ],
             [
              0.1111111111111111,
              "#46039f"
             ],
             [
              0.2222222222222222,
              "#7201a8"
             ],
             [
              0.3333333333333333,
              "#9c179e"
             ],
             [
              0.4444444444444444,
              "#bd3786"
             ],
             [
              0.5555555555555556,
              "#d8576b"
             ],
             [
              0.6666666666666666,
              "#ed7953"
             ],
             [
              0.7777777777777778,
              "#fb9f3a"
             ],
             [
              0.8888888888888888,
              "#fdca26"
             ],
             [
              1,
              "#f0f921"
             ]
            ],
            "type": "heatmapgl"
           }
          ],
          "histogram": [
           {
            "marker": {
             "pattern": {
              "fillmode": "overlay",
              "size": 10,
              "solidity": 0.2
             }
            },
            "type": "histogram"
           }
          ],
          "histogram2d": [
           {
            "colorbar": {
             "outlinewidth": 0,
             "ticks": ""
            },
            "colorscale": [
             [
              0,
              "#0d0887"
             ],
             [
              0.1111111111111111,
              "#46039f"
             ],
             [
              0.2222222222222222,
              "#7201a8"
             ],
             [
              0.3333333333333333,
              "#9c179e"
             ],
             [
              0.4444444444444444,
              "#bd3786"
             ],
             [
              0.5555555555555556,
              "#d8576b"
             ],
             [
              0.6666666666666666,
              "#ed7953"
             ],
             [
              0.7777777777777778,
              "#fb9f3a"
             ],
             [
              0.8888888888888888,
              "#fdca26"
             ],
             [
              1,
              "#f0f921"
             ]
            ],
            "type": "histogram2d"
           }
          ],
          "histogram2dcontour": [
           {
            "colorbar": {
             "outlinewidth": 0,
             "ticks": ""
            },
            "colorscale": [
             [
              0,
              "#0d0887"
             ],
             [
              0.1111111111111111,
              "#46039f"
             ],
             [
              0.2222222222222222,
              "#7201a8"
             ],
             [
              0.3333333333333333,
              "#9c179e"
             ],
             [
              0.4444444444444444,
              "#bd3786"
             ],
             [
              0.5555555555555556,
              "#d8576b"
             ],
             [
              0.6666666666666666,
              "#ed7953"
             ],
             [
              0.7777777777777778,
              "#fb9f3a"
             ],
             [
              0.8888888888888888,
              "#fdca26"
             ],
             [
              1,
              "#f0f921"
             ]
            ],
            "type": "histogram2dcontour"
           }
          ],
          "mesh3d": [
           {
            "colorbar": {
             "outlinewidth": 0,
             "ticks": ""
            },
            "type": "mesh3d"
           }
          ],
          "parcoords": [
           {
            "line": {
             "colorbar": {
              "outlinewidth": 0,
              "ticks": ""
             }
            },
            "type": "parcoords"
           }
          ],
          "pie": [
           {
            "automargin": true,
            "type": "pie"
           }
          ],
          "scatter": [
           {
            "fillpattern": {
             "fillmode": "overlay",
             "size": 10,
             "solidity": 0.2
            },
            "type": "scatter"
           }
          ],
          "scatter3d": [
           {
            "line": {
             "colorbar": {
              "outlinewidth": 0,
              "ticks": ""
             }
            },
            "marker": {
             "colorbar": {
              "outlinewidth": 0,
              "ticks": ""
             }
            },
            "type": "scatter3d"
           }
          ],
          "scattercarpet": [
           {
            "marker": {
             "colorbar": {
              "outlinewidth": 0,
              "ticks": ""
             }
            },
            "type": "scattercarpet"
           }
          ],
          "scattergeo": [
           {
            "marker": {
             "colorbar": {
              "outlinewidth": 0,
              "ticks": ""
             }
            },
            "type": "scattergeo"
           }
          ],
          "scattergl": [
           {
            "marker": {
             "colorbar": {
              "outlinewidth": 0,
              "ticks": ""
             }
            },
            "type": "scattergl"
           }
          ],
          "scattermapbox": [
           {
            "marker": {
             "colorbar": {
              "outlinewidth": 0,
              "ticks": ""
             }
            },
            "type": "scattermapbox"
           }
          ],
          "scatterpolar": [
           {
            "marker": {
             "colorbar": {
              "outlinewidth": 0,
              "ticks": ""
             }
            },
            "type": "scatterpolar"
           }
          ],
          "scatterpolargl": [
           {
            "marker": {
             "colorbar": {
              "outlinewidth": 0,
              "ticks": ""
             }
            },
            "type": "scatterpolargl"
           }
          ],
          "scatterternary": [
           {
            "marker": {
             "colorbar": {
              "outlinewidth": 0,
              "ticks": ""
             }
            },
            "type": "scatterternary"
           }
          ],
          "surface": [
           {
            "colorbar": {
             "outlinewidth": 0,
             "ticks": ""
            },
            "colorscale": [
             [
              0,
              "#0d0887"
             ],
             [
              0.1111111111111111,
              "#46039f"
             ],
             [
              0.2222222222222222,
              "#7201a8"
             ],
             [
              0.3333333333333333,
              "#9c179e"
             ],
             [
              0.4444444444444444,
              "#bd3786"
             ],
             [
              0.5555555555555556,
              "#d8576b"
             ],
             [
              0.6666666666666666,
              "#ed7953"
             ],
             [
              0.7777777777777778,
              "#fb9f3a"
             ],
             [
              0.8888888888888888,
              "#fdca26"
             ],
             [
              1,
              "#f0f921"
             ]
            ],
            "type": "surface"
           }
          ],
          "table": [
           {
            "cells": {
             "fill": {
              "color": "#EBF0F8"
             },
             "line": {
              "color": "white"
             }
            },
            "header": {
             "fill": {
              "color": "#C8D4E3"
             },
             "line": {
              "color": "white"
             }
            },
            "type": "table"
           }
          ]
         },
         "layout": {
          "annotationdefaults": {
           "arrowcolor": "#2a3f5f",
           "arrowhead": 0,
           "arrowwidth": 1
          },
          "autotypenumbers": "strict",
          "coloraxis": {
           "colorbar": {
            "outlinewidth": 0,
            "ticks": ""
           }
          },
          "colorscale": {
           "diverging": [
            [
             0,
             "#8e0152"
            ],
            [
             0.1,
             "#c51b7d"
            ],
            [
             0.2,
             "#de77ae"
            ],
            [
             0.3,
             "#f1b6da"
            ],
            [
             0.4,
             "#fde0ef"
            ],
            [
             0.5,
             "#f7f7f7"
            ],
            [
             0.6,
             "#e6f5d0"
            ],
            [
             0.7,
             "#b8e186"
            ],
            [
             0.8,
             "#7fbc41"
            ],
            [
             0.9,
             "#4d9221"
            ],
            [
             1,
             "#276419"
            ]
           ],
           "sequential": [
            [
             0,
             "#0d0887"
            ],
            [
             0.1111111111111111,
             "#46039f"
            ],
            [
             0.2222222222222222,
             "#7201a8"
            ],
            [
             0.3333333333333333,
             "#9c179e"
            ],
            [
             0.4444444444444444,
             "#bd3786"
            ],
            [
             0.5555555555555556,
             "#d8576b"
            ],
            [
             0.6666666666666666,
             "#ed7953"
            ],
            [
             0.7777777777777778,
             "#fb9f3a"
            ],
            [
             0.8888888888888888,
             "#fdca26"
            ],
            [
             1,
             "#f0f921"
            ]
           ],
           "sequentialminus": [
            [
             0,
             "#0d0887"
            ],
            [
             0.1111111111111111,
             "#46039f"
            ],
            [
             0.2222222222222222,
             "#7201a8"
            ],
            [
             0.3333333333333333,
             "#9c179e"
            ],
            [
             0.4444444444444444,
             "#bd3786"
            ],
            [
             0.5555555555555556,
             "#d8576b"
            ],
            [
             0.6666666666666666,
             "#ed7953"
            ],
            [
             0.7777777777777778,
             "#fb9f3a"
            ],
            [
             0.8888888888888888,
             "#fdca26"
            ],
            [
             1,
             "#f0f921"
            ]
           ]
          },
          "colorway": [
           "#636efa",
           "#EF553B",
           "#00cc96",
           "#ab63fa",
           "#FFA15A",
           "#19d3f3",
           "#FF6692",
           "#B6E880",
           "#FF97FF",
           "#FECB52"
          ],
          "font": {
           "color": "#2a3f5f"
          },
          "geo": {
           "bgcolor": "white",
           "lakecolor": "white",
           "landcolor": "white",
           "showlakes": true,
           "showland": true,
           "subunitcolor": "#C8D4E3"
          },
          "hoverlabel": {
           "align": "left"
          },
          "hovermode": "closest",
          "mapbox": {
           "style": "light"
          },
          "paper_bgcolor": "white",
          "plot_bgcolor": "white",
          "polar": {
           "angularaxis": {
            "gridcolor": "#EBF0F8",
            "linecolor": "#EBF0F8",
            "ticks": ""
           },
           "bgcolor": "white",
           "radialaxis": {
            "gridcolor": "#EBF0F8",
            "linecolor": "#EBF0F8",
            "ticks": ""
           }
          },
          "scene": {
           "xaxis": {
            "backgroundcolor": "white",
            "gridcolor": "#DFE8F3",
            "gridwidth": 2,
            "linecolor": "#EBF0F8",
            "showbackground": true,
            "ticks": "",
            "zerolinecolor": "#EBF0F8"
           },
           "yaxis": {
            "backgroundcolor": "white",
            "gridcolor": "#DFE8F3",
            "gridwidth": 2,
            "linecolor": "#EBF0F8",
            "showbackground": true,
            "ticks": "",
            "zerolinecolor": "#EBF0F8"
           },
           "zaxis": {
            "backgroundcolor": "white",
            "gridcolor": "#DFE8F3",
            "gridwidth": 2,
            "linecolor": "#EBF0F8",
            "showbackground": true,
            "ticks": "",
            "zerolinecolor": "#EBF0F8"
           }
          },
          "shapedefaults": {
           "line": {
            "color": "#2a3f5f"
           }
          },
          "ternary": {
           "aaxis": {
            "gridcolor": "#DFE8F3",
            "linecolor": "#A2B1C6",
            "ticks": ""
           },
           "baxis": {
            "gridcolor": "#DFE8F3",
            "linecolor": "#A2B1C6",
            "ticks": ""
           },
           "bgcolor": "white",
           "caxis": {
            "gridcolor": "#DFE8F3",
            "linecolor": "#A2B1C6",
            "ticks": ""
           }
          },
          "title": {
           "x": 0.05
          },
          "xaxis": {
           "automargin": true,
           "gridcolor": "#EBF0F8",
           "linecolor": "#EBF0F8",
           "ticks": "",
           "title": {
            "standoff": 15
           },
           "zerolinecolor": "#EBF0F8",
           "zerolinewidth": 2
          },
          "yaxis": {
           "automargin": true,
           "gridcolor": "#EBF0F8",
           "linecolor": "#EBF0F8",
           "ticks": "",
           "title": {
            "standoff": 15
           },
           "zerolinecolor": "#EBF0F8",
           "zerolinewidth": 2
          }
         }
        },
        "title": {
         "text": "Influence de la seed sur le prix (± 2 écart-types)"
        },
        "xaxis": {
         "title": {
          "text": "Valeur de la seed"
         }
        },
        "yaxis": {
         "title": {
          "text": "Prix de l'option"
         }
        }
       }
      }
     },
     "metadata": {},
     "output_type": "display_data"
    }
   ],
   "source": [
    "graph_seed = graph.comparer_seeds()\n",
    "graph_seed.show()\n",
    "            "
   ]
  },
  {
   "cell_type": "code",
   "execution_count": 10,
   "metadata": {},
   "outputs": [
    {
     "data": {
      "application/vnd.plotly.v1+json": {
       "config": {
        "plotlyServerURL": "https://plot.ly"
       },
       "data": [
        {
         "error_y": {
          "array": [
           0.23089939318013222,
           0.23162452568843786,
           0.22783896763435554,
           0.23069674870934725,
           0.23124512136214723,
           0.22981052913616942,
           0.23172366039313996,
           0.23168337118533167,
           0.23407299500177256,
           0.23398523809728822,
           0.2361413500820894,
           0.2342296576280841,
           0.2324773188919223,
           0.23035710584149424,
           0.2348942711825338,
           0.23526665308156736,
           0.23370100954599024,
           0.23397128260396546,
           0.23642194446997042,
           0.23469340664313904,
           0.23391874758980588,
           0.23368706448434146,
           0.2330549419821659,
           0.23384726276738044,
           0.2382481759808201,
           0.23587065908450963,
           0.2342874963295178,
           0.23644972006609424,
           0.23658689432393115,
           0.23567351261358016,
           0.23529397523088544,
           0.23471772501014335,
           0.23119617521643337,
           0.2326992951250893,
           0.23511959103648328,
           0.23625493490495347,
           0.23708112072871565,
           0.23752351151364143,
           0.23528558797652102,
           0.2325508297323444,
           0.23544665009381038,
           0.23235671396348706,
           0.23654315313445495,
           0.2335471534549242,
           0.2363475011050162,
           0.2340516713813113,
           0.23678124036625797,
           0.2310096331060231,
           0.23700993159205275,
           0.23368201729073032,
           0.2362983054672527,
           0.2335723140640751,
           0.23617571151701364,
           0.23459111208021777,
           0.23503468043754044,
           0.23362845340349772,
           0.2334065306369548,
           0.23338792975696213,
           0.23452531777999536,
           0.23486449757633726,
           0.2347505616615166,
           0.23357397421451048,
           0.2327296419269304,
           0.22996909838877408,
           0.23395353376734057,
           0.23536404029687952,
           0.23493905141465204,
           0.2314627658823715,
           0.23447622810682073,
           0.23195972642447496,
           0.2319331249898512,
           0.23134274860863205,
           0.23107939887032475,
           0.22978454847646795,
           0.23076699342134535,
           0.2327249984372443,
           0.2323595267107328,
           0.23189218986770996,
           0.2343119602680985,
           0.23091702462356103,
           0.23223468272291103,
           0.23271746389443476,
           0.23202878213592515,
           0.23388051762097212,
           0.23501862976543436,
           0.23246791778758108,
           0.2325852281870139,
           0.23370382564995068,
           0.23339649021708797,
           0.2294291001872443,
           0.23282546189094602,
           0.23257778624995645,
           0.2322142687623591,
           0.231565844678504,
           0.23232716783093987,
           0.2308465472150025,
           0.23157392275734576,
           0.2302363878124228,
           0.23284769471306394,
           0.23165713926447734,
           0.2292751711252191,
           0.23104590523664142,
           0.23040509945462712,
           0.23190026902755576,
           0.2298899320165807,
           0.23147996970336362,
           0.22899739195279367,
           0.22822327859538624,
           0.22685352779906853,
           0.22994396882920543,
           0.23195763525971397,
           0.23040648019995338,
           0.23145607739562857,
           0.23193941403338475,
           0.23273702127483048,
           0.2321839559290075,
           0.23302782098921007,
           0.2283175172862149,
           0.2296937359101675,
           0.23097835203968192,
           0.23008969408772714,
           0.22679453376386552,
           0.22959319164318231,
           0.23040529151037098,
           0.2283532198645803,
           0.23146625098795037,
           0.2281164343188475,
           0.22927269943583956,
           0.2312755257842195,
           0.22972166483511589,
           0.23376542615168105,
           0.23174137596333186,
           0.23116649408267542,
           0.2306762606992171,
           0.23042041499920732,
           0.23038276021210546,
           0.2282538165802319,
           0.23020503820008603,
           0.22765602791234069,
           0.23063487420944445,
           0.22889808451679236,
           0.23124682205809832,
           0.22826223544936938,
           0.2292730432691858,
           0.2330221419734181,
           0.2314666558279443,
           0.22711754589250957,
           0.23152462233244633,
           0.2273636134066734,
           0.22929885223310614,
           0.22982710982036675,
           0.23074504355773195,
           0.22901339981224364,
           0.23166371308142938,
           0.22932951141118715,
           0.2304208836102389,
           0.23150000198169024,
           0.2316981646519043,
           0.23345443342983066,
           0.23190524070445387,
           0.23155097669824154,
           0.2318413073264529,
           0.2318615696615286,
           0.2278636781079369,
           0.2282199789611932,
           0.23380855940831594,
           0.228542828902649,
           0.23345869755945783,
           0.2313677107271801,
           0.2305732165580615,
           0.23185351510206573,
           0.23135552045589125,
           0.2301932091807418,
           0.23035422588122625,
           0.2303948346103278,
           0.23117257911147057,
           0.2309488885683718,
           0.230804596347269,
           0.22885605802417777,
           0.22967261158616137,
           0.22822470356097374,
           0.22937806756971227,
           0.23111390435562815,
           0.23346432985146948,
           0.2278945326428242,
           0.2302552021165913,
           0.22997474761777364,
           0.2327494586451382,
           0.22889201704286613,
           0.23268290633465794,
           0.23139998410313695,
           0.23302561990980641,
           0.2318753779623712,
           0.23198252731627253,
           0.23189330616192208,
           0.2312734705713609,
           0.23083117286144728,
           0.2337507960035879,
           0.2318741880979622,
           0.23300140846909337
          ],
          "type": "data",
          "visible": true
         },
         "marker": {
          "color": "blue",
          "size": 10
         },
         "mode": "markers",
         "name": "Prix estimés",
         "type": "scatter",
         "x": [
          10,
          11,
          13,
          15,
          17,
          19,
          21,
          23,
          25,
          27,
          29,
          31,
          33,
          35,
          37,
          39,
          41,
          43,
          45,
          47,
          49,
          51,
          53,
          55,
          57,
          58,
          60,
          62,
          64,
          66,
          68,
          70,
          72,
          74,
          76,
          78,
          80,
          82,
          84,
          86,
          88,
          90,
          92,
          94,
          96,
          98,
          100,
          102,
          104,
          106,
          107,
          109,
          111,
          113,
          115,
          117,
          119,
          121,
          123,
          125,
          127,
          129,
          131,
          133,
          135,
          137,
          139,
          141,
          143,
          145,
          147,
          149,
          151,
          153,
          155,
          156,
          158,
          160,
          162,
          164,
          166,
          168,
          170,
          172,
          174,
          176,
          178,
          180,
          182,
          184,
          186,
          188,
          190,
          192,
          194,
          196,
          198,
          200,
          202,
          204,
          205,
          207,
          209,
          211,
          213,
          215,
          217,
          219,
          221,
          223,
          225,
          227,
          229,
          231,
          233,
          235,
          237,
          239,
          241,
          243,
          245,
          247,
          249,
          251,
          253,
          254,
          256,
          258,
          260,
          262,
          264,
          266,
          268,
          270,
          272,
          274,
          276,
          278,
          280,
          282,
          284,
          286,
          288,
          290,
          292,
          294,
          296,
          298,
          300,
          302,
          303,
          305,
          307,
          309,
          311,
          313,
          315,
          317,
          319,
          321,
          323,
          325,
          327,
          329,
          331,
          333,
          335,
          337,
          339,
          341,
          343,
          345,
          347,
          349,
          351,
          352,
          354,
          356,
          358,
          360,
          362,
          364,
          366,
          368,
          370,
          372,
          374,
          376,
          378,
          380,
          382,
          384,
          386,
          388,
          390,
          392,
          394,
          396,
          398,
          400
         ],
         "y": [
          7.161216270926891,
          7.138105493944064,
          7.051384936548581,
          7.298392487289131,
          7.248754003568627,
          7.280359176464961,
          7.253238317797435,
          7.319998347267179,
          7.338629938412206,
          7.348779602730158,
          7.425574449508918,
          7.376832583814843,
          7.268328609586312,
          7.2802575313288,
          7.325649994636006,
          7.325566838713101,
          7.300214155083698,
          7.3113794188220576,
          7.2910352765649815,
          7.3221929675160995,
          7.285327088311455,
          7.339726073892269,
          7.332556498470304,
          7.32327282342448,
          7.387817037183123,
          7.4101628530387735,
          7.412359614976743,
          7.360673830132352,
          7.37827512445315,
          7.393547897670418,
          7.407391387819392,
          7.482018201835923,
          7.404436845330745,
          7.356479333403301,
          7.426478843075788,
          7.472736605605383,
          7.4358761142756515,
          7.4831795463294855,
          7.471290816327704,
          7.402031370876268,
          7.4495850541639115,
          7.440371005125172,
          7.448149182416043,
          7.367116907821628,
          7.427153363716333,
          7.411446519296481,
          7.532294628771882,
          7.4629014388197135,
          7.4835861989685295,
          7.3868578939695535,
          7.487502143105312,
          7.4668911029954135,
          7.455334255543191,
          7.468444252555548,
          7.451559386794678,
          7.423211134173247,
          7.4421832368997025,
          7.342581523613291,
          7.370016947314998,
          7.465233823337227,
          7.41813374897338,
          7.426515824278537,
          7.400613238800181,
          7.304659168102866,
          7.425721799228017,
          7.435717915267794,
          7.4755645674035724,
          7.386779431708476,
          7.405309505624797,
          7.347578356810369,
          7.347972583585672,
          7.335752263250892,
          7.2845470979648965,
          7.296973313556818,
          7.248366590350241,
          7.341508955871225,
          7.347135659752139,
          7.327465830347783,
          7.360982107802438,
          7.282820179415362,
          7.271604001839763,
          7.335229208391384,
          7.304612682023316,
          7.368984144234667,
          7.367732027538487,
          7.2949223048813,
          7.337021981459091,
          7.355462209023985,
          7.347823401833404,
          7.241396568499658,
          7.356732963737847,
          7.333050823034177,
          7.334919557054472,
          7.292567037603045,
          7.284944388765712,
          7.248755663706095,
          7.287436571212112,
          7.25315352657966,
          7.3279849636132885,
          7.283650142768491,
          7.214678142080494,
          7.23005759054878,
          7.229666013070779,
          7.2606372825139,
          7.240519093171692,
          7.291632311893374,
          7.237840321192873,
          7.193563191831516,
          7.1260540944841635,
          7.283478931162115,
          7.24688246512469,
          7.172835398526889,
          7.275245102304879,
          7.176683997888732,
          7.263500022248248,
          7.210065872752198,
          7.262803050602926,
          7.163799021186769,
          7.215568489312053,
          7.2189595021141635,
          7.251489111968655,
          7.166902780439195,
          7.242891176544818,
          7.211744868177457,
          7.213683635416534,
          7.295890118055285,
          7.202476334113446,
          7.27321770265472,
          7.277727445223684,
          7.26239649969094,
          7.25745766938661,
          7.20262890673933,
          7.175012443689429,
          7.26234068201897,
          7.194447107998548,
          7.2198214588945975,
          7.204112305537974,
          7.220135291382811,
          7.216956489410666,
          7.264240588659783,
          7.187859932799762,
          7.188740659541916,
          7.10151528819915,
          7.176229991219567,
          7.2142175034229865,
          7.182583977334865,
          7.174056726014379,
          7.1844468987739925,
          7.194431703981978,
          7.187029317941144,
          7.208451897764556,
          7.235214029089312,
          7.203489253222296,
          7.221365982231748,
          7.2527473397279465,
          7.310629468799452,
          7.2507767657492135,
          7.2361901795074886,
          7.2918614218541205,
          7.2839707770543,
          7.210814506415887,
          7.24066811636113,
          7.278991001293628,
          7.209567667878317,
          7.202820131586245,
          7.23701088115905,
          7.2358657375334925,
          7.304501958885102,
          7.25807335981374,
          7.241026191043001,
          7.334240191156663,
          7.254042838363773,
          7.208540108299453,
          7.234806486302935,
          7.248258179432212,
          7.256646690358818,
          7.214904343982756,
          7.20146800976055,
          7.2360170450766255,
          7.2200025103970225,
          7.148288586969385,
          7.207409272223894,
          7.2420404461924806,
          7.2745493406824,
          7.13757870413081,
          7.249274314116909,
          7.227569694013373,
          7.29205516220756,
          7.1994415076647185,
          7.281326266406689,
          7.284583441964556,
          7.296145266210096,
          7.255542661228944,
          7.253463442617828,
          7.279010956339922,
          7.267230505318546,
          7.229897546508786,
          7.268246816164136,
          7.25188218790292,
          7.333874266303585
         ]
        },
        {
         "fill": "toself",
         "fillcolor": "rgba(0, 0, 255, 0.1)",
         "hoverinfo": "skip",
         "line": {
          "color": "rgba(0, 0, 255, 0)"
         },
         "showlegend": false,
         "type": "scatter",
         "x": [
          10,
          11,
          13,
          15,
          17,
          19,
          21,
          23,
          25,
          27,
          29,
          31,
          33,
          35,
          37,
          39,
          41,
          43,
          45,
          47,
          49,
          51,
          53,
          55,
          57,
          58,
          60,
          62,
          64,
          66,
          68,
          70,
          72,
          74,
          76,
          78,
          80,
          82,
          84,
          86,
          88,
          90,
          92,
          94,
          96,
          98,
          100,
          102,
          104,
          106,
          107,
          109,
          111,
          113,
          115,
          117,
          119,
          121,
          123,
          125,
          127,
          129,
          131,
          133,
          135,
          137,
          139,
          141,
          143,
          145,
          147,
          149,
          151,
          153,
          155,
          156,
          158,
          160,
          162,
          164,
          166,
          168,
          170,
          172,
          174,
          176,
          178,
          180,
          182,
          184,
          186,
          188,
          190,
          192,
          194,
          196,
          198,
          200,
          202,
          204,
          205,
          207,
          209,
          211,
          213,
          215,
          217,
          219,
          221,
          223,
          225,
          227,
          229,
          231,
          233,
          235,
          237,
          239,
          241,
          243,
          245,
          247,
          249,
          251,
          253,
          254,
          256,
          258,
          260,
          262,
          264,
          266,
          268,
          270,
          272,
          274,
          276,
          278,
          280,
          282,
          284,
          286,
          288,
          290,
          292,
          294,
          296,
          298,
          300,
          302,
          303,
          305,
          307,
          309,
          311,
          313,
          315,
          317,
          319,
          321,
          323,
          325,
          327,
          329,
          331,
          333,
          335,
          337,
          339,
          341,
          343,
          345,
          347,
          349,
          351,
          352,
          354,
          356,
          358,
          360,
          362,
          364,
          366,
          368,
          370,
          372,
          374,
          376,
          378,
          380,
          382,
          384,
          386,
          388,
          390,
          392,
          394,
          396,
          398,
          400,
          400,
          398,
          396,
          394,
          392,
          390,
          388,
          386,
          384,
          382,
          380,
          378,
          376,
          374,
          372,
          370,
          368,
          366,
          364,
          362,
          360,
          358,
          356,
          354,
          352,
          351,
          349,
          347,
          345,
          343,
          341,
          339,
          337,
          335,
          333,
          331,
          329,
          327,
          325,
          323,
          321,
          319,
          317,
          315,
          313,
          311,
          309,
          307,
          305,
          303,
          302,
          300,
          298,
          296,
          294,
          292,
          290,
          288,
          286,
          284,
          282,
          280,
          278,
          276,
          274,
          272,
          270,
          268,
          266,
          264,
          262,
          260,
          258,
          256,
          254,
          253,
          251,
          249,
          247,
          245,
          243,
          241,
          239,
          237,
          235,
          233,
          231,
          229,
          227,
          225,
          223,
          221,
          219,
          217,
          215,
          213,
          211,
          209,
          207,
          205,
          204,
          202,
          200,
          198,
          196,
          194,
          192,
          190,
          188,
          186,
          184,
          182,
          180,
          178,
          176,
          174,
          172,
          170,
          168,
          166,
          164,
          162,
          160,
          158,
          156,
          155,
          153,
          151,
          149,
          147,
          145,
          143,
          141,
          139,
          137,
          135,
          133,
          131,
          129,
          127,
          125,
          123,
          121,
          119,
          117,
          115,
          113,
          111,
          109,
          107,
          106,
          104,
          102,
          100,
          98,
          96,
          94,
          92,
          90,
          88,
          86,
          84,
          82,
          80,
          78,
          76,
          74,
          72,
          70,
          68,
          66,
          64,
          62,
          60,
          58,
          57,
          55,
          53,
          51,
          49,
          47,
          45,
          43,
          41,
          39,
          37,
          35,
          33,
          31,
          29,
          27,
          25,
          23,
          21,
          19,
          17,
          15,
          13,
          11,
          10
         ],
         "y": [
          7.392115664107023,
          7.3697300196325015,
          7.2792239041829365,
          7.529089235998478,
          7.4799991249307745,
          7.51016970560113,
          7.484961978190575,
          7.55168171845251,
          7.572702933413979,
          7.582764840827446,
          7.661715799591008,
          7.611062241442927,
          7.5008059284782345,
          7.510614637170295,
          7.56054426581854,
          7.560833491794669,
          7.533915164629689,
          7.545350701426023,
          7.527457221034952,
          7.556886374159238,
          7.519245835901261,
          7.57341313837661,
          7.565611440452471,
          7.55712008619186,
          7.626065213163943,
          7.646033512123283,
          7.646647111306261,
          7.597123550198447,
          7.614862018777082,
          7.629221410283998,
          7.642685363050278,
          7.7167359268460665,
          7.6356330205471785,
          7.58917862852839,
          7.661598434112271,
          7.708991540510336,
          7.672957235004367,
          7.720703057843127,
          7.706576404304225,
          7.634582200608612,
          7.685031704257722,
          7.672727719088659,
          7.684692335550498,
          7.600664061276552,
          7.66350086482135,
          7.645498190677793,
          7.76907586913814,
          7.693911071925736,
          7.720596130560582,
          7.620539911260284,
          7.723800448572565,
          7.700463417059488,
          7.691509967060204,
          7.703035364635766,
          7.686594067232218,
          7.656839587576744,
          7.675589767536657,
          7.575969453370254,
          7.604542265094993,
          7.700098320913565,
          7.652884310634897,
          7.660089798493048,
          7.6333428807271115,
          7.53462826649164,
          7.6596753329953575,
          7.671081955564674,
          7.710503618818224,
          7.618242197590847,
          7.6397857337316175,
          7.579538083234844,
          7.579905708575523,
          7.567095011859523,
          7.515626496835221,
          7.5267578620332865,
          7.479133583771586,
          7.574233954308469,
          7.5794951864628715,
          7.559358020215493,
          7.595294068070537,
          7.5137372040389225,
          7.503838684562674,
          7.567946672285819,
          7.536641464159241,
          7.602864661855639,
          7.602750657303922,
          7.527390222668881,
          7.5696072096461045,
          7.589166034673935,
          7.581219892050492,
          7.470825668686902,
          7.589558425628793,
          7.565628609284134,
          7.567133825816831,
          7.524132882281549,
          7.517271556596652,
          7.479602210921097,
          7.519010493969458,
          7.483389914392083,
          7.560832658326352,
          7.5153072820329685,
          7.443953313205713,
          7.461103495785421,
          7.460071112525406,
          7.492537551541456,
          7.470409025188272,
          7.523112281596738,
          7.466837713145666,
          7.421786470426903,
          7.352907622283232,
          7.513422899991321,
          7.478840100384404,
          7.403241878726842,
          7.506701179700507,
          7.408623411922117,
          7.496237043523078,
          7.442249828681205,
          7.495830871592136,
          7.392116538472984,
          7.445262225222221,
          7.449937854153846,
          7.481578806056382,
          7.393697314203061,
          7.472484368188001,
          7.442150159687828,
          7.442036855281114,
          7.527356369043235,
          7.430592768432294,
          7.50249040209056,
          7.509002971007904,
          7.4921181645260555,
          7.491223095538291,
          7.434370282702662,
          7.406178937772104,
          7.493016942718187,
          7.424867522997755,
          7.450204219106703,
          7.432366122118205,
          7.450340329582898,
          7.444612517323007,
          7.494875462869228,
          7.416758017316555,
          7.419987481600015,
          7.329777523648519,
          7.405503034488753,
          7.4472396453964045,
          7.414050633162809,
          7.401174271906888,
          7.415971521106439,
          7.421795317388652,
          7.416328170174251,
          7.4382790075849226,
          7.465959072647045,
          7.43250265303454,
          7.453029695313178,
          7.482076851139134,
          7.541050352409691,
          7.482276767730903,
          7.467888344159393,
          7.525315855283951,
          7.515876017758754,
          7.442365483114129,
          7.472509423687582,
          7.510852570955157,
          7.437431345986254,
          7.431040110547438,
          7.470819440567366,
          7.464408566436141,
          7.53796065644456,
          7.48944107054092,
          7.471599407601063,
          7.566093706258729,
          7.485398358819665,
          7.438733317480195,
          7.4651607121841606,
          7.47865301404254,
          7.487819269470289,
          7.445853232551127,
          7.432272606107819,
          7.464873103100803,
          7.449675121983184,
          7.376513290530359,
          7.436787339793606,
          7.473154350548109,
          7.508013670533869,
          7.365473236773634,
          7.479529516233501,
          7.457544441631146,
          7.524804620852698,
          7.428333524707584,
          7.514009172741346,
          7.515983426067693,
          7.5291708861199025,
          7.487418039191315,
          7.4854459699341005,
          7.510904262501844,
          7.498503975889907,
          7.460728719370233,
          7.501997612167724,
          7.4837563760008825,
          7.566875674772678,
          7.100872857834492,
          7.020007999804958,
          7.034496020160548,
          6.999066373647339,
          7.0359570347471845,
          7.047117650178,
          7.021480915301555,
          7.0236672832665725,
          7.063119646300289,
          7.053183457861419,
          7.048643360072031,
          6.970549490621853,
          7.059305703562422,
          6.9975949463955995,
          7.019019112000318,
          6.909684171487986,
          7.041085010830931,
          7.010926541836852,
          6.978031204654182,
          6.920063883408411,
          6.990329898810861,
          7.007160987052448,
          6.9706634134132806,
          6.983955455414384,
          7.025474111247347,
          7.017863344821884,
          7.004452260421709,
          6.978346899118711,
          7.022687317907882,
          7.102386676054597,
          7.010452974484939,
          7.02670564908656,
          7.071043261325644,
          7.007322908630844,
          7.003202321750734,
          6.974600152625052,
          6.98170398977038,
          7.047129431632099,
          7.0088268090346775,
          6.979263529717645,
          7.052065536349846,
          7.05840698842429,
          7.004492014855584,
          7.0192767637675235,
          7.080208585189213,
          7.023417828316759,
          6.989702269150318,
          6.974475853410052,
          7.00446898553158,
          6.97862478794419,
          6.957730465708038,
          6.967068090575305,
          6.952922276441546,
          6.946939180121869,
          6.951117321506921,
          6.9811953614495685,
          6.946956947950381,
          6.873253052749781,
          6.957493837483818,
          6.95896184828297,
          7.0336057144503386,
          6.989300461498326,
          6.989930253182725,
          6.975858488957742,
          6.989438698682492,
          6.964026692999341,
          7.0316644213197534,
          6.943845949606754,
          6.970887530775998,
          7.023692243234929,
          7.032674834855825,
          7.046451919439464,
          7.04394500321888,
          6.974359899794599,
          7.064423867067334,
          6.985330415551954,
          6.981339576667087,
          7.0132979849016355,
          6.940108246675329,
          7.021399417880928,
          6.987981150074481,
          6.985874753401886,
          6.9354815039005535,
          7.029775229613716,
          6.977881916823191,
          7.030763000973418,
          6.944744583855347,
          7.043789024909251,
          6.942428918326936,
          7.0149248298649765,
          7.053534962332909,
          6.899200566685095,
          6.9653399132361296,
          7.008842929240079,
          7.06015234219001,
          7.010629161155111,
          7.028737013486345,
          6.999260913616152,
          6.999011685312139,
          6.985402970955275,
          7.0519930035040135,
          7.095137268900225,
          7.022917138767237,
          7.055862648454766,
          7.017909116491092,
          7.052617220934772,
          7.061001192924541,
          7.102705288292113,
          7.10047303678422,
          7.123907501846901,
          7.011967468312414,
          7.114426911616316,
          7.1217583833740346,
          7.104436753272077,
          7.0624543870937195,
          7.132713397773053,
          7.135103626613695,
          7.07258389988739,
          7.102511744496949,
          7.039369319116852,
          7.051903154791801,
          7.126670147534339,
          7.095573640480072,
          7.114776133041406,
          7.108783957433981,
          7.017599596928895,
          7.06718876508035,
          7.053467699094572,
          7.10440951464226,
          7.116039458595821,
          7.115618630385894,
          7.170833277517977,
          7.1553166658261045,
          7.240625515988921,
          7.200353874970915,
          7.191768265460677,
          7.074690069714092,
          7.167883596873251,
          7.1929418500640265,
          7.183383187311864,
          7.23036932576089,
          7.135491629535002,
          7.109193593856329,
          7.208776706262748,
          7.18958268076975,
          7.216524706357137,
          7.23385314047533,
          7.219158544026177,
          7.233318788931339,
          7.251203837638059,
          7.153175876678823,
          7.246576267376477,
          7.2318918057136905,
          7.295513388405624,
          7.17739484791517,
          7.190805862611317,
          7.133569754366704,
          7.2116060292815884,
          7.208014291161685,
          7.214138404070101,
          7.169480541143924,
          7.236005228351183,
          7.245656034815844,
          7.198794993546936,
          7.23648167070043,
          7.191359252039305,
          7.123780038278212,
          7.173240670114312,
          7.24730047682578,
          7.172097412588506,
          7.157874385056838,
          7.141688230129219,
          7.124224110066258,
          7.178072118647225,
          7.174292193954264,
          7.149568861202304,
          7.0894255606571,
          7.099501556488138,
          7.106039009407928,
          7.051408340721649,
          7.087499560872961,
          7.054613332095011,
          7.077408136218092,
          7.066513145537708,
          7.090300185631533,
          7.090755723453472,
          7.049900425487306,
          7.03585129069439,
          7.1426029261867585,
          7.189433099426829,
          7.1147943646328695,
          7.104556943410433,
          7.088314976081847,
          7.021514657404295,
          7.0505486473287915,
          7.01750888220648,
          7.067695738579784,
          6.823545968914225,
          6.906480968255626,
          6.930316877746759
         ]
        },
        {
         "line": {
          "color": "red",
          "dash": "dash",
          "width": 2
         },
         "mode": "lines",
         "name": "Prix moyen: 7.2953 ± 0.1160",
         "type": "scatter",
         "x": [
          10,
          400
         ],
         "y": [
          7.295327892883834,
          7.295327892883834
         ]
        }
       ],
       "layout": {
        "legend": {
         "orientation": "h",
         "x": 1,
         "xanchor": "right",
         "y": 1.02,
         "yanchor": "bottom"
        },
        "template": {
         "data": {
          "bar": [
           {
            "error_x": {
             "color": "#2a3f5f"
            },
            "error_y": {
             "color": "#2a3f5f"
            },
            "marker": {
             "line": {
              "color": "white",
              "width": 0.5
             },
             "pattern": {
              "fillmode": "overlay",
              "size": 10,
              "solidity": 0.2
             }
            },
            "type": "bar"
           }
          ],
          "barpolar": [
           {
            "marker": {
             "line": {
              "color": "white",
              "width": 0.5
             },
             "pattern": {
              "fillmode": "overlay",
              "size": 10,
              "solidity": 0.2
             }
            },
            "type": "barpolar"
           }
          ],
          "carpet": [
           {
            "aaxis": {
             "endlinecolor": "#2a3f5f",
             "gridcolor": "#C8D4E3",
             "linecolor": "#C8D4E3",
             "minorgridcolor": "#C8D4E3",
             "startlinecolor": "#2a3f5f"
            },
            "baxis": {
             "endlinecolor": "#2a3f5f",
             "gridcolor": "#C8D4E3",
             "linecolor": "#C8D4E3",
             "minorgridcolor": "#C8D4E3",
             "startlinecolor": "#2a3f5f"
            },
            "type": "carpet"
           }
          ],
          "choropleth": [
           {
            "colorbar": {
             "outlinewidth": 0,
             "ticks": ""
            },
            "type": "choropleth"
           }
          ],
          "contour": [
           {
            "colorbar": {
             "outlinewidth": 0,
             "ticks": ""
            },
            "colorscale": [
             [
              0,
              "#0d0887"
             ],
             [
              0.1111111111111111,
              "#46039f"
             ],
             [
              0.2222222222222222,
              "#7201a8"
             ],
             [
              0.3333333333333333,
              "#9c179e"
             ],
             [
              0.4444444444444444,
              "#bd3786"
             ],
             [
              0.5555555555555556,
              "#d8576b"
             ],
             [
              0.6666666666666666,
              "#ed7953"
             ],
             [
              0.7777777777777778,
              "#fb9f3a"
             ],
             [
              0.8888888888888888,
              "#fdca26"
             ],
             [
              1,
              "#f0f921"
             ]
            ],
            "type": "contour"
           }
          ],
          "contourcarpet": [
           {
            "colorbar": {
             "outlinewidth": 0,
             "ticks": ""
            },
            "type": "contourcarpet"
           }
          ],
          "heatmap": [
           {
            "colorbar": {
             "outlinewidth": 0,
             "ticks": ""
            },
            "colorscale": [
             [
              0,
              "#0d0887"
             ],
             [
              0.1111111111111111,
              "#46039f"
             ],
             [
              0.2222222222222222,
              "#7201a8"
             ],
             [
              0.3333333333333333,
              "#9c179e"
             ],
             [
              0.4444444444444444,
              "#bd3786"
             ],
             [
              0.5555555555555556,
              "#d8576b"
             ],
             [
              0.6666666666666666,
              "#ed7953"
             ],
             [
              0.7777777777777778,
              "#fb9f3a"
             ],
             [
              0.8888888888888888,
              "#fdca26"
             ],
             [
              1,
              "#f0f921"
             ]
            ],
            "type": "heatmap"
           }
          ],
          "heatmapgl": [
           {
            "colorbar": {
             "outlinewidth": 0,
             "ticks": ""
            },
            "colorscale": [
             [
              0,
              "#0d0887"
             ],
             [
              0.1111111111111111,
              "#46039f"
             ],
             [
              0.2222222222222222,
              "#7201a8"
             ],
             [
              0.3333333333333333,
              "#9c179e"
             ],
             [
              0.4444444444444444,
              "#bd3786"
             ],
             [
              0.5555555555555556,
              "#d8576b"
             ],
             [
              0.6666666666666666,
              "#ed7953"
             ],
             [
              0.7777777777777778,
              "#fb9f3a"
             ],
             [
              0.8888888888888888,
              "#fdca26"
             ],
             [
              1,
              "#f0f921"
             ]
            ],
            "type": "heatmapgl"
           }
          ],
          "histogram": [
           {
            "marker": {
             "pattern": {
              "fillmode": "overlay",
              "size": 10,
              "solidity": 0.2
             }
            },
            "type": "histogram"
           }
          ],
          "histogram2d": [
           {
            "colorbar": {
             "outlinewidth": 0,
             "ticks": ""
            },
            "colorscale": [
             [
              0,
              "#0d0887"
             ],
             [
              0.1111111111111111,
              "#46039f"
             ],
             [
              0.2222222222222222,
              "#7201a8"
             ],
             [
              0.3333333333333333,
              "#9c179e"
             ],
             [
              0.4444444444444444,
              "#bd3786"
             ],
             [
              0.5555555555555556,
              "#d8576b"
             ],
             [
              0.6666666666666666,
              "#ed7953"
             ],
             [
              0.7777777777777778,
              "#fb9f3a"
             ],
             [
              0.8888888888888888,
              "#fdca26"
             ],
             [
              1,
              "#f0f921"
             ]
            ],
            "type": "histogram2d"
           }
          ],
          "histogram2dcontour": [
           {
            "colorbar": {
             "outlinewidth": 0,
             "ticks": ""
            },
            "colorscale": [
             [
              0,
              "#0d0887"
             ],
             [
              0.1111111111111111,
              "#46039f"
             ],
             [
              0.2222222222222222,
              "#7201a8"
             ],
             [
              0.3333333333333333,
              "#9c179e"
             ],
             [
              0.4444444444444444,
              "#bd3786"
             ],
             [
              0.5555555555555556,
              "#d8576b"
             ],
             [
              0.6666666666666666,
              "#ed7953"
             ],
             [
              0.7777777777777778,
              "#fb9f3a"
             ],
             [
              0.8888888888888888,
              "#fdca26"
             ],
             [
              1,
              "#f0f921"
             ]
            ],
            "type": "histogram2dcontour"
           }
          ],
          "mesh3d": [
           {
            "colorbar": {
             "outlinewidth": 0,
             "ticks": ""
            },
            "type": "mesh3d"
           }
          ],
          "parcoords": [
           {
            "line": {
             "colorbar": {
              "outlinewidth": 0,
              "ticks": ""
             }
            },
            "type": "parcoords"
           }
          ],
          "pie": [
           {
            "automargin": true,
            "type": "pie"
           }
          ],
          "scatter": [
           {
            "fillpattern": {
             "fillmode": "overlay",
             "size": 10,
             "solidity": 0.2
            },
            "type": "scatter"
           }
          ],
          "scatter3d": [
           {
            "line": {
             "colorbar": {
              "outlinewidth": 0,
              "ticks": ""
             }
            },
            "marker": {
             "colorbar": {
              "outlinewidth": 0,
              "ticks": ""
             }
            },
            "type": "scatter3d"
           }
          ],
          "scattercarpet": [
           {
            "marker": {
             "colorbar": {
              "outlinewidth": 0,
              "ticks": ""
             }
            },
            "type": "scattercarpet"
           }
          ],
          "scattergeo": [
           {
            "marker": {
             "colorbar": {
              "outlinewidth": 0,
              "ticks": ""
             }
            },
            "type": "scattergeo"
           }
          ],
          "scattergl": [
           {
            "marker": {
             "colorbar": {
              "outlinewidth": 0,
              "ticks": ""
             }
            },
            "type": "scattergl"
           }
          ],
          "scattermapbox": [
           {
            "marker": {
             "colorbar": {
              "outlinewidth": 0,
              "ticks": ""
             }
            },
            "type": "scattermapbox"
           }
          ],
          "scatterpolar": [
           {
            "marker": {
             "colorbar": {
              "outlinewidth": 0,
              "ticks": ""
             }
            },
            "type": "scatterpolar"
           }
          ],
          "scatterpolargl": [
           {
            "marker": {
             "colorbar": {
              "outlinewidth": 0,
              "ticks": ""
             }
            },
            "type": "scatterpolargl"
           }
          ],
          "scatterternary": [
           {
            "marker": {
             "colorbar": {
              "outlinewidth": 0,
              "ticks": ""
             }
            },
            "type": "scatterternary"
           }
          ],
          "surface": [
           {
            "colorbar": {
             "outlinewidth": 0,
             "ticks": ""
            },
            "colorscale": [
             [
              0,
              "#0d0887"
             ],
             [
              0.1111111111111111,
              "#46039f"
             ],
             [
              0.2222222222222222,
              "#7201a8"
             ],
             [
              0.3333333333333333,
              "#9c179e"
             ],
             [
              0.4444444444444444,
              "#bd3786"
             ],
             [
              0.5555555555555556,
              "#d8576b"
             ],
             [
              0.6666666666666666,
              "#ed7953"
             ],
             [
              0.7777777777777778,
              "#fb9f3a"
             ],
             [
              0.8888888888888888,
              "#fdca26"
             ],
             [
              1,
              "#f0f921"
             ]
            ],
            "type": "surface"
           }
          ],
          "table": [
           {
            "cells": {
             "fill": {
              "color": "#EBF0F8"
             },
             "line": {
              "color": "white"
             }
            },
            "header": {
             "fill": {
              "color": "#C8D4E3"
             },
             "line": {
              "color": "white"
             }
            },
            "type": "table"
           }
          ]
         },
         "layout": {
          "annotationdefaults": {
           "arrowcolor": "#2a3f5f",
           "arrowhead": 0,
           "arrowwidth": 1
          },
          "autotypenumbers": "strict",
          "coloraxis": {
           "colorbar": {
            "outlinewidth": 0,
            "ticks": ""
           }
          },
          "colorscale": {
           "diverging": [
            [
             0,
             "#8e0152"
            ],
            [
             0.1,
             "#c51b7d"
            ],
            [
             0.2,
             "#de77ae"
            ],
            [
             0.3,
             "#f1b6da"
            ],
            [
             0.4,
             "#fde0ef"
            ],
            [
             0.5,
             "#f7f7f7"
            ],
            [
             0.6,
             "#e6f5d0"
            ],
            [
             0.7,
             "#b8e186"
            ],
            [
             0.8,
             "#7fbc41"
            ],
            [
             0.9,
             "#4d9221"
            ],
            [
             1,
             "#276419"
            ]
           ],
           "sequential": [
            [
             0,
             "#0d0887"
            ],
            [
             0.1111111111111111,
             "#46039f"
            ],
            [
             0.2222222222222222,
             "#7201a8"
            ],
            [
             0.3333333333333333,
             "#9c179e"
            ],
            [
             0.4444444444444444,
             "#bd3786"
            ],
            [
             0.5555555555555556,
             "#d8576b"
            ],
            [
             0.6666666666666666,
             "#ed7953"
            ],
            [
             0.7777777777777778,
             "#fb9f3a"
            ],
            [
             0.8888888888888888,
             "#fdca26"
            ],
            [
             1,
             "#f0f921"
            ]
           ],
           "sequentialminus": [
            [
             0,
             "#0d0887"
            ],
            [
             0.1111111111111111,
             "#46039f"
            ],
            [
             0.2222222222222222,
             "#7201a8"
            ],
            [
             0.3333333333333333,
             "#9c179e"
            ],
            [
             0.4444444444444444,
             "#bd3786"
            ],
            [
             0.5555555555555556,
             "#d8576b"
            ],
            [
             0.6666666666666666,
             "#ed7953"
            ],
            [
             0.7777777777777778,
             "#fb9f3a"
            ],
            [
             0.8888888888888888,
             "#fdca26"
            ],
            [
             1,
             "#f0f921"
            ]
           ]
          },
          "colorway": [
           "#636efa",
           "#EF553B",
           "#00cc96",
           "#ab63fa",
           "#FFA15A",
           "#19d3f3",
           "#FF6692",
           "#B6E880",
           "#FF97FF",
           "#FECB52"
          ],
          "font": {
           "color": "#2a3f5f"
          },
          "geo": {
           "bgcolor": "white",
           "lakecolor": "white",
           "landcolor": "white",
           "showlakes": true,
           "showland": true,
           "subunitcolor": "#C8D4E3"
          },
          "hoverlabel": {
           "align": "left"
          },
          "hovermode": "closest",
          "mapbox": {
           "style": "light"
          },
          "paper_bgcolor": "white",
          "plot_bgcolor": "white",
          "polar": {
           "angularaxis": {
            "gridcolor": "#EBF0F8",
            "linecolor": "#EBF0F8",
            "ticks": ""
           },
           "bgcolor": "white",
           "radialaxis": {
            "gridcolor": "#EBF0F8",
            "linecolor": "#EBF0F8",
            "ticks": ""
           }
          },
          "scene": {
           "xaxis": {
            "backgroundcolor": "white",
            "gridcolor": "#DFE8F3",
            "gridwidth": 2,
            "linecolor": "#EBF0F8",
            "showbackground": true,
            "ticks": "",
            "zerolinecolor": "#EBF0F8"
           },
           "yaxis": {
            "backgroundcolor": "white",
            "gridcolor": "#DFE8F3",
            "gridwidth": 2,
            "linecolor": "#EBF0F8",
            "showbackground": true,
            "ticks": "",
            "zerolinecolor": "#EBF0F8"
           },
           "zaxis": {
            "backgroundcolor": "white",
            "gridcolor": "#DFE8F3",
            "gridwidth": 2,
            "linecolor": "#EBF0F8",
            "showbackground": true,
            "ticks": "",
            "zerolinecolor": "#EBF0F8"
           }
          },
          "shapedefaults": {
           "line": {
            "color": "#2a3f5f"
           }
          },
          "ternary": {
           "aaxis": {
            "gridcolor": "#DFE8F3",
            "linecolor": "#A2B1C6",
            "ticks": ""
           },
           "baxis": {
            "gridcolor": "#DFE8F3",
            "linecolor": "#A2B1C6",
            "ticks": ""
           },
           "bgcolor": "white",
           "caxis": {
            "gridcolor": "#DFE8F3",
            "linecolor": "#A2B1C6",
            "ticks": ""
           }
          },
          "title": {
           "x": 0.05
          },
          "xaxis": {
           "automargin": true,
           "gridcolor": "#EBF0F8",
           "linecolor": "#EBF0F8",
           "ticks": "",
           "title": {
            "standoff": 15
           },
           "zerolinecolor": "#EBF0F8",
           "zerolinewidth": 2
          },
          "yaxis": {
           "automargin": true,
           "gridcolor": "#EBF0F8",
           "linecolor": "#EBF0F8",
           "ticks": "",
           "title": {
            "standoff": 15
           },
           "zerolinecolor": "#EBF0F8",
           "zerolinewidth": 2
          }
         }
        },
        "title": {
         "text": "Influence du nombre de pas sur le prix (± 2 écart-types)"
        },
        "xaxis": {
         "title": {
          "text": "Nombre de pas (steps)"
         }
        },
        "yaxis": {
         "title": {
          "text": "Prix de l'option"
         }
        }
       }
      }
     },
     "metadata": {},
     "output_type": "display_data"
    }
   ],
   "source": [
    "graph_nb_pas = graph.comparer_steps()\n",
    "graph_nb_pas.show()\n",
    "    "
   ]
  },
  {
   "cell_type": "code",
   "execution_count": 11,
   "metadata": {},
   "outputs": [
    {
     "name": "stdout",
     "output_type": "stream",
     "text": [
      "Traitement de la méthode: scalar\n",
      "Traitement de la méthode: vector\n"
     ]
    },
    {
     "data": {
      "application/vnd.plotly.v1+json": {
       "config": {
        "plotlyServerURL": "https://plot.ly"
       },
       "data": [
        {
         "error_y": {
          "array": [
           4.595791807350671,
           3.9147012440975875,
           4.035537826850222,
           3.007171470914456,
           2.4564375112881907,
           2.041290434251582,
           1.905757207371683,
           1.8165722968453357,
           1.4602624047563069,
           1.3183853718133065,
           1.146490857572987,
           0.9490736884905461,
           0.7821350719947601,
           0.663368089717702,
           0.5502109701411141,
           0.46096805978512717,
           0.3872027239797041,
           0.31999470356932347,
           0.26915611160199326,
           0.22583918139104248
          ],
          "type": "data",
          "visible": true
         },
         "line": {
          "color": "#1f77b4"
         },
         "marker": {
          "size": 8,
          "symbol": 0
         },
         "mode": "lines+markers",
         "name": "scalar (Moy: 3.93s)",
         "type": "scatter",
         "x": [
          10,
          14,
          20,
          29,
          42,
          61,
          88,
          127,
          183,
          263,
          379,
          545,
          784,
          1128,
          1623,
          2335,
          3359,
          4832,
          6951,
          10000
         ],
         "xaxis": "x",
         "y": [
          4.936699489972612,
          7.1587975675031625,
          7.2196622979224205,
          6.307112745707614,
          6.053649157078738,
          6.352498679278361,
          7.058983164681404,
          7.097719449559756,
          6.5761565035867156,
          7.010695544633785,
          6.971352235193076,
          7.01966889663467,
          7.162896148360448,
          7.284172563270239,
          7.17605103343055,
          7.108911345618699,
          7.105294271418352,
          7.062177083708177,
          7.136694858684785,
          7.127490486770844
         ],
         "yaxis": "y"
        },
        {
         "line": {
          "color": "#1f77b4"
         },
         "marker": {
          "size": 8,
          "symbol": 0
         },
         "mode": "lines+markers",
         "name": "scalar",
         "showlegend": false,
         "type": "scatter",
         "x": [
          10,
          14,
          20,
          29,
          42,
          61,
          88,
          127,
          183,
          263,
          379,
          545,
          784,
          1128,
          1623,
          2335,
          3359,
          4832,
          6951,
          10000
         ],
         "xaxis": "x2",
         "y": [
          0.031090736389160156,
          0.03388357162475586,
          0.04726600646972656,
          0.07747888565063477,
          0.10433340072631836,
          0.14445829391479492,
          0.2006537914276123,
          0.3020915985107422,
          0.4009518623352051,
          0.6198012828826904,
          0.7830133438110352,
          1.1976990699768066,
          1.848698377609253,
          2.6840343475341797,
          3.8853986263275146,
          5.465317487716675,
          7.799705743789673,
          10.922423601150513,
          16.749818086624146,
          25.39134168624878
         ],
         "yaxis": "y2"
        },
        {
         "error_y": {
          "array": [
           4.595791807350673,
           3.914701244097589,
           4.035537826850225,
           3.0071714709144572,
           2.456437511288193,
           2.041290434251582,
           1.905757207371682,
           1.8165722968453355,
           1.4602624047563066,
           1.3183853718133063,
           1.1464908575729866,
           0.9490736884905461,
           0.7821350719947601,
           0.663368089717702,
           0.5502109701411142,
           0.46096805978512717,
           0.3872027239797041,
           0.31999470356932347,
           0.26915611160199326,
           0.22583918139104248
          ],
          "type": "data",
          "visible": true
         },
         "line": {
          "color": "#ff7f0e"
         },
         "marker": {
          "size": 8,
          "symbol": 1
         },
         "mode": "lines+markers",
         "name": "vector (Moy: 0.00s)",
         "type": "scatter",
         "x": [
          10,
          14,
          20,
          29,
          42,
          61,
          88,
          127,
          183,
          263,
          379,
          545,
          784,
          1128,
          1623,
          2335,
          3359,
          4832,
          6951,
          10000
         ],
         "xaxis": "x",
         "y": [
          4.936699489972613,
          7.1587975675031625,
          7.219662297922421,
          6.307112745707614,
          6.053649157078739,
          6.352498679278361,
          7.058983164681399,
          7.097719449559751,
          6.576156503586711,
          7.010695544633784,
          6.9713522351930735,
          7.019668896634669,
          7.162896148360451,
          7.284172563270239,
          7.17605103343055,
          7.108911345618699,
          7.10529427141835,
          7.062177083708177,
          7.136694858684785,
          7.127490486770842
         ],
         "yaxis": "y"
        },
        {
         "line": {
          "color": "#ff7f0e"
         },
         "marker": {
          "size": 8,
          "symbol": 1
         },
         "mode": "lines+markers",
         "name": "vector",
         "showlegend": false,
         "type": "scatter",
         "x": [
          10,
          14,
          20,
          29,
          42,
          61,
          88,
          127,
          183,
          263,
          379,
          545,
          784,
          1128,
          1623,
          2335,
          3359,
          4832,
          6951,
          10000
         ],
         "xaxis": "x2",
         "y": [
          0,
          0,
          0,
          0,
          0,
          0,
          0,
          0,
          0,
          0.009307861328125,
          0.0005176067352294922,
          0.0012173652648925781,
          0.0010802745819091797,
          0.0021080970764160156,
          0.0020787715911865234,
          0,
          0.010207176208496094,
          0.00975489616394043,
          0.013846158981323242,
          0.024712800979614258
         ],
         "yaxis": "y2"
        }
       ],
       "layout": {
        "annotations": [
         {
          "font": {
           "size": 16
          },
          "showarrow": false,
          "text": "Évolution du prix en fonction du nombre de chemins (± 2 écart-types)",
          "x": 0.225,
          "xanchor": "center",
          "xref": "paper",
          "y": 1,
          "yanchor": "bottom",
          "yref": "paper"
         },
         {
          "font": {
           "size": 16
          },
          "showarrow": false,
          "text": "Temps d'exécution en fonction du nombre de chemins",
          "x": 0.775,
          "xanchor": "center",
          "xref": "paper",
          "y": 1,
          "yanchor": "bottom",
          "yref": "paper"
         }
        ],
        "height": 600,
        "legend": {
         "orientation": "h",
         "x": 1,
         "xanchor": "right",
         "y": 1.02,
         "yanchor": "bottom"
        },
        "template": {
         "data": {
          "bar": [
           {
            "error_x": {
             "color": "#2a3f5f"
            },
            "error_y": {
             "color": "#2a3f5f"
            },
            "marker": {
             "line": {
              "color": "white",
              "width": 0.5
             },
             "pattern": {
              "fillmode": "overlay",
              "size": 10,
              "solidity": 0.2
             }
            },
            "type": "bar"
           }
          ],
          "barpolar": [
           {
            "marker": {
             "line": {
              "color": "white",
              "width": 0.5
             },
             "pattern": {
              "fillmode": "overlay",
              "size": 10,
              "solidity": 0.2
             }
            },
            "type": "barpolar"
           }
          ],
          "carpet": [
           {
            "aaxis": {
             "endlinecolor": "#2a3f5f",
             "gridcolor": "#C8D4E3",
             "linecolor": "#C8D4E3",
             "minorgridcolor": "#C8D4E3",
             "startlinecolor": "#2a3f5f"
            },
            "baxis": {
             "endlinecolor": "#2a3f5f",
             "gridcolor": "#C8D4E3",
             "linecolor": "#C8D4E3",
             "minorgridcolor": "#C8D4E3",
             "startlinecolor": "#2a3f5f"
            },
            "type": "carpet"
           }
          ],
          "choropleth": [
           {
            "colorbar": {
             "outlinewidth": 0,
             "ticks": ""
            },
            "type": "choropleth"
           }
          ],
          "contour": [
           {
            "colorbar": {
             "outlinewidth": 0,
             "ticks": ""
            },
            "colorscale": [
             [
              0,
              "#0d0887"
             ],
             [
              0.1111111111111111,
              "#46039f"
             ],
             [
              0.2222222222222222,
              "#7201a8"
             ],
             [
              0.3333333333333333,
              "#9c179e"
             ],
             [
              0.4444444444444444,
              "#bd3786"
             ],
             [
              0.5555555555555556,
              "#d8576b"
             ],
             [
              0.6666666666666666,
              "#ed7953"
             ],
             [
              0.7777777777777778,
              "#fb9f3a"
             ],
             [
              0.8888888888888888,
              "#fdca26"
             ],
             [
              1,
              "#f0f921"
             ]
            ],
            "type": "contour"
           }
          ],
          "contourcarpet": [
           {
            "colorbar": {
             "outlinewidth": 0,
             "ticks": ""
            },
            "type": "contourcarpet"
           }
          ],
          "heatmap": [
           {
            "colorbar": {
             "outlinewidth": 0,
             "ticks": ""
            },
            "colorscale": [
             [
              0,
              "#0d0887"
             ],
             [
              0.1111111111111111,
              "#46039f"
             ],
             [
              0.2222222222222222,
              "#7201a8"
             ],
             [
              0.3333333333333333,
              "#9c179e"
             ],
             [
              0.4444444444444444,
              "#bd3786"
             ],
             [
              0.5555555555555556,
              "#d8576b"
             ],
             [
              0.6666666666666666,
              "#ed7953"
             ],
             [
              0.7777777777777778,
              "#fb9f3a"
             ],
             [
              0.8888888888888888,
              "#fdca26"
             ],
             [
              1,
              "#f0f921"
             ]
            ],
            "type": "heatmap"
           }
          ],
          "heatmapgl": [
           {
            "colorbar": {
             "outlinewidth": 0,
             "ticks": ""
            },
            "colorscale": [
             [
              0,
              "#0d0887"
             ],
             [
              0.1111111111111111,
              "#46039f"
             ],
             [
              0.2222222222222222,
              "#7201a8"
             ],
             [
              0.3333333333333333,
              "#9c179e"
             ],
             [
              0.4444444444444444,
              "#bd3786"
             ],
             [
              0.5555555555555556,
              "#d8576b"
             ],
             [
              0.6666666666666666,
              "#ed7953"
             ],
             [
              0.7777777777777778,
              "#fb9f3a"
             ],
             [
              0.8888888888888888,
              "#fdca26"
             ],
             [
              1,
              "#f0f921"
             ]
            ],
            "type": "heatmapgl"
           }
          ],
          "histogram": [
           {
            "marker": {
             "pattern": {
              "fillmode": "overlay",
              "size": 10,
              "solidity": 0.2
             }
            },
            "type": "histogram"
           }
          ],
          "histogram2d": [
           {
            "colorbar": {
             "outlinewidth": 0,
             "ticks": ""
            },
            "colorscale": [
             [
              0,
              "#0d0887"
             ],
             [
              0.1111111111111111,
              "#46039f"
             ],
             [
              0.2222222222222222,
              "#7201a8"
             ],
             [
              0.3333333333333333,
              "#9c179e"
             ],
             [
              0.4444444444444444,
              "#bd3786"
             ],
             [
              0.5555555555555556,
              "#d8576b"
             ],
             [
              0.6666666666666666,
              "#ed7953"
             ],
             [
              0.7777777777777778,
              "#fb9f3a"
             ],
             [
              0.8888888888888888,
              "#fdca26"
             ],
             [
              1,
              "#f0f921"
             ]
            ],
            "type": "histogram2d"
           }
          ],
          "histogram2dcontour": [
           {
            "colorbar": {
             "outlinewidth": 0,
             "ticks": ""
            },
            "colorscale": [
             [
              0,
              "#0d0887"
             ],
             [
              0.1111111111111111,
              "#46039f"
             ],
             [
              0.2222222222222222,
              "#7201a8"
             ],
             [
              0.3333333333333333,
              "#9c179e"
             ],
             [
              0.4444444444444444,
              "#bd3786"
             ],
             [
              0.5555555555555556,
              "#d8576b"
             ],
             [
              0.6666666666666666,
              "#ed7953"
             ],
             [
              0.7777777777777778,
              "#fb9f3a"
             ],
             [
              0.8888888888888888,
              "#fdca26"
             ],
             [
              1,
              "#f0f921"
             ]
            ],
            "type": "histogram2dcontour"
           }
          ],
          "mesh3d": [
           {
            "colorbar": {
             "outlinewidth": 0,
             "ticks": ""
            },
            "type": "mesh3d"
           }
          ],
          "parcoords": [
           {
            "line": {
             "colorbar": {
              "outlinewidth": 0,
              "ticks": ""
             }
            },
            "type": "parcoords"
           }
          ],
          "pie": [
           {
            "automargin": true,
            "type": "pie"
           }
          ],
          "scatter": [
           {
            "fillpattern": {
             "fillmode": "overlay",
             "size": 10,
             "solidity": 0.2
            },
            "type": "scatter"
           }
          ],
          "scatter3d": [
           {
            "line": {
             "colorbar": {
              "outlinewidth": 0,
              "ticks": ""
             }
            },
            "marker": {
             "colorbar": {
              "outlinewidth": 0,
              "ticks": ""
             }
            },
            "type": "scatter3d"
           }
          ],
          "scattercarpet": [
           {
            "marker": {
             "colorbar": {
              "outlinewidth": 0,
              "ticks": ""
             }
            },
            "type": "scattercarpet"
           }
          ],
          "scattergeo": [
           {
            "marker": {
             "colorbar": {
              "outlinewidth": 0,
              "ticks": ""
             }
            },
            "type": "scattergeo"
           }
          ],
          "scattergl": [
           {
            "marker": {
             "colorbar": {
              "outlinewidth": 0,
              "ticks": ""
             }
            },
            "type": "scattergl"
           }
          ],
          "scattermapbox": [
           {
            "marker": {
             "colorbar": {
              "outlinewidth": 0,
              "ticks": ""
             }
            },
            "type": "scattermapbox"
           }
          ],
          "scatterpolar": [
           {
            "marker": {
             "colorbar": {
              "outlinewidth": 0,
              "ticks": ""
             }
            },
            "type": "scatterpolar"
           }
          ],
          "scatterpolargl": [
           {
            "marker": {
             "colorbar": {
              "outlinewidth": 0,
              "ticks": ""
             }
            },
            "type": "scatterpolargl"
           }
          ],
          "scatterternary": [
           {
            "marker": {
             "colorbar": {
              "outlinewidth": 0,
              "ticks": ""
             }
            },
            "type": "scatterternary"
           }
          ],
          "surface": [
           {
            "colorbar": {
             "outlinewidth": 0,
             "ticks": ""
            },
            "colorscale": [
             [
              0,
              "#0d0887"
             ],
             [
              0.1111111111111111,
              "#46039f"
             ],
             [
              0.2222222222222222,
              "#7201a8"
             ],
             [
              0.3333333333333333,
              "#9c179e"
             ],
             [
              0.4444444444444444,
              "#bd3786"
             ],
             [
              0.5555555555555556,
              "#d8576b"
             ],
             [
              0.6666666666666666,
              "#ed7953"
             ],
             [
              0.7777777777777778,
              "#fb9f3a"
             ],
             [
              0.8888888888888888,
              "#fdca26"
             ],
             [
              1,
              "#f0f921"
             ]
            ],
            "type": "surface"
           }
          ],
          "table": [
           {
            "cells": {
             "fill": {
              "color": "#EBF0F8"
             },
             "line": {
              "color": "white"
             }
            },
            "header": {
             "fill": {
              "color": "#C8D4E3"
             },
             "line": {
              "color": "white"
             }
            },
            "type": "table"
           }
          ]
         },
         "layout": {
          "annotationdefaults": {
           "arrowcolor": "#2a3f5f",
           "arrowhead": 0,
           "arrowwidth": 1
          },
          "autotypenumbers": "strict",
          "coloraxis": {
           "colorbar": {
            "outlinewidth": 0,
            "ticks": ""
           }
          },
          "colorscale": {
           "diverging": [
            [
             0,
             "#8e0152"
            ],
            [
             0.1,
             "#c51b7d"
            ],
            [
             0.2,
             "#de77ae"
            ],
            [
             0.3,
             "#f1b6da"
            ],
            [
             0.4,
             "#fde0ef"
            ],
            [
             0.5,
             "#f7f7f7"
            ],
            [
             0.6,
             "#e6f5d0"
            ],
            [
             0.7,
             "#b8e186"
            ],
            [
             0.8,
             "#7fbc41"
            ],
            [
             0.9,
             "#4d9221"
            ],
            [
             1,
             "#276419"
            ]
           ],
           "sequential": [
            [
             0,
             "#0d0887"
            ],
            [
             0.1111111111111111,
             "#46039f"
            ],
            [
             0.2222222222222222,
             "#7201a8"
            ],
            [
             0.3333333333333333,
             "#9c179e"
            ],
            [
             0.4444444444444444,
             "#bd3786"
            ],
            [
             0.5555555555555556,
             "#d8576b"
            ],
            [
             0.6666666666666666,
             "#ed7953"
            ],
            [
             0.7777777777777778,
             "#fb9f3a"
            ],
            [
             0.8888888888888888,
             "#fdca26"
            ],
            [
             1,
             "#f0f921"
            ]
           ],
           "sequentialminus": [
            [
             0,
             "#0d0887"
            ],
            [
             0.1111111111111111,
             "#46039f"
            ],
            [
             0.2222222222222222,
             "#7201a8"
            ],
            [
             0.3333333333333333,
             "#9c179e"
            ],
            [
             0.4444444444444444,
             "#bd3786"
            ],
            [
             0.5555555555555556,
             "#d8576b"
            ],
            [
             0.6666666666666666,
             "#ed7953"
            ],
            [
             0.7777777777777778,
             "#fb9f3a"
            ],
            [
             0.8888888888888888,
             "#fdca26"
            ],
            [
             1,
             "#f0f921"
            ]
           ]
          },
          "colorway": [
           "#636efa",
           "#EF553B",
           "#00cc96",
           "#ab63fa",
           "#FFA15A",
           "#19d3f3",
           "#FF6692",
           "#B6E880",
           "#FF97FF",
           "#FECB52"
          ],
          "font": {
           "color": "#2a3f5f"
          },
          "geo": {
           "bgcolor": "white",
           "lakecolor": "white",
           "landcolor": "white",
           "showlakes": true,
           "showland": true,
           "subunitcolor": "#C8D4E3"
          },
          "hoverlabel": {
           "align": "left"
          },
          "hovermode": "closest",
          "mapbox": {
           "style": "light"
          },
          "paper_bgcolor": "white",
          "plot_bgcolor": "white",
          "polar": {
           "angularaxis": {
            "gridcolor": "#EBF0F8",
            "linecolor": "#EBF0F8",
            "ticks": ""
           },
           "bgcolor": "white",
           "radialaxis": {
            "gridcolor": "#EBF0F8",
            "linecolor": "#EBF0F8",
            "ticks": ""
           }
          },
          "scene": {
           "xaxis": {
            "backgroundcolor": "white",
            "gridcolor": "#DFE8F3",
            "gridwidth": 2,
            "linecolor": "#EBF0F8",
            "showbackground": true,
            "ticks": "",
            "zerolinecolor": "#EBF0F8"
           },
           "yaxis": {
            "backgroundcolor": "white",
            "gridcolor": "#DFE8F3",
            "gridwidth": 2,
            "linecolor": "#EBF0F8",
            "showbackground": true,
            "ticks": "",
            "zerolinecolor": "#EBF0F8"
           },
           "zaxis": {
            "backgroundcolor": "white",
            "gridcolor": "#DFE8F3",
            "gridwidth": 2,
            "linecolor": "#EBF0F8",
            "showbackground": true,
            "ticks": "",
            "zerolinecolor": "#EBF0F8"
           }
          },
          "shapedefaults": {
           "line": {
            "color": "#2a3f5f"
           }
          },
          "ternary": {
           "aaxis": {
            "gridcolor": "#DFE8F3",
            "linecolor": "#A2B1C6",
            "ticks": ""
           },
           "baxis": {
            "gridcolor": "#DFE8F3",
            "linecolor": "#A2B1C6",
            "ticks": ""
           },
           "bgcolor": "white",
           "caxis": {
            "gridcolor": "#DFE8F3",
            "linecolor": "#A2B1C6",
            "ticks": ""
           }
          },
          "title": {
           "x": 0.05
          },
          "xaxis": {
           "automargin": true,
           "gridcolor": "#EBF0F8",
           "linecolor": "#EBF0F8",
           "ticks": "",
           "title": {
            "standoff": 15
           },
           "zerolinecolor": "#EBF0F8",
           "zerolinewidth": 2
          },
          "yaxis": {
           "automargin": true,
           "gridcolor": "#EBF0F8",
           "linecolor": "#EBF0F8",
           "ticks": "",
           "title": {
            "standoff": 15
           },
           "zerolinecolor": "#EBF0F8",
           "zerolinewidth": 2
          }
         }
        },
        "width": 1200,
        "xaxis": {
         "anchor": "y",
         "domain": [
          0,
          0.45
         ],
         "title": {
          "text": "Nombre de chemins (échelle log)"
         },
         "type": "log"
        },
        "xaxis2": {
         "anchor": "y2",
         "domain": [
          0.55,
          1
         ],
         "title": {
          "text": "Nombre de chemins (échelle log)"
         },
         "type": "log"
        },
        "yaxis": {
         "anchor": "x",
         "domain": [
          0,
          1
         ],
         "title": {
          "text": "Prix de l'option"
         }
        },
        "yaxis2": {
         "anchor": "x2",
         "domain": [
          0,
          1
         ],
         "title": {
          "text": "Temps d'exécution (s)"
         },
         "type": "log"
        }
       }
      }
     },
     "metadata": {},
     "output_type": "display_data"
    }
   ],
   "source": [
    "graph_path = graph.comparer_convergence_paths()\n",
    "graph_path.show()"
   ]
  },
  {
   "cell_type": "code",
   "execution_count": 12,
   "metadata": {},
   "outputs": [
    {
     "data": {
      "application/vnd.plotly.v1+json": {
       "config": {
        "plotlyServerURL": "https://plot.ly"
       },
       "data": [
        {
         "error_y": {
          "array": [
           0.22583918139104248
          ],
          "type": "data",
          "visible": true
         },
         "marker": {
          "color": "#1f77b4",
          "size": 10
         },
         "mode": "markers",
         "name": "Polynomial (deg=2)",
         "type": "scatter",
         "x": [
          0
         ],
         "xaxis": "x",
         "y": [
          7.127490486770842
         ],
         "yaxis": "y"
        },
        {
         "error_y": {
          "array": [
           0.22583918139104248
          ],
          "type": "data",
          "visible": true
         },
         "marker": {
          "color": "#ff7f0e",
          "size": 10
         },
         "mode": "markers",
         "name": "Polynomial (deg=3)",
         "type": "scatter",
         "x": [
          1
         ],
         "xaxis": "x",
         "y": [
          7.127490486770842
         ],
         "yaxis": "y"
        },
        {
         "error_y": {
          "array": [
           0.22583918139104248
          ],
          "type": "data",
          "visible": true
         },
         "marker": {
          "color": "#2ca02c",
          "size": 10
         },
         "mode": "markers",
         "name": "Polynomial (deg=4)",
         "type": "scatter",
         "x": [
          2
         ],
         "xaxis": "x",
         "y": [
          7.127490486770842
         ],
         "yaxis": "y"
        },
        {
         "error_y": {
          "array": [
           0.22583918139104248
          ],
          "type": "data",
          "visible": true
         },
         "marker": {
          "color": "#d62728",
          "size": 10
         },
         "mode": "markers",
         "name": "Polynomial (deg=5)",
         "type": "scatter",
         "x": [
          3
         ],
         "xaxis": "x",
         "y": [
          7.127490486770842
         ],
         "yaxis": "y"
        },
        {
         "error_y": {
          "array": [
           0.22583918139104248
          ],
          "type": "data",
          "visible": true
         },
         "marker": {
          "color": "#9467bd",
          "size": 10
         },
         "mode": "markers",
         "name": "Polynomial (deg=6)",
         "type": "scatter",
         "x": [
          4
         ],
         "xaxis": "x",
         "y": [
          7.127490486770842
         ],
         "yaxis": "y"
        },
        {
         "error_y": {
          "array": [
           0.22583918139104248
          ],
          "type": "data",
          "visible": true
         },
         "marker": {
          "color": "#8c564b",
          "size": 10
         },
         "mode": "markers",
         "name": "Polynomial (deg=7)",
         "type": "scatter",
         "x": [
          5
         ],
         "xaxis": "x",
         "y": [
          7.127490486770842
         ],
         "yaxis": "y"
        },
        {
         "error_y": {
          "array": [
           0.22583918139104248
          ],
          "type": "data",
          "visible": true
         },
         "marker": {
          "color": "#e377c2",
          "size": 10
         },
         "mode": "markers",
         "name": "Laguerre",
         "type": "scatter",
         "x": [
          6
         ],
         "xaxis": "x",
         "y": [
          7.127490486770842
         ],
         "yaxis": "y"
        },
        {
         "error_y": {
          "array": [
           0.22583918139104248
          ],
          "type": "data",
          "visible": true
         },
         "marker": {
          "color": "#7f7f7f",
          "size": 10
         },
         "mode": "markers",
         "name": "Hermite",
         "type": "scatter",
         "x": [
          7
         ],
         "xaxis": "x",
         "y": [
          7.127490486770842
         ],
         "yaxis": "y"
        },
        {
         "error_y": {
          "array": [
           0.22583918139104248
          ],
          "type": "data",
          "visible": true
         },
         "marker": {
          "color": "#bcbd22",
          "size": 10
         },
         "mode": "markers",
         "name": "Linear",
         "type": "scatter",
         "x": [
          8
         ],
         "xaxis": "x",
         "y": [
          7.127490486770842
         ],
         "yaxis": "y"
        },
        {
         "error_y": {
          "array": [
           0.22583918139104248
          ],
          "type": "data",
          "visible": true
         },
         "marker": {
          "color": "#17becf",
          "size": 10
         },
         "mode": "markers",
         "name": "Logarithmic",
         "type": "scatter",
         "x": [
          9
         ],
         "xaxis": "x",
         "y": [
          7.127490486770842
         ],
         "yaxis": "y"
        },
        {
         "error_y": {
          "array": [
           0.22583918139104248
          ],
          "type": "data",
          "visible": true
         },
         "marker": {
          "color": "#1f77b4",
          "size": 10
         },
         "mode": "markers",
         "name": "Exponential",
         "type": "scatter",
         "x": [
          10
         ],
         "xaxis": "x",
         "y": [
          7.127490486770842
         ],
         "yaxis": "y"
        },
        {
         "marker": {
          "color": [
           "#1f77b4",
           "#ff7f0e",
           "#2ca02c",
           "#d62728",
           "#9467bd",
           "#8c564b",
           "#e377c2",
           "#7f7f7f",
           "#bcbd22",
           "#17becf",
           "#1f77b4"
          ]
         },
         "showlegend": false,
         "type": "bar",
         "x": [
          0,
          1,
          2,
          3,
          4,
          5,
          6,
          7,
          8,
          9,
          10
         ],
         "xaxis": "x2",
         "y": [
          0.02511143684387207,
          0.020883560180664062,
          0.035788774490356445,
          0.028879880905151367,
          0.026212692260742188,
          0.020950794219970703,
          0.020924806594848633,
          0.02283763885498047,
          0.018871545791625977,
          0.02095174789428711,
          0.024579524993896484
         ],
         "yaxis": "y2"
        }
       ],
       "layout": {
        "annotations": [
         {
          "font": {
           "size": 16
          },
          "showarrow": false,
          "text": "Comparaison des prix par type/degré de modèle (± 2 écart-types)",
          "x": 0.225,
          "xanchor": "center",
          "xref": "paper",
          "y": 1,
          "yanchor": "bottom",
          "yref": "paper"
         },
         {
          "font": {
           "size": 16
          },
          "showarrow": false,
          "text": "Temps d'exécution par type/degré de modèle",
          "x": 0.775,
          "xanchor": "center",
          "xref": "paper",
          "y": 1,
          "yanchor": "bottom",
          "yref": "paper"
         },
         {
          "showarrow": false,
          "text": "Prix moyen: 7.1275",
          "x": 10,
          "xref": "x",
          "y": 7.127490486770841,
          "yref": "y",
          "yshift": 10
         }
        ],
        "height": 600,
        "legend": {
         "orientation": "h",
         "x": 0.5,
         "xanchor": "center",
         "y": -0.5,
         "yanchor": "bottom"
        },
        "shapes": [
         {
          "line": {
           "color": "red",
           "dash": "dash",
           "width": 2
          },
          "type": "line",
          "x0": -0.5,
          "x1": 10.5,
          "xref": "x",
          "y0": 7.127490486770841,
          "y1": 7.127490486770841,
          "yref": "y"
         }
        ],
        "template": {
         "data": {
          "bar": [
           {
            "error_x": {
             "color": "#2a3f5f"
            },
            "error_y": {
             "color": "#2a3f5f"
            },
            "marker": {
             "line": {
              "color": "white",
              "width": 0.5
             },
             "pattern": {
              "fillmode": "overlay",
              "size": 10,
              "solidity": 0.2
             }
            },
            "type": "bar"
           }
          ],
          "barpolar": [
           {
            "marker": {
             "line": {
              "color": "white",
              "width": 0.5
             },
             "pattern": {
              "fillmode": "overlay",
              "size": 10,
              "solidity": 0.2
             }
            },
            "type": "barpolar"
           }
          ],
          "carpet": [
           {
            "aaxis": {
             "endlinecolor": "#2a3f5f",
             "gridcolor": "#C8D4E3",
             "linecolor": "#C8D4E3",
             "minorgridcolor": "#C8D4E3",
             "startlinecolor": "#2a3f5f"
            },
            "baxis": {
             "endlinecolor": "#2a3f5f",
             "gridcolor": "#C8D4E3",
             "linecolor": "#C8D4E3",
             "minorgridcolor": "#C8D4E3",
             "startlinecolor": "#2a3f5f"
            },
            "type": "carpet"
           }
          ],
          "choropleth": [
           {
            "colorbar": {
             "outlinewidth": 0,
             "ticks": ""
            },
            "type": "choropleth"
           }
          ],
          "contour": [
           {
            "colorbar": {
             "outlinewidth": 0,
             "ticks": ""
            },
            "colorscale": [
             [
              0,
              "#0d0887"
             ],
             [
              0.1111111111111111,
              "#46039f"
             ],
             [
              0.2222222222222222,
              "#7201a8"
             ],
             [
              0.3333333333333333,
              "#9c179e"
             ],
             [
              0.4444444444444444,
              "#bd3786"
             ],
             [
              0.5555555555555556,
              "#d8576b"
             ],
             [
              0.6666666666666666,
              "#ed7953"
             ],
             [
              0.7777777777777778,
              "#fb9f3a"
             ],
             [
              0.8888888888888888,
              "#fdca26"
             ],
             [
              1,
              "#f0f921"
             ]
            ],
            "type": "contour"
           }
          ],
          "contourcarpet": [
           {
            "colorbar": {
             "outlinewidth": 0,
             "ticks": ""
            },
            "type": "contourcarpet"
           }
          ],
          "heatmap": [
           {
            "colorbar": {
             "outlinewidth": 0,
             "ticks": ""
            },
            "colorscale": [
             [
              0,
              "#0d0887"
             ],
             [
              0.1111111111111111,
              "#46039f"
             ],
             [
              0.2222222222222222,
              "#7201a8"
             ],
             [
              0.3333333333333333,
              "#9c179e"
             ],
             [
              0.4444444444444444,
              "#bd3786"
             ],
             [
              0.5555555555555556,
              "#d8576b"
             ],
             [
              0.6666666666666666,
              "#ed7953"
             ],
             [
              0.7777777777777778,
              "#fb9f3a"
             ],
             [
              0.8888888888888888,
              "#fdca26"
             ],
             [
              1,
              "#f0f921"
             ]
            ],
            "type": "heatmap"
           }
          ],
          "heatmapgl": [
           {
            "colorbar": {
             "outlinewidth": 0,
             "ticks": ""
            },
            "colorscale": [
             [
              0,
              "#0d0887"
             ],
             [
              0.1111111111111111,
              "#46039f"
             ],
             [
              0.2222222222222222,
              "#7201a8"
             ],
             [
              0.3333333333333333,
              "#9c179e"
             ],
             [
              0.4444444444444444,
              "#bd3786"
             ],
             [
              0.5555555555555556,
              "#d8576b"
             ],
             [
              0.6666666666666666,
              "#ed7953"
             ],
             [
              0.7777777777777778,
              "#fb9f3a"
             ],
             [
              0.8888888888888888,
              "#fdca26"
             ],
             [
              1,
              "#f0f921"
             ]
            ],
            "type": "heatmapgl"
           }
          ],
          "histogram": [
           {
            "marker": {
             "pattern": {
              "fillmode": "overlay",
              "size": 10,
              "solidity": 0.2
             }
            },
            "type": "histogram"
           }
          ],
          "histogram2d": [
           {
            "colorbar": {
             "outlinewidth": 0,
             "ticks": ""
            },
            "colorscale": [
             [
              0,
              "#0d0887"
             ],
             [
              0.1111111111111111,
              "#46039f"
             ],
             [
              0.2222222222222222,
              "#7201a8"
             ],
             [
              0.3333333333333333,
              "#9c179e"
             ],
             [
              0.4444444444444444,
              "#bd3786"
             ],
             [
              0.5555555555555556,
              "#d8576b"
             ],
             [
              0.6666666666666666,
              "#ed7953"
             ],
             [
              0.7777777777777778,
              "#fb9f3a"
             ],
             [
              0.8888888888888888,
              "#fdca26"
             ],
             [
              1,
              "#f0f921"
             ]
            ],
            "type": "histogram2d"
           }
          ],
          "histogram2dcontour": [
           {
            "colorbar": {
             "outlinewidth": 0,
             "ticks": ""
            },
            "colorscale": [
             [
              0,
              "#0d0887"
             ],
             [
              0.1111111111111111,
              "#46039f"
             ],
             [
              0.2222222222222222,
              "#7201a8"
             ],
             [
              0.3333333333333333,
              "#9c179e"
             ],
             [
              0.4444444444444444,
              "#bd3786"
             ],
             [
              0.5555555555555556,
              "#d8576b"
             ],
             [
              0.6666666666666666,
              "#ed7953"
             ],
             [
              0.7777777777777778,
              "#fb9f3a"
             ],
             [
              0.8888888888888888,
              "#fdca26"
             ],
             [
              1,
              "#f0f921"
             ]
            ],
            "type": "histogram2dcontour"
           }
          ],
          "mesh3d": [
           {
            "colorbar": {
             "outlinewidth": 0,
             "ticks": ""
            },
            "type": "mesh3d"
           }
          ],
          "parcoords": [
           {
            "line": {
             "colorbar": {
              "outlinewidth": 0,
              "ticks": ""
             }
            },
            "type": "parcoords"
           }
          ],
          "pie": [
           {
            "automargin": true,
            "type": "pie"
           }
          ],
          "scatter": [
           {
            "fillpattern": {
             "fillmode": "overlay",
             "size": 10,
             "solidity": 0.2
            },
            "type": "scatter"
           }
          ],
          "scatter3d": [
           {
            "line": {
             "colorbar": {
              "outlinewidth": 0,
              "ticks": ""
             }
            },
            "marker": {
             "colorbar": {
              "outlinewidth": 0,
              "ticks": ""
             }
            },
            "type": "scatter3d"
           }
          ],
          "scattercarpet": [
           {
            "marker": {
             "colorbar": {
              "outlinewidth": 0,
              "ticks": ""
             }
            },
            "type": "scattercarpet"
           }
          ],
          "scattergeo": [
           {
            "marker": {
             "colorbar": {
              "outlinewidth": 0,
              "ticks": ""
             }
            },
            "type": "scattergeo"
           }
          ],
          "scattergl": [
           {
            "marker": {
             "colorbar": {
              "outlinewidth": 0,
              "ticks": ""
             }
            },
            "type": "scattergl"
           }
          ],
          "scattermapbox": [
           {
            "marker": {
             "colorbar": {
              "outlinewidth": 0,
              "ticks": ""
             }
            },
            "type": "scattermapbox"
           }
          ],
          "scatterpolar": [
           {
            "marker": {
             "colorbar": {
              "outlinewidth": 0,
              "ticks": ""
             }
            },
            "type": "scatterpolar"
           }
          ],
          "scatterpolargl": [
           {
            "marker": {
             "colorbar": {
              "outlinewidth": 0,
              "ticks": ""
             }
            },
            "type": "scatterpolargl"
           }
          ],
          "scatterternary": [
           {
            "marker": {
             "colorbar": {
              "outlinewidth": 0,
              "ticks": ""
             }
            },
            "type": "scatterternary"
           }
          ],
          "surface": [
           {
            "colorbar": {
             "outlinewidth": 0,
             "ticks": ""
            },
            "colorscale": [
             [
              0,
              "#0d0887"
             ],
             [
              0.1111111111111111,
              "#46039f"
             ],
             [
              0.2222222222222222,
              "#7201a8"
             ],
             [
              0.3333333333333333,
              "#9c179e"
             ],
             [
              0.4444444444444444,
              "#bd3786"
             ],
             [
              0.5555555555555556,
              "#d8576b"
             ],
             [
              0.6666666666666666,
              "#ed7953"
             ],
             [
              0.7777777777777778,
              "#fb9f3a"
             ],
             [
              0.8888888888888888,
              "#fdca26"
             ],
             [
              1,
              "#f0f921"
             ]
            ],
            "type": "surface"
           }
          ],
          "table": [
           {
            "cells": {
             "fill": {
              "color": "#EBF0F8"
             },
             "line": {
              "color": "white"
             }
            },
            "header": {
             "fill": {
              "color": "#C8D4E3"
             },
             "line": {
              "color": "white"
             }
            },
            "type": "table"
           }
          ]
         },
         "layout": {
          "annotationdefaults": {
           "arrowcolor": "#2a3f5f",
           "arrowhead": 0,
           "arrowwidth": 1
          },
          "autotypenumbers": "strict",
          "coloraxis": {
           "colorbar": {
            "outlinewidth": 0,
            "ticks": ""
           }
          },
          "colorscale": {
           "diverging": [
            [
             0,
             "#8e0152"
            ],
            [
             0.1,
             "#c51b7d"
            ],
            [
             0.2,
             "#de77ae"
            ],
            [
             0.3,
             "#f1b6da"
            ],
            [
             0.4,
             "#fde0ef"
            ],
            [
             0.5,
             "#f7f7f7"
            ],
            [
             0.6,
             "#e6f5d0"
            ],
            [
             0.7,
             "#b8e186"
            ],
            [
             0.8,
             "#7fbc41"
            ],
            [
             0.9,
             "#4d9221"
            ],
            [
             1,
             "#276419"
            ]
           ],
           "sequential": [
            [
             0,
             "#0d0887"
            ],
            [
             0.1111111111111111,
             "#46039f"
            ],
            [
             0.2222222222222222,
             "#7201a8"
            ],
            [
             0.3333333333333333,
             "#9c179e"
            ],
            [
             0.4444444444444444,
             "#bd3786"
            ],
            [
             0.5555555555555556,
             "#d8576b"
            ],
            [
             0.6666666666666666,
             "#ed7953"
            ],
            [
             0.7777777777777778,
             "#fb9f3a"
            ],
            [
             0.8888888888888888,
             "#fdca26"
            ],
            [
             1,
             "#f0f921"
            ]
           ],
           "sequentialminus": [
            [
             0,
             "#0d0887"
            ],
            [
             0.1111111111111111,
             "#46039f"
            ],
            [
             0.2222222222222222,
             "#7201a8"
            ],
            [
             0.3333333333333333,
             "#9c179e"
            ],
            [
             0.4444444444444444,
             "#bd3786"
            ],
            [
             0.5555555555555556,
             "#d8576b"
            ],
            [
             0.6666666666666666,
             "#ed7953"
            ],
            [
             0.7777777777777778,
             "#fb9f3a"
            ],
            [
             0.8888888888888888,
             "#fdca26"
            ],
            [
             1,
             "#f0f921"
            ]
           ]
          },
          "colorway": [
           "#636efa",
           "#EF553B",
           "#00cc96",
           "#ab63fa",
           "#FFA15A",
           "#19d3f3",
           "#FF6692",
           "#B6E880",
           "#FF97FF",
           "#FECB52"
          ],
          "font": {
           "color": "#2a3f5f"
          },
          "geo": {
           "bgcolor": "white",
           "lakecolor": "white",
           "landcolor": "white",
           "showlakes": true,
           "showland": true,
           "subunitcolor": "#C8D4E3"
          },
          "hoverlabel": {
           "align": "left"
          },
          "hovermode": "closest",
          "mapbox": {
           "style": "light"
          },
          "paper_bgcolor": "white",
          "plot_bgcolor": "white",
          "polar": {
           "angularaxis": {
            "gridcolor": "#EBF0F8",
            "linecolor": "#EBF0F8",
            "ticks": ""
           },
           "bgcolor": "white",
           "radialaxis": {
            "gridcolor": "#EBF0F8",
            "linecolor": "#EBF0F8",
            "ticks": ""
           }
          },
          "scene": {
           "xaxis": {
            "backgroundcolor": "white",
            "gridcolor": "#DFE8F3",
            "gridwidth": 2,
            "linecolor": "#EBF0F8",
            "showbackground": true,
            "ticks": "",
            "zerolinecolor": "#EBF0F8"
           },
           "yaxis": {
            "backgroundcolor": "white",
            "gridcolor": "#DFE8F3",
            "gridwidth": 2,
            "linecolor": "#EBF0F8",
            "showbackground": true,
            "ticks": "",
            "zerolinecolor": "#EBF0F8"
           },
           "zaxis": {
            "backgroundcolor": "white",
            "gridcolor": "#DFE8F3",
            "gridwidth": 2,
            "linecolor": "#EBF0F8",
            "showbackground": true,
            "ticks": "",
            "zerolinecolor": "#EBF0F8"
           }
          },
          "shapedefaults": {
           "line": {
            "color": "#2a3f5f"
           }
          },
          "ternary": {
           "aaxis": {
            "gridcolor": "#DFE8F3",
            "linecolor": "#A2B1C6",
            "ticks": ""
           },
           "baxis": {
            "gridcolor": "#DFE8F3",
            "linecolor": "#A2B1C6",
            "ticks": ""
           },
           "bgcolor": "white",
           "caxis": {
            "gridcolor": "#DFE8F3",
            "linecolor": "#A2B1C6",
            "ticks": ""
           }
          },
          "title": {
           "x": 0.05
          },
          "xaxis": {
           "automargin": true,
           "gridcolor": "#EBF0F8",
           "linecolor": "#EBF0F8",
           "ticks": "",
           "title": {
            "standoff": 15
           },
           "zerolinecolor": "#EBF0F8",
           "zerolinewidth": 2
          },
          "yaxis": {
           "automargin": true,
           "gridcolor": "#EBF0F8",
           "linecolor": "#EBF0F8",
           "ticks": "",
           "title": {
            "standoff": 15
           },
           "zerolinecolor": "#EBF0F8",
           "zerolinewidth": 2
          }
         }
        },
        "width": 1400,
        "xaxis": {
         "anchor": "y",
         "domain": [
          0,
          0.45
         ],
         "tickangle": 45,
         "tickmode": "array",
         "ticktext": [
          "Polynomial (deg=2)",
          "Polynomial (deg=3)",
          "Polynomial (deg=4)",
          "Polynomial (deg=5)",
          "Polynomial (deg=6)",
          "Polynomial (deg=7)",
          "Laguerre",
          "Hermite",
          "Linear",
          "Logarithmic",
          "Exponential"
         ],
         "tickvals": [
          0,
          1,
          2,
          3,
          4,
          5,
          6,
          7,
          8,
          9,
          10
         ]
        },
        "xaxis2": {
         "anchor": "y2",
         "domain": [
          0.55,
          1
         ],
         "tickangle": 45,
         "tickmode": "array",
         "ticktext": [
          "Polynomial (deg=2)",
          "Polynomial (deg=3)",
          "Polynomial (deg=4)",
          "Polynomial (deg=5)",
          "Polynomial (deg=6)",
          "Polynomial (deg=7)",
          "Laguerre",
          "Hermite",
          "Linear",
          "Logarithmic",
          "Exponential"
         ],
         "tickvals": [
          0,
          1,
          2,
          3,
          4,
          5,
          6,
          7,
          8,
          9,
          10
         ]
        },
        "yaxis": {
         "anchor": "x",
         "domain": [
          0,
          1
         ],
         "title": {
          "text": "Prix de l'option"
         }
        },
        "yaxis2": {
         "anchor": "x2",
         "domain": [
          0,
          1
         ],
         "title": {
          "text": "Temps d'exécution (s)"
         }
        }
       }
      }
     },
     "metadata": {},
     "output_type": "display_data"
    }
   ],
   "source": [
    "graph_poly, df_results = graph.comparer_polynomes()\n",
    "graph_poly.show()\n"
   ]
  },
  {
   "cell_type": "code",
   "execution_count": 13,
   "metadata": {},
   "outputs": [
    {
     "data": {
      "application/vnd.plotly.v1+json": {
       "config": {
        "plotlyServerURL": "https://plot.ly"
       },
       "data": [
        {
         "line": {
          "color": "#1f77b4"
         },
         "marker": {
          "size": 10
         },
         "mode": "lines+markers",
         "name": "Polynomial",
         "type": "scatter",
         "x": [
          2,
          3,
          4,
          5,
          6,
          7,
          8,
          9,
          10
         ],
         "xaxis": "x",
         "y": [
          7.127490486770842,
          7.127490486770842,
          7.127490486770842,
          7.127490486770842,
          7.127490486770842,
          7.127490486770842,
          7.127490486770842,
          7.127490486770842,
          7.127490486770842
         ],
         "yaxis": "y"
        },
        {
         "line": {
          "width": 0
         },
         "mode": "lines",
         "showlegend": false,
         "type": "scatter",
         "x": [
          2,
          3,
          4,
          5,
          6,
          7,
          8,
          9,
          10
         ],
         "xaxis": "x",
         "y": [
          7.3533296681618845,
          7.3533296681618845,
          7.3533296681618845,
          7.3533296681618845,
          7.3533296681618845,
          7.3533296681618845,
          7.3533296681618845,
          7.3533296681618845,
          7.3533296681618845
         ],
         "yaxis": "y"
        },
        {
         "fill": "tonexty",
         "fillcolor": "rgba(0, 0, 0, 0.3)",
         "line": {
          "width": 0
         },
         "mode": "lines",
         "name": "Polynomial Intervalle de confiance",
         "showlegend": false,
         "type": "scatter",
         "x": [
          2,
          3,
          4,
          5,
          6,
          7,
          8,
          9,
          10
         ],
         "xaxis": "x",
         "y": [
          6.9016513053798,
          6.9016513053798,
          6.9016513053798,
          6.9016513053798,
          6.9016513053798,
          6.9016513053798,
          6.9016513053798,
          6.9016513053798,
          6.9016513053798
         ],
         "yaxis": "y"
        },
        {
         "line": {
          "color": "#ff7f0e"
         },
         "marker": {
          "size": 10
         },
         "mode": "lines+markers",
         "name": "Laguerre",
         "type": "scatter",
         "x": [
          2,
          3,
          4,
          5,
          6,
          7,
          8,
          9,
          10
         ],
         "xaxis": "x2",
         "y": [
          7.127490486770842,
          7.127490486770842,
          7.127490486770842,
          7.127490486770842,
          7.127490486770842,
          7.127490486770842,
          7.127490486770842,
          7.127490486770842,
          7.127490486770842
         ],
         "yaxis": "y2"
        },
        {
         "line": {
          "width": 0
         },
         "mode": "lines",
         "showlegend": false,
         "type": "scatter",
         "x": [
          2,
          3,
          4,
          5,
          6,
          7,
          8,
          9,
          10
         ],
         "xaxis": "x2",
         "y": [
          7.3533296681618845,
          7.3533296681618845,
          7.3533296681618845,
          7.3533296681618845,
          7.3533296681618845,
          7.3533296681618845,
          7.3533296681618845,
          7.3533296681618845,
          7.3533296681618845
         ],
         "yaxis": "y2"
        },
        {
         "fill": "tonexty",
         "fillcolor": "rgba(50, 100, 150, 0.3)",
         "line": {
          "width": 0
         },
         "mode": "lines",
         "name": "Laguerre Intervalle de confiance",
         "showlegend": false,
         "type": "scatter",
         "x": [
          2,
          3,
          4,
          5,
          6,
          7,
          8,
          9,
          10
         ],
         "xaxis": "x2",
         "y": [
          6.9016513053798,
          6.9016513053798,
          6.9016513053798,
          6.9016513053798,
          6.9016513053798,
          6.9016513053798,
          6.9016513053798,
          6.9016513053798,
          6.9016513053798
         ],
         "yaxis": "y2"
        },
        {
         "line": {
          "color": "#2ca02c"
         },
         "marker": {
          "size": 10
         },
         "mode": "lines+markers",
         "name": "Hermite",
         "type": "scatter",
         "x": [
          2,
          3,
          4,
          5,
          6,
          7,
          8,
          9,
          10
         ],
         "xaxis": "x3",
         "y": [
          7.127490486770842,
          7.127490486770842,
          7.127490486770842,
          7.127490486770842,
          7.127490486770842,
          7.127490486770842,
          7.127490486770842,
          7.127490486770842,
          7.127490486770842
         ],
         "yaxis": "y3"
        },
        {
         "line": {
          "width": 0
         },
         "mode": "lines",
         "showlegend": false,
         "type": "scatter",
         "x": [
          2,
          3,
          4,
          5,
          6,
          7,
          8,
          9,
          10
         ],
         "xaxis": "x3",
         "y": [
          7.3533296681618845,
          7.3533296681618845,
          7.3533296681618845,
          7.3533296681618845,
          7.3533296681618845,
          7.3533296681618845,
          7.3533296681618845,
          7.3533296681618845,
          7.3533296681618845
         ],
         "yaxis": "y3"
        },
        {
         "fill": "tonexty",
         "fillcolor": "rgba(100, 200, 45, 0.3)",
         "line": {
          "width": 0
         },
         "mode": "lines",
         "name": "Hermite Intervalle de confiance",
         "showlegend": false,
         "type": "scatter",
         "x": [
          2,
          3,
          4,
          5,
          6,
          7,
          8,
          9,
          10
         ],
         "xaxis": "x3",
         "y": [
          6.9016513053798,
          6.9016513053798,
          6.9016513053798,
          6.9016513053798,
          6.9016513053798,
          6.9016513053798,
          6.9016513053798,
          6.9016513053798,
          6.9016513053798
         ],
         "yaxis": "y3"
        }
       ],
       "layout": {
        "annotations": [
         {
          "font": {
           "size": 16
          },
          "showarrow": false,
          "text": "Résultats pour le type Polynomial",
          "x": 0.5,
          "xanchor": "center",
          "xref": "paper",
          "y": 1,
          "yanchor": "bottom",
          "yref": "paper"
         },
         {
          "font": {
           "size": 16
          },
          "showarrow": false,
          "text": "Résultats pour le type Laguerre",
          "x": 0.5,
          "xanchor": "center",
          "xref": "paper",
          "y": 0.6333333333333333,
          "yanchor": "bottom",
          "yref": "paper"
         },
         {
          "font": {
           "size": 16
          },
          "showarrow": false,
          "text": "Résultats pour le type Hermite",
          "x": 0.5,
          "xanchor": "center",
          "xref": "paper",
          "y": 0.26666666666666666,
          "yanchor": "bottom",
          "yref": "paper"
         }
        ],
        "height": 900,
        "legend": {
         "orientation": "h",
         "x": 1,
         "xanchor": "right",
         "y": 1.02,
         "yanchor": "bottom"
        },
        "template": {
         "data": {
          "bar": [
           {
            "error_x": {
             "color": "#2a3f5f"
            },
            "error_y": {
             "color": "#2a3f5f"
            },
            "marker": {
             "line": {
              "color": "#E5ECF6",
              "width": 0.5
             },
             "pattern": {
              "fillmode": "overlay",
              "size": 10,
              "solidity": 0.2
             }
            },
            "type": "bar"
           }
          ],
          "barpolar": [
           {
            "marker": {
             "line": {
              "color": "#E5ECF6",
              "width": 0.5
             },
             "pattern": {
              "fillmode": "overlay",
              "size": 10,
              "solidity": 0.2
             }
            },
            "type": "barpolar"
           }
          ],
          "carpet": [
           {
            "aaxis": {
             "endlinecolor": "#2a3f5f",
             "gridcolor": "white",
             "linecolor": "white",
             "minorgridcolor": "white",
             "startlinecolor": "#2a3f5f"
            },
            "baxis": {
             "endlinecolor": "#2a3f5f",
             "gridcolor": "white",
             "linecolor": "white",
             "minorgridcolor": "white",
             "startlinecolor": "#2a3f5f"
            },
            "type": "carpet"
           }
          ],
          "choropleth": [
           {
            "colorbar": {
             "outlinewidth": 0,
             "ticks": ""
            },
            "type": "choropleth"
           }
          ],
          "contour": [
           {
            "colorbar": {
             "outlinewidth": 0,
             "ticks": ""
            },
            "colorscale": [
             [
              0,
              "#0d0887"
             ],
             [
              0.1111111111111111,
              "#46039f"
             ],
             [
              0.2222222222222222,
              "#7201a8"
             ],
             [
              0.3333333333333333,
              "#9c179e"
             ],
             [
              0.4444444444444444,
              "#bd3786"
             ],
             [
              0.5555555555555556,
              "#d8576b"
             ],
             [
              0.6666666666666666,
              "#ed7953"
             ],
             [
              0.7777777777777778,
              "#fb9f3a"
             ],
             [
              0.8888888888888888,
              "#fdca26"
             ],
             [
              1,
              "#f0f921"
             ]
            ],
            "type": "contour"
           }
          ],
          "contourcarpet": [
           {
            "colorbar": {
             "outlinewidth": 0,
             "ticks": ""
            },
            "type": "contourcarpet"
           }
          ],
          "heatmap": [
           {
            "colorbar": {
             "outlinewidth": 0,
             "ticks": ""
            },
            "colorscale": [
             [
              0,
              "#0d0887"
             ],
             [
              0.1111111111111111,
              "#46039f"
             ],
             [
              0.2222222222222222,
              "#7201a8"
             ],
             [
              0.3333333333333333,
              "#9c179e"
             ],
             [
              0.4444444444444444,
              "#bd3786"
             ],
             [
              0.5555555555555556,
              "#d8576b"
             ],
             [
              0.6666666666666666,
              "#ed7953"
             ],
             [
              0.7777777777777778,
              "#fb9f3a"
             ],
             [
              0.8888888888888888,
              "#fdca26"
             ],
             [
              1,
              "#f0f921"
             ]
            ],
            "type": "heatmap"
           }
          ],
          "heatmapgl": [
           {
            "colorbar": {
             "outlinewidth": 0,
             "ticks": ""
            },
            "colorscale": [
             [
              0,
              "#0d0887"
             ],
             [
              0.1111111111111111,
              "#46039f"
             ],
             [
              0.2222222222222222,
              "#7201a8"
             ],
             [
              0.3333333333333333,
              "#9c179e"
             ],
             [
              0.4444444444444444,
              "#bd3786"
             ],
             [
              0.5555555555555556,
              "#d8576b"
             ],
             [
              0.6666666666666666,
              "#ed7953"
             ],
             [
              0.7777777777777778,
              "#fb9f3a"
             ],
             [
              0.8888888888888888,
              "#fdca26"
             ],
             [
              1,
              "#f0f921"
             ]
            ],
            "type": "heatmapgl"
           }
          ],
          "histogram": [
           {
            "marker": {
             "pattern": {
              "fillmode": "overlay",
              "size": 10,
              "solidity": 0.2
             }
            },
            "type": "histogram"
           }
          ],
          "histogram2d": [
           {
            "colorbar": {
             "outlinewidth": 0,
             "ticks": ""
            },
            "colorscale": [
             [
              0,
              "#0d0887"
             ],
             [
              0.1111111111111111,
              "#46039f"
             ],
             [
              0.2222222222222222,
              "#7201a8"
             ],
             [
              0.3333333333333333,
              "#9c179e"
             ],
             [
              0.4444444444444444,
              "#bd3786"
             ],
             [
              0.5555555555555556,
              "#d8576b"
             ],
             [
              0.6666666666666666,
              "#ed7953"
             ],
             [
              0.7777777777777778,
              "#fb9f3a"
             ],
             [
              0.8888888888888888,
              "#fdca26"
             ],
             [
              1,
              "#f0f921"
             ]
            ],
            "type": "histogram2d"
           }
          ],
          "histogram2dcontour": [
           {
            "colorbar": {
             "outlinewidth": 0,
             "ticks": ""
            },
            "colorscale": [
             [
              0,
              "#0d0887"
             ],
             [
              0.1111111111111111,
              "#46039f"
             ],
             [
              0.2222222222222222,
              "#7201a8"
             ],
             [
              0.3333333333333333,
              "#9c179e"
             ],
             [
              0.4444444444444444,
              "#bd3786"
             ],
             [
              0.5555555555555556,
              "#d8576b"
             ],
             [
              0.6666666666666666,
              "#ed7953"
             ],
             [
              0.7777777777777778,
              "#fb9f3a"
             ],
             [
              0.8888888888888888,
              "#fdca26"
             ],
             [
              1,
              "#f0f921"
             ]
            ],
            "type": "histogram2dcontour"
           }
          ],
          "mesh3d": [
           {
            "colorbar": {
             "outlinewidth": 0,
             "ticks": ""
            },
            "type": "mesh3d"
           }
          ],
          "parcoords": [
           {
            "line": {
             "colorbar": {
              "outlinewidth": 0,
              "ticks": ""
             }
            },
            "type": "parcoords"
           }
          ],
          "pie": [
           {
            "automargin": true,
            "type": "pie"
           }
          ],
          "scatter": [
           {
            "fillpattern": {
             "fillmode": "overlay",
             "size": 10,
             "solidity": 0.2
            },
            "type": "scatter"
           }
          ],
          "scatter3d": [
           {
            "line": {
             "colorbar": {
              "outlinewidth": 0,
              "ticks": ""
             }
            },
            "marker": {
             "colorbar": {
              "outlinewidth": 0,
              "ticks": ""
             }
            },
            "type": "scatter3d"
           }
          ],
          "scattercarpet": [
           {
            "marker": {
             "colorbar": {
              "outlinewidth": 0,
              "ticks": ""
             }
            },
            "type": "scattercarpet"
           }
          ],
          "scattergeo": [
           {
            "marker": {
             "colorbar": {
              "outlinewidth": 0,
              "ticks": ""
             }
            },
            "type": "scattergeo"
           }
          ],
          "scattergl": [
           {
            "marker": {
             "colorbar": {
              "outlinewidth": 0,
              "ticks": ""
             }
            },
            "type": "scattergl"
           }
          ],
          "scattermapbox": [
           {
            "marker": {
             "colorbar": {
              "outlinewidth": 0,
              "ticks": ""
             }
            },
            "type": "scattermapbox"
           }
          ],
          "scatterpolar": [
           {
            "marker": {
             "colorbar": {
              "outlinewidth": 0,
              "ticks": ""
             }
            },
            "type": "scatterpolar"
           }
          ],
          "scatterpolargl": [
           {
            "marker": {
             "colorbar": {
              "outlinewidth": 0,
              "ticks": ""
             }
            },
            "type": "scatterpolargl"
           }
          ],
          "scatterternary": [
           {
            "marker": {
             "colorbar": {
              "outlinewidth": 0,
              "ticks": ""
             }
            },
            "type": "scatterternary"
           }
          ],
          "surface": [
           {
            "colorbar": {
             "outlinewidth": 0,
             "ticks": ""
            },
            "colorscale": [
             [
              0,
              "#0d0887"
             ],
             [
              0.1111111111111111,
              "#46039f"
             ],
             [
              0.2222222222222222,
              "#7201a8"
             ],
             [
              0.3333333333333333,
              "#9c179e"
             ],
             [
              0.4444444444444444,
              "#bd3786"
             ],
             [
              0.5555555555555556,
              "#d8576b"
             ],
             [
              0.6666666666666666,
              "#ed7953"
             ],
             [
              0.7777777777777778,
              "#fb9f3a"
             ],
             [
              0.8888888888888888,
              "#fdca26"
             ],
             [
              1,
              "#f0f921"
             ]
            ],
            "type": "surface"
           }
          ],
          "table": [
           {
            "cells": {
             "fill": {
              "color": "#EBF0F8"
             },
             "line": {
              "color": "white"
             }
            },
            "header": {
             "fill": {
              "color": "#C8D4E3"
             },
             "line": {
              "color": "white"
             }
            },
            "type": "table"
           }
          ]
         },
         "layout": {
          "annotationdefaults": {
           "arrowcolor": "#2a3f5f",
           "arrowhead": 0,
           "arrowwidth": 1
          },
          "autotypenumbers": "strict",
          "coloraxis": {
           "colorbar": {
            "outlinewidth": 0,
            "ticks": ""
           }
          },
          "colorscale": {
           "diverging": [
            [
             0,
             "#8e0152"
            ],
            [
             0.1,
             "#c51b7d"
            ],
            [
             0.2,
             "#de77ae"
            ],
            [
             0.3,
             "#f1b6da"
            ],
            [
             0.4,
             "#fde0ef"
            ],
            [
             0.5,
             "#f7f7f7"
            ],
            [
             0.6,
             "#e6f5d0"
            ],
            [
             0.7,
             "#b8e186"
            ],
            [
             0.8,
             "#7fbc41"
            ],
            [
             0.9,
             "#4d9221"
            ],
            [
             1,
             "#276419"
            ]
           ],
           "sequential": [
            [
             0,
             "#0d0887"
            ],
            [
             0.1111111111111111,
             "#46039f"
            ],
            [
             0.2222222222222222,
             "#7201a8"
            ],
            [
             0.3333333333333333,
             "#9c179e"
            ],
            [
             0.4444444444444444,
             "#bd3786"
            ],
            [
             0.5555555555555556,
             "#d8576b"
            ],
            [
             0.6666666666666666,
             "#ed7953"
            ],
            [
             0.7777777777777778,
             "#fb9f3a"
            ],
            [
             0.8888888888888888,
             "#fdca26"
            ],
            [
             1,
             "#f0f921"
            ]
           ],
           "sequentialminus": [
            [
             0,
             "#0d0887"
            ],
            [
             0.1111111111111111,
             "#46039f"
            ],
            [
             0.2222222222222222,
             "#7201a8"
            ],
            [
             0.3333333333333333,
             "#9c179e"
            ],
            [
             0.4444444444444444,
             "#bd3786"
            ],
            [
             0.5555555555555556,
             "#d8576b"
            ],
            [
             0.6666666666666666,
             "#ed7953"
            ],
            [
             0.7777777777777778,
             "#fb9f3a"
            ],
            [
             0.8888888888888888,
             "#fdca26"
            ],
            [
             1,
             "#f0f921"
            ]
           ]
          },
          "colorway": [
           "#636efa",
           "#EF553B",
           "#00cc96",
           "#ab63fa",
           "#FFA15A",
           "#19d3f3",
           "#FF6692",
           "#B6E880",
           "#FF97FF",
           "#FECB52"
          ],
          "font": {
           "color": "#2a3f5f"
          },
          "geo": {
           "bgcolor": "white",
           "lakecolor": "white",
           "landcolor": "#E5ECF6",
           "showlakes": true,
           "showland": true,
           "subunitcolor": "white"
          },
          "hoverlabel": {
           "align": "left"
          },
          "hovermode": "closest",
          "mapbox": {
           "style": "light"
          },
          "paper_bgcolor": "white",
          "plot_bgcolor": "#E5ECF6",
          "polar": {
           "angularaxis": {
            "gridcolor": "white",
            "linecolor": "white",
            "ticks": ""
           },
           "bgcolor": "#E5ECF6",
           "radialaxis": {
            "gridcolor": "white",
            "linecolor": "white",
            "ticks": ""
           }
          },
          "scene": {
           "xaxis": {
            "backgroundcolor": "#E5ECF6",
            "gridcolor": "white",
            "gridwidth": 2,
            "linecolor": "white",
            "showbackground": true,
            "ticks": "",
            "zerolinecolor": "white"
           },
           "yaxis": {
            "backgroundcolor": "#E5ECF6",
            "gridcolor": "white",
            "gridwidth": 2,
            "linecolor": "white",
            "showbackground": true,
            "ticks": "",
            "zerolinecolor": "white"
           },
           "zaxis": {
            "backgroundcolor": "#E5ECF6",
            "gridcolor": "white",
            "gridwidth": 2,
            "linecolor": "white",
            "showbackground": true,
            "ticks": "",
            "zerolinecolor": "white"
           }
          },
          "shapedefaults": {
           "line": {
            "color": "#2a3f5f"
           }
          },
          "ternary": {
           "aaxis": {
            "gridcolor": "white",
            "linecolor": "white",
            "ticks": ""
           },
           "baxis": {
            "gridcolor": "white",
            "linecolor": "white",
            "ticks": ""
           },
           "bgcolor": "#E5ECF6",
           "caxis": {
            "gridcolor": "white",
            "linecolor": "white",
            "ticks": ""
           }
          },
          "title": {
           "x": 0.05
          },
          "xaxis": {
           "automargin": true,
           "gridcolor": "white",
           "linecolor": "white",
           "ticks": "",
           "title": {
            "standoff": 15
           },
           "zerolinecolor": "white",
           "zerolinewidth": 2
          },
          "yaxis": {
           "automargin": true,
           "gridcolor": "white",
           "linecolor": "white",
           "ticks": "",
           "title": {
            "standoff": 15
           },
           "zerolinecolor": "white",
           "zerolinewidth": 2
          }
         }
        },
        "title": {
         "text": "Comparaison des prix d'options par type et degré polynomial"
        },
        "width": 900,
        "xaxis": {
         "anchor": "y",
         "domain": [
          0,
          1
         ],
         "gridcolor": "lightgray",
         "gridwidth": 0.5,
         "title": {
          "text": "Degré polynomial"
         }
        },
        "xaxis2": {
         "anchor": "y2",
         "domain": [
          0,
          1
         ],
         "gridcolor": "lightgray",
         "gridwidth": 0.5,
         "title": {
          "text": "Degré polynomial"
         }
        },
        "xaxis3": {
         "anchor": "y3",
         "domain": [
          0,
          1
         ],
         "gridcolor": "lightgray",
         "gridwidth": 0.5,
         "title": {
          "text": "Degré polynomial"
         }
        },
        "yaxis": {
         "anchor": "x",
         "domain": [
          0.7333333333333334,
          1
         ],
         "gridcolor": "lightgray",
         "gridwidth": 0.5,
         "title": {
          "text": "Prix de l'option"
         }
        },
        "yaxis2": {
         "anchor": "x2",
         "domain": [
          0.3666666666666667,
          0.6333333333333333
         ],
         "gridcolor": "lightgray",
         "gridwidth": 0.5,
         "title": {
          "text": "Prix de l'option"
         }
        },
        "yaxis3": {
         "anchor": "x3",
         "domain": [
          0,
          0.26666666666666666
         ],
         "gridcolor": "lightgray",
         "gridwidth": 0.5,
         "title": {
          "text": "Prix de l'option"
         }
        }
       }
      }
     },
     "metadata": {},
     "output_type": "display_data"
    }
   ],
   "source": [
    "graph_degree, df_results = graph.comparer_degres_par_type()\n",
    "graph_degree.show()"
   ]
  },
  {
   "cell_type": "code",
   "execution_count": 31,
   "metadata": {},
   "outputs": [
    {
     "data": {
      "application/vnd.plotly.v1+json": {
       "config": {
        "plotlyServerURL": "https://plot.ly"
       },
       "data": [
        {
         "line": {
          "dash": "solid"
         },
         "mode": "lines+markers",
         "name": "Arbre (pas=100)",
         "type": "scatter",
         "x": [
          90,
          91,
          92,
          93,
          94,
          95,
          96,
          97,
          98,
          99,
          100,
          101,
          102,
          103,
          104,
          105,
          106,
          107,
          108,
          109
         ],
         "y": [
          -0.00974290543457812,
          0.006223632502928567,
          0.0009880457588469227,
          -0.005529080393486652,
          0.00759486045932789,
          -0.0015469631800009154,
          -0.0033436429158566483,
          0.008284373451777682,
          -0.002694497601385848,
          -0.0031369635521976136,
          0.00866070980142819,
          -0.001800325324174068,
          -0.005011686073206789,
          0.008606416238977843,
          0.000914402319338592,
          -0.009237336802124574,
          0.0075315904552608615,
          0.004414552289918383,
          -0.016117652815458072,
          0.004594905626118084
         ]
        },
        {
         "line": {
          "dash": "dot"
         },
         "mode": "lines+markers",
         "name": "LSM (pas=20)",
         "type": "scatter",
         "x": [
          90,
          91,
          92,
          93,
          94,
          95,
          96,
          97,
          98,
          99,
          100,
          101,
          102,
          103,
          104,
          105,
          106,
          107,
          108,
          109
         ],
         "y": [
          0.04823338089038742,
          0.0006048343594819983,
          -0.05197319592352301,
          0.02524526323048626,
          -0.007399503072063496,
          0.032429325824898214,
          0.02532451149615156,
          0.036598366337983634,
          0.00447414041036609,
          0.021826593254624882,
          0.0347388432569824,
          0.005974834297294507,
          0.0388364789649156,
          0.061027407442077575,
          0.09478927125409964,
          0.024108518708723103,
          0.016027238901460628,
          -0.011080764787731567,
          -0.04230363727594444,
          -0.020343940486535317
         ]
        }
       ],
       "layout": {
        "legend": {
         "title": {
          "text": "Méthodes"
         }
        },
        "shapes": [
         {
          "line": {
           "color": "red",
           "dash": "dash"
          },
          "type": "line",
          "x0": 0,
          "x1": 1,
          "xref": "x domain",
          "y0": 0,
          "y1": 0,
          "yref": "y"
         }
        ],
        "template": {
         "data": {
          "bar": [
           {
            "error_x": {
             "color": "#2a3f5f"
            },
            "error_y": {
             "color": "#2a3f5f"
            },
            "marker": {
             "line": {
              "color": "#E5ECF6",
              "width": 0.5
             },
             "pattern": {
              "fillmode": "overlay",
              "size": 10,
              "solidity": 0.2
             }
            },
            "type": "bar"
           }
          ],
          "barpolar": [
           {
            "marker": {
             "line": {
              "color": "#E5ECF6",
              "width": 0.5
             },
             "pattern": {
              "fillmode": "overlay",
              "size": 10,
              "solidity": 0.2
             }
            },
            "type": "barpolar"
           }
          ],
          "carpet": [
           {
            "aaxis": {
             "endlinecolor": "#2a3f5f",
             "gridcolor": "white",
             "linecolor": "white",
             "minorgridcolor": "white",
             "startlinecolor": "#2a3f5f"
            },
            "baxis": {
             "endlinecolor": "#2a3f5f",
             "gridcolor": "white",
             "linecolor": "white",
             "minorgridcolor": "white",
             "startlinecolor": "#2a3f5f"
            },
            "type": "carpet"
           }
          ],
          "choropleth": [
           {
            "colorbar": {
             "outlinewidth": 0,
             "ticks": ""
            },
            "type": "choropleth"
           }
          ],
          "contour": [
           {
            "colorbar": {
             "outlinewidth": 0,
             "ticks": ""
            },
            "colorscale": [
             [
              0,
              "#0d0887"
             ],
             [
              0.1111111111111111,
              "#46039f"
             ],
             [
              0.2222222222222222,
              "#7201a8"
             ],
             [
              0.3333333333333333,
              "#9c179e"
             ],
             [
              0.4444444444444444,
              "#bd3786"
             ],
             [
              0.5555555555555556,
              "#d8576b"
             ],
             [
              0.6666666666666666,
              "#ed7953"
             ],
             [
              0.7777777777777778,
              "#fb9f3a"
             ],
             [
              0.8888888888888888,
              "#fdca26"
             ],
             [
              1,
              "#f0f921"
             ]
            ],
            "type": "contour"
           }
          ],
          "contourcarpet": [
           {
            "colorbar": {
             "outlinewidth": 0,
             "ticks": ""
            },
            "type": "contourcarpet"
           }
          ],
          "heatmap": [
           {
            "colorbar": {
             "outlinewidth": 0,
             "ticks": ""
            },
            "colorscale": [
             [
              0,
              "#0d0887"
             ],
             [
              0.1111111111111111,
              "#46039f"
             ],
             [
              0.2222222222222222,
              "#7201a8"
             ],
             [
              0.3333333333333333,
              "#9c179e"
             ],
             [
              0.4444444444444444,
              "#bd3786"
             ],
             [
              0.5555555555555556,
              "#d8576b"
             ],
             [
              0.6666666666666666,
              "#ed7953"
             ],
             [
              0.7777777777777778,
              "#fb9f3a"
             ],
             [
              0.8888888888888888,
              "#fdca26"
             ],
             [
              1,
              "#f0f921"
             ]
            ],
            "type": "heatmap"
           }
          ],
          "heatmapgl": [
           {
            "colorbar": {
             "outlinewidth": 0,
             "ticks": ""
            },
            "colorscale": [
             [
              0,
              "#0d0887"
             ],
             [
              0.1111111111111111,
              "#46039f"
             ],
             [
              0.2222222222222222,
              "#7201a8"
             ],
             [
              0.3333333333333333,
              "#9c179e"
             ],
             [
              0.4444444444444444,
              "#bd3786"
             ],
             [
              0.5555555555555556,
              "#d8576b"
             ],
             [
              0.6666666666666666,
              "#ed7953"
             ],
             [
              0.7777777777777778,
              "#fb9f3a"
             ],
             [
              0.8888888888888888,
              "#fdca26"
             ],
             [
              1,
              "#f0f921"
             ]
            ],
            "type": "heatmapgl"
           }
          ],
          "histogram": [
           {
            "marker": {
             "pattern": {
              "fillmode": "overlay",
              "size": 10,
              "solidity": 0.2
             }
            },
            "type": "histogram"
           }
          ],
          "histogram2d": [
           {
            "colorbar": {
             "outlinewidth": 0,
             "ticks": ""
            },
            "colorscale": [
             [
              0,
              "#0d0887"
             ],
             [
              0.1111111111111111,
              "#46039f"
             ],
             [
              0.2222222222222222,
              "#7201a8"
             ],
             [
              0.3333333333333333,
              "#9c179e"
             ],
             [
              0.4444444444444444,
              "#bd3786"
             ],
             [
              0.5555555555555556,
              "#d8576b"
             ],
             [
              0.6666666666666666,
              "#ed7953"
             ],
             [
              0.7777777777777778,
              "#fb9f3a"
             ],
             [
              0.8888888888888888,
              "#fdca26"
             ],
             [
              1,
              "#f0f921"
             ]
            ],
            "type": "histogram2d"
           }
          ],
          "histogram2dcontour": [
           {
            "colorbar": {
             "outlinewidth": 0,
             "ticks": ""
            },
            "colorscale": [
             [
              0,
              "#0d0887"
             ],
             [
              0.1111111111111111,
              "#46039f"
             ],
             [
              0.2222222222222222,
              "#7201a8"
             ],
             [
              0.3333333333333333,
              "#9c179e"
             ],
             [
              0.4444444444444444,
              "#bd3786"
             ],
             [
              0.5555555555555556,
              "#d8576b"
             ],
             [
              0.6666666666666666,
              "#ed7953"
             ],
             [
              0.7777777777777778,
              "#fb9f3a"
             ],
             [
              0.8888888888888888,
              "#fdca26"
             ],
             [
              1,
              "#f0f921"
             ]
            ],
            "type": "histogram2dcontour"
           }
          ],
          "mesh3d": [
           {
            "colorbar": {
             "outlinewidth": 0,
             "ticks": ""
            },
            "type": "mesh3d"
           }
          ],
          "parcoords": [
           {
            "line": {
             "colorbar": {
              "outlinewidth": 0,
              "ticks": ""
             }
            },
            "type": "parcoords"
           }
          ],
          "pie": [
           {
            "automargin": true,
            "type": "pie"
           }
          ],
          "scatter": [
           {
            "fillpattern": {
             "fillmode": "overlay",
             "size": 10,
             "solidity": 0.2
            },
            "type": "scatter"
           }
          ],
          "scatter3d": [
           {
            "line": {
             "colorbar": {
              "outlinewidth": 0,
              "ticks": ""
             }
            },
            "marker": {
             "colorbar": {
              "outlinewidth": 0,
              "ticks": ""
             }
            },
            "type": "scatter3d"
           }
          ],
          "scattercarpet": [
           {
            "marker": {
             "colorbar": {
              "outlinewidth": 0,
              "ticks": ""
             }
            },
            "type": "scattercarpet"
           }
          ],
          "scattergeo": [
           {
            "marker": {
             "colorbar": {
              "outlinewidth": 0,
              "ticks": ""
             }
            },
            "type": "scattergeo"
           }
          ],
          "scattergl": [
           {
            "marker": {
             "colorbar": {
              "outlinewidth": 0,
              "ticks": ""
             }
            },
            "type": "scattergl"
           }
          ],
          "scattermapbox": [
           {
            "marker": {
             "colorbar": {
              "outlinewidth": 0,
              "ticks": ""
             }
            },
            "type": "scattermapbox"
           }
          ],
          "scatterpolar": [
           {
            "marker": {
             "colorbar": {
              "outlinewidth": 0,
              "ticks": ""
             }
            },
            "type": "scatterpolar"
           }
          ],
          "scatterpolargl": [
           {
            "marker": {
             "colorbar": {
              "outlinewidth": 0,
              "ticks": ""
             }
            },
            "type": "scatterpolargl"
           }
          ],
          "scatterternary": [
           {
            "marker": {
             "colorbar": {
              "outlinewidth": 0,
              "ticks": ""
             }
            },
            "type": "scatterternary"
           }
          ],
          "surface": [
           {
            "colorbar": {
             "outlinewidth": 0,
             "ticks": ""
            },
            "colorscale": [
             [
              0,
              "#0d0887"
             ],
             [
              0.1111111111111111,
              "#46039f"
             ],
             [
              0.2222222222222222,
              "#7201a8"
             ],
             [
              0.3333333333333333,
              "#9c179e"
             ],
             [
              0.4444444444444444,
              "#bd3786"
             ],
             [
              0.5555555555555556,
              "#d8576b"
             ],
             [
              0.6666666666666666,
              "#ed7953"
             ],
             [
              0.7777777777777778,
              "#fb9f3a"
             ],
             [
              0.8888888888888888,
              "#fdca26"
             ],
             [
              1,
              "#f0f921"
             ]
            ],
            "type": "surface"
           }
          ],
          "table": [
           {
            "cells": {
             "fill": {
              "color": "#EBF0F8"
             },
             "line": {
              "color": "white"
             }
            },
            "header": {
             "fill": {
              "color": "#C8D4E3"
             },
             "line": {
              "color": "white"
             }
            },
            "type": "table"
           }
          ]
         },
         "layout": {
          "annotationdefaults": {
           "arrowcolor": "#2a3f5f",
           "arrowhead": 0,
           "arrowwidth": 1
          },
          "autotypenumbers": "strict",
          "coloraxis": {
           "colorbar": {
            "outlinewidth": 0,
            "ticks": ""
           }
          },
          "colorscale": {
           "diverging": [
            [
             0,
             "#8e0152"
            ],
            [
             0.1,
             "#c51b7d"
            ],
            [
             0.2,
             "#de77ae"
            ],
            [
             0.3,
             "#f1b6da"
            ],
            [
             0.4,
             "#fde0ef"
            ],
            [
             0.5,
             "#f7f7f7"
            ],
            [
             0.6,
             "#e6f5d0"
            ],
            [
             0.7,
             "#b8e186"
            ],
            [
             0.8,
             "#7fbc41"
            ],
            [
             0.9,
             "#4d9221"
            ],
            [
             1,
             "#276419"
            ]
           ],
           "sequential": [
            [
             0,
             "#0d0887"
            ],
            [
             0.1111111111111111,
             "#46039f"
            ],
            [
             0.2222222222222222,
             "#7201a8"
            ],
            [
             0.3333333333333333,
             "#9c179e"
            ],
            [
             0.4444444444444444,
             "#bd3786"
            ],
            [
             0.5555555555555556,
             "#d8576b"
            ],
            [
             0.6666666666666666,
             "#ed7953"
            ],
            [
             0.7777777777777778,
             "#fb9f3a"
            ],
            [
             0.8888888888888888,
             "#fdca26"
            ],
            [
             1,
             "#f0f921"
            ]
           ],
           "sequentialminus": [
            [
             0,
             "#0d0887"
            ],
            [
             0.1111111111111111,
             "#46039f"
            ],
            [
             0.2222222222222222,
             "#7201a8"
            ],
            [
             0.3333333333333333,
             "#9c179e"
            ],
            [
             0.4444444444444444,
             "#bd3786"
            ],
            [
             0.5555555555555556,
             "#d8576b"
            ],
            [
             0.6666666666666666,
             "#ed7953"
            ],
            [
             0.7777777777777778,
             "#fb9f3a"
            ],
            [
             0.8888888888888888,
             "#fdca26"
            ],
            [
             1,
             "#f0f921"
            ]
           ]
          },
          "colorway": [
           "#636efa",
           "#EF553B",
           "#00cc96",
           "#ab63fa",
           "#FFA15A",
           "#19d3f3",
           "#FF6692",
           "#B6E880",
           "#FF97FF",
           "#FECB52"
          ],
          "font": {
           "color": "#2a3f5f"
          },
          "geo": {
           "bgcolor": "white",
           "lakecolor": "white",
           "landcolor": "#E5ECF6",
           "showlakes": true,
           "showland": true,
           "subunitcolor": "white"
          },
          "hoverlabel": {
           "align": "left"
          },
          "hovermode": "closest",
          "mapbox": {
           "style": "light"
          },
          "paper_bgcolor": "white",
          "plot_bgcolor": "#E5ECF6",
          "polar": {
           "angularaxis": {
            "gridcolor": "white",
            "linecolor": "white",
            "ticks": ""
           },
           "bgcolor": "#E5ECF6",
           "radialaxis": {
            "gridcolor": "white",
            "linecolor": "white",
            "ticks": ""
           }
          },
          "scene": {
           "xaxis": {
            "backgroundcolor": "#E5ECF6",
            "gridcolor": "white",
            "gridwidth": 2,
            "linecolor": "white",
            "showbackground": true,
            "ticks": "",
            "zerolinecolor": "white"
           },
           "yaxis": {
            "backgroundcolor": "#E5ECF6",
            "gridcolor": "white",
            "gridwidth": 2,
            "linecolor": "white",
            "showbackground": true,
            "ticks": "",
            "zerolinecolor": "white"
           },
           "zaxis": {
            "backgroundcolor": "#E5ECF6",
            "gridcolor": "white",
            "gridwidth": 2,
            "linecolor": "white",
            "showbackground": true,
            "ticks": "",
            "zerolinecolor": "white"
           }
          },
          "shapedefaults": {
           "line": {
            "color": "#2a3f5f"
           }
          },
          "ternary": {
           "aaxis": {
            "gridcolor": "white",
            "linecolor": "white",
            "ticks": ""
           },
           "baxis": {
            "gridcolor": "white",
            "linecolor": "white",
            "ticks": ""
           },
           "bgcolor": "#E5ECF6",
           "caxis": {
            "gridcolor": "white",
            "linecolor": "white",
            "ticks": ""
           }
          },
          "title": {
           "x": 0.05
          },
          "xaxis": {
           "automargin": true,
           "gridcolor": "white",
           "linecolor": "white",
           "ticks": "",
           "title": {
            "standoff": 15
           },
           "zerolinecolor": "white",
           "zerolinewidth": 2
          },
          "yaxis": {
           "automargin": true,
           "gridcolor": "white",
           "linecolor": "white",
           "ticks": "",
           "title": {
            "standoff": 15
           },
           "zerolinecolor": "white",
           "zerolinewidth": 2
          }
         }
        },
        "title": {
         "text": "Comparaison (Arbre vs LSM) avec Black-Scholes en fonction du Strike"
        },
        "xaxis": {
         "title": {
          "text": "Strike"
         }
        },
        "yaxis": {
         "title": {
          "text": "Différence par rapport à Black-Scholes"
         }
        }
       }
      }
     },
     "metadata": {},
     "output_type": "display_data"
    },
    {
     "data": {
      "text/html": [
       "<div>\n",
       "<style scoped>\n",
       "    .dataframe tbody tr th:only-of-type {\n",
       "        vertical-align: middle;\n",
       "    }\n",
       "\n",
       "    .dataframe tbody tr th {\n",
       "        vertical-align: top;\n",
       "    }\n",
       "\n",
       "    .dataframe thead th {\n",
       "        text-align: right;\n",
       "    }\n",
       "</style>\n",
       "<table border=\"1\" class=\"dataframe\">\n",
       "  <thead>\n",
       "    <tr style=\"text-align: right;\">\n",
       "      <th></th>\n",
       "      <th>Nombre de pas</th>\n",
       "      <th>Prix arbre trinomial</th>\n",
       "      <th>Temps arbre</th>\n",
       "      <th>Diff arbre - B&amp;S</th>\n",
       "      <th>Prix LSM</th>\n",
       "      <th>Temps LSM</th>\n",
       "      <th>Diff LSM - B&amp;S</th>\n",
       "      <th>Diff arbre * nb pas</th>\n",
       "      <th>Diff LSM * nb pas</th>\n",
       "      <th>Strike</th>\n",
       "    </tr>\n",
       "  </thead>\n",
       "  <tbody>\n",
       "    <tr>\n",
       "      <th>1</th>\n",
       "      <td>20</td>\n",
       "      <td>13.806520</td>\n",
       "      <td>0.336195</td>\n",
       "      <td>-0.009743</td>\n",
       "      <td>13.864497</td>\n",
       "      <td>1.133416</td>\n",
       "      <td>0.048233</td>\n",
       "      <td>-0.974291</td>\n",
       "      <td>0.964668</td>\n",
       "      <td>90.0</td>\n",
       "    </tr>\n",
       "    <tr>\n",
       "      <th>0</th>\n",
       "      <td>20</td>\n",
       "      <td>13.119296</td>\n",
       "      <td>0.340238</td>\n",
       "      <td>0.006224</td>\n",
       "      <td>13.113677</td>\n",
       "      <td>1.133472</td>\n",
       "      <td>0.000605</td>\n",
       "      <td>0.622363</td>\n",
       "      <td>0.012097</td>\n",
       "      <td>91.0</td>\n",
       "    </tr>\n",
       "    <tr>\n",
       "      <th>3</th>\n",
       "      <td>20</td>\n",
       "      <td>12.432071</td>\n",
       "      <td>0.330755</td>\n",
       "      <td>0.000988</td>\n",
       "      <td>12.379110</td>\n",
       "      <td>1.159332</td>\n",
       "      <td>-0.051973</td>\n",
       "      <td>0.098805</td>\n",
       "      <td>-1.039464</td>\n",
       "      <td>92.0</td>\n",
       "    </tr>\n",
       "    <tr>\n",
       "      <th>2</th>\n",
       "      <td>20</td>\n",
       "      <td>11.765202</td>\n",
       "      <td>0.336195</td>\n",
       "      <td>-0.005529</td>\n",
       "      <td>11.795976</td>\n",
       "      <td>1.127701</td>\n",
       "      <td>0.025245</td>\n",
       "      <td>-0.552908</td>\n",
       "      <td>0.504905</td>\n",
       "      <td>93.0</td>\n",
       "    </tr>\n",
       "    <tr>\n",
       "      <th>4</th>\n",
       "      <td>20</td>\n",
       "      <td>11.139964</td>\n",
       "      <td>0.277495</td>\n",
       "      <td>0.007595</td>\n",
       "      <td>11.124970</td>\n",
       "      <td>1.005795</td>\n",
       "      <td>-0.007400</td>\n",
       "      <td>0.759486</td>\n",
       "      <td>-0.147990</td>\n",
       "      <td>94.0</td>\n",
       "    </tr>\n",
       "    <tr>\n",
       "      <th>6</th>\n",
       "      <td>20</td>\n",
       "      <td>10.514726</td>\n",
       "      <td>0.277495</td>\n",
       "      <td>-0.001547</td>\n",
       "      <td>10.548703</td>\n",
       "      <td>1.015451</td>\n",
       "      <td>0.032429</td>\n",
       "      <td>-0.154696</td>\n",
       "      <td>0.648587</td>\n",
       "      <td>95.0</td>\n",
       "    </tr>\n",
       "    <tr>\n",
       "      <th>5</th>\n",
       "      <td>20</td>\n",
       "      <td>9.919294</td>\n",
       "      <td>0.257145</td>\n",
       "      <td>-0.003344</td>\n",
       "      <td>9.947962</td>\n",
       "      <td>1.017052</td>\n",
       "      <td>0.025325</td>\n",
       "      <td>-0.334364</td>\n",
       "      <td>0.506490</td>\n",
       "      <td>96.0</td>\n",
       "    </tr>\n",
       "    <tr>\n",
       "      <th>7</th>\n",
       "      <td>20</td>\n",
       "      <td>9.359858</td>\n",
       "      <td>0.299682</td>\n",
       "      <td>0.008284</td>\n",
       "      <td>9.388172</td>\n",
       "      <td>1.000474</td>\n",
       "      <td>0.036598</td>\n",
       "      <td>0.828437</td>\n",
       "      <td>0.731967</td>\n",
       "      <td>97.0</td>\n",
       "    </tr>\n",
       "    <tr>\n",
       "      <th>8</th>\n",
       "      <td>20</td>\n",
       "      <td>8.800423</td>\n",
       "      <td>0.302024</td>\n",
       "      <td>-0.002694</td>\n",
       "      <td>8.807591</td>\n",
       "      <td>0.954034</td>\n",
       "      <td>0.004474</td>\n",
       "      <td>-0.269450</td>\n",
       "      <td>0.089483</td>\n",
       "      <td>98.0</td>\n",
       "    </tr>\n",
       "    <tr>\n",
       "      <th>9</th>\n",
       "      <td>20</td>\n",
       "      <td>8.274087</td>\n",
       "      <td>0.300015</td>\n",
       "      <td>-0.003137</td>\n",
       "      <td>8.299051</td>\n",
       "      <td>0.962734</td>\n",
       "      <td>0.021827</td>\n",
       "      <td>-0.313696</td>\n",
       "      <td>0.436532</td>\n",
       "      <td>99.0</td>\n",
       "    </tr>\n",
       "    <tr>\n",
       "      <th>11</th>\n",
       "      <td>20</td>\n",
       "      <td>7.782439</td>\n",
       "      <td>0.315128</td>\n",
       "      <td>0.008661</td>\n",
       "      <td>7.808517</td>\n",
       "      <td>0.955763</td>\n",
       "      <td>0.034739</td>\n",
       "      <td>0.866071</td>\n",
       "      <td>0.694777</td>\n",
       "      <td>100.0</td>\n",
       "    </tr>\n",
       "    <tr>\n",
       "      <th>10</th>\n",
       "      <td>20</td>\n",
       "      <td>7.290791</td>\n",
       "      <td>0.303176</td>\n",
       "      <td>-0.001800</td>\n",
       "      <td>7.298566</td>\n",
       "      <td>0.944499</td>\n",
       "      <td>0.005975</td>\n",
       "      <td>-0.180033</td>\n",
       "      <td>0.119497</td>\n",
       "      <td>101.0</td>\n",
       "    </tr>\n",
       "    <tr>\n",
       "      <th>12</th>\n",
       "      <td>20</td>\n",
       "      <td>6.828396</td>\n",
       "      <td>0.264414</td>\n",
       "      <td>-0.005012</td>\n",
       "      <td>6.872244</td>\n",
       "      <td>0.921200</td>\n",
       "      <td>0.038836</td>\n",
       "      <td>-0.501169</td>\n",
       "      <td>0.776730</td>\n",
       "      <td>102.0</td>\n",
       "    </tr>\n",
       "    <tr>\n",
       "      <th>15</th>\n",
       "      <td>20</td>\n",
       "      <td>6.404517</td>\n",
       "      <td>0.257106</td>\n",
       "      <td>0.008606</td>\n",
       "      <td>6.456938</td>\n",
       "      <td>0.942987</td>\n",
       "      <td>0.061027</td>\n",
       "      <td>0.860642</td>\n",
       "      <td>1.220548</td>\n",
       "      <td>103.0</td>\n",
       "    </tr>\n",
       "    <tr>\n",
       "      <th>13</th>\n",
       "      <td>20</td>\n",
       "      <td>5.980637</td>\n",
       "      <td>0.254071</td>\n",
       "      <td>0.000914</td>\n",
       "      <td>6.074512</td>\n",
       "      <td>0.924039</td>\n",
       "      <td>0.094789</td>\n",
       "      <td>0.091440</td>\n",
       "      <td>1.895785</td>\n",
       "      <td>104.0</td>\n",
       "    </tr>\n",
       "    <tr>\n",
       "      <th>14</th>\n",
       "      <td>20</td>\n",
       "      <td>5.575179</td>\n",
       "      <td>0.250450</td>\n",
       "      <td>-0.009237</td>\n",
       "      <td>5.608525</td>\n",
       "      <td>0.924039</td>\n",
       "      <td>0.024109</td>\n",
       "      <td>-0.923734</td>\n",
       "      <td>0.482170</td>\n",
       "      <td>105.0</td>\n",
       "    </tr>\n",
       "    <tr>\n",
       "      <th>16</th>\n",
       "      <td>20</td>\n",
       "      <td>5.217047</td>\n",
       "      <td>0.279880</td>\n",
       "      <td>0.007532</td>\n",
       "      <td>5.225543</td>\n",
       "      <td>0.952940</td>\n",
       "      <td>0.016027</td>\n",
       "      <td>0.753159</td>\n",
       "      <td>0.320545</td>\n",
       "      <td>106.0</td>\n",
       "    </tr>\n",
       "    <tr>\n",
       "      <th>17</th>\n",
       "      <td>20</td>\n",
       "      <td>4.858915</td>\n",
       "      <td>0.277223</td>\n",
       "      <td>0.004415</td>\n",
       "      <td>4.843419</td>\n",
       "      <td>0.967467</td>\n",
       "      <td>-0.011081</td>\n",
       "      <td>0.441455</td>\n",
       "      <td>-0.221615</td>\n",
       "      <td>107.0</td>\n",
       "    </tr>\n",
       "    <tr>\n",
       "      <th>19</th>\n",
       "      <td>20</td>\n",
       "      <td>4.502697</td>\n",
       "      <td>0.289543</td>\n",
       "      <td>-0.016118</td>\n",
       "      <td>4.476511</td>\n",
       "      <td>0.956389</td>\n",
       "      <td>-0.042304</td>\n",
       "      <td>-1.611765</td>\n",
       "      <td>-0.846073</td>\n",
       "      <td>108.0</td>\n",
       "    </tr>\n",
       "    <tr>\n",
       "      <th>18</th>\n",
       "      <td>20</td>\n",
       "      <td>4.206466</td>\n",
       "      <td>0.270376</td>\n",
       "      <td>0.004595</td>\n",
       "      <td>4.181527</td>\n",
       "      <td>0.973486</td>\n",
       "      <td>-0.020344</td>\n",
       "      <td>0.459491</td>\n",
       "      <td>-0.406879</td>\n",
       "      <td>109.0</td>\n",
       "    </tr>\n",
       "  </tbody>\n",
       "</table>\n",
       "</div>"
      ],
      "text/plain": [
       "    Nombre de pas  Prix arbre trinomial  Temps arbre  Diff arbre - B&S  \\\n",
       "1              20             13.806520     0.336195         -0.009743   \n",
       "0              20             13.119296     0.340238          0.006224   \n",
       "3              20             12.432071     0.330755          0.000988   \n",
       "2              20             11.765202     0.336195         -0.005529   \n",
       "4              20             11.139964     0.277495          0.007595   \n",
       "6              20             10.514726     0.277495         -0.001547   \n",
       "5              20              9.919294     0.257145         -0.003344   \n",
       "7              20              9.359858     0.299682          0.008284   \n",
       "8              20              8.800423     0.302024         -0.002694   \n",
       "9              20              8.274087     0.300015         -0.003137   \n",
       "11             20              7.782439     0.315128          0.008661   \n",
       "10             20              7.290791     0.303176         -0.001800   \n",
       "12             20              6.828396     0.264414         -0.005012   \n",
       "15             20              6.404517     0.257106          0.008606   \n",
       "13             20              5.980637     0.254071          0.000914   \n",
       "14             20              5.575179     0.250450         -0.009237   \n",
       "16             20              5.217047     0.279880          0.007532   \n",
       "17             20              4.858915     0.277223          0.004415   \n",
       "19             20              4.502697     0.289543         -0.016118   \n",
       "18             20              4.206466     0.270376          0.004595   \n",
       "\n",
       "     Prix LSM  Temps LSM  Diff LSM - B&S  Diff arbre * nb pas  \\\n",
       "1   13.864497   1.133416        0.048233            -0.974291   \n",
       "0   13.113677   1.133472        0.000605             0.622363   \n",
       "3   12.379110   1.159332       -0.051973             0.098805   \n",
       "2   11.795976   1.127701        0.025245            -0.552908   \n",
       "4   11.124970   1.005795       -0.007400             0.759486   \n",
       "6   10.548703   1.015451        0.032429            -0.154696   \n",
       "5    9.947962   1.017052        0.025325            -0.334364   \n",
       "7    9.388172   1.000474        0.036598             0.828437   \n",
       "8    8.807591   0.954034        0.004474            -0.269450   \n",
       "9    8.299051   0.962734        0.021827            -0.313696   \n",
       "11   7.808517   0.955763        0.034739             0.866071   \n",
       "10   7.298566   0.944499        0.005975            -0.180033   \n",
       "12   6.872244   0.921200        0.038836            -0.501169   \n",
       "15   6.456938   0.942987        0.061027             0.860642   \n",
       "13   6.074512   0.924039        0.094789             0.091440   \n",
       "14   5.608525   0.924039        0.024109            -0.923734   \n",
       "16   5.225543   0.952940        0.016027             0.753159   \n",
       "17   4.843419   0.967467       -0.011081             0.441455   \n",
       "19   4.476511   0.956389       -0.042304            -1.611765   \n",
       "18   4.181527   0.973486       -0.020344             0.459491   \n",
       "\n",
       "    Diff LSM * nb pas  Strike  \n",
       "1            0.964668    90.0  \n",
       "0            0.012097    91.0  \n",
       "3           -1.039464    92.0  \n",
       "2            0.504905    93.0  \n",
       "4           -0.147990    94.0  \n",
       "6            0.648587    95.0  \n",
       "5            0.506490    96.0  \n",
       "7            0.731967    97.0  \n",
       "8            0.089483    98.0  \n",
       "9            0.436532    99.0  \n",
       "11           0.694777   100.0  \n",
       "10           0.119497   101.0  \n",
       "12           0.776730   102.0  \n",
       "15           1.220548   103.0  \n",
       "13           1.895785   104.0  \n",
       "14           0.482170   105.0  \n",
       "16           0.320545   106.0  \n",
       "17          -0.221615   107.0  \n",
       "19          -0.846073   108.0  \n",
       "18          -0.406879   109.0  "
      ]
     },
     "execution_count": 31,
     "metadata": {},
     "output_type": "execute_result"
    }
   ],
   "source": [
    "# Définir les plages de valeurs à tester\n",
    "max_cpu = 4  # Nombre de cœurs à utiliser\n",
    "step_list = [20]  # Liste de pas à tester\n",
    "strike_list = np.arange(spot-10, spot+10, 1.0)  # Variation du strike\n",
    "\n",
    "# Créer l'objet de comparaison\n",
    "strike_comparison = StrikeComparison(max_cpu, step_list, strike_list, donnee_marche, brownian, option)\n",
    "\n",
    "# Afficher le graphique\n",
    "fig_strike = strike_comparison.graph_strike_comparison()\n",
    "fig_strike.show()\n",
    "\n",
    "# Afficher le tableau de résultats si nécessaire\n",
    "strike_comparison.results_df.sort_values(by='Strike', ascending=True)"
   ]
  },
  {
   "cell_type": "code",
   "execution_count": 32,
   "metadata": {},
   "outputs": [
    {
     "data": {
      "application/vnd.plotly.v1+json": {
       "config": {
        "plotlyServerURL": "https://plot.ly"
       },
       "data": [
        {
         "line": {
          "dash": "solid"
         },
         "mode": "lines+markers",
         "name": "Arbre (pas=100)",
         "type": "scatter",
         "x": [
          0.1,
          0.12000000000000001,
          0.14,
          0.16000000000000003,
          0.18000000000000002,
          0.2,
          0.22000000000000003,
          0.24000000000000002,
          0.26,
          0.28,
          0.30000000000000004,
          0.32000000000000006,
          0.3400000000000001,
          0.3600000000000001,
          0.38,
          0.4,
          0.42000000000000004,
          0.44000000000000006,
          0.4600000000000001,
          0.4800000000000001
         ],
         "y": [
          0.003436284845701465,
          0.0028589785599075768,
          0.0019450212845333326,
          0.0008213449423992714,
          -0.0004413113552308445,
          -0.001800325324174068,
          -0.003228418750322426,
          -0.004707267510754676,
          -0.006224059450149255,
          -0.0077695269278148515,
          -0.009336766140505048,
          -0.010920499096689795,
          -0.012516596061235674,
          -0.014121757181220218,
          -0.015733294675866816,
          -0.017348980388268487,
          -0.018966936928256573,
          -0.020585558519366387,
          -0.022203452532135515,
          -0.023819395659259612
         ]
        },
        {
         "line": {
          "dash": "dot"
         },
         "mode": "lines+markers",
         "name": "LSM (pas=20)",
         "type": "scatter",
         "x": [
          0.1,
          0.12000000000000001,
          0.14,
          0.16000000000000003,
          0.18000000000000002,
          0.2,
          0.22000000000000003,
          0.24000000000000002,
          0.26,
          0.28,
          0.30000000000000004,
          0.32000000000000006,
          0.3400000000000001,
          0.3600000000000001,
          0.38,
          0.4,
          0.42000000000000004,
          0.44000000000000006,
          0.4600000000000001,
          0.4800000000000001
         ],
         "y": [
          0.011768428691464106,
          -0.045012630132100995,
          0.04888752195473334,
          0.002081614246701058,
          0.025362474324237994,
          -0.014304311696363037,
          0.062304705815286354,
          0.008201375620290108,
          0.06859404176105244,
          0.08775929944933125,
          0.023933563220934317,
          0.011939968126361222,
          -0.010798843123039248,
          -0.029262094171158992,
          0.05502548228937698,
          -0.08738687857327498,
          -0.1422895242123925,
          0.016543820763589068,
          -0.07085270828952517,
          -0.3165754939767105
         ]
        }
       ],
       "layout": {
        "legend": {
         "title": {
          "text": "Méthodes"
         }
        },
        "shapes": [
         {
          "line": {
           "color": "red",
           "dash": "dash"
          },
          "type": "line",
          "x0": 0,
          "x1": 1,
          "xref": "x domain",
          "y0": 0,
          "y1": 0,
          "yref": "y"
         }
        ],
        "template": {
         "data": {
          "bar": [
           {
            "error_x": {
             "color": "#2a3f5f"
            },
            "error_y": {
             "color": "#2a3f5f"
            },
            "marker": {
             "line": {
              "color": "#E5ECF6",
              "width": 0.5
             },
             "pattern": {
              "fillmode": "overlay",
              "size": 10,
              "solidity": 0.2
             }
            },
            "type": "bar"
           }
          ],
          "barpolar": [
           {
            "marker": {
             "line": {
              "color": "#E5ECF6",
              "width": 0.5
             },
             "pattern": {
              "fillmode": "overlay",
              "size": 10,
              "solidity": 0.2
             }
            },
            "type": "barpolar"
           }
          ],
          "carpet": [
           {
            "aaxis": {
             "endlinecolor": "#2a3f5f",
             "gridcolor": "white",
             "linecolor": "white",
             "minorgridcolor": "white",
             "startlinecolor": "#2a3f5f"
            },
            "baxis": {
             "endlinecolor": "#2a3f5f",
             "gridcolor": "white",
             "linecolor": "white",
             "minorgridcolor": "white",
             "startlinecolor": "#2a3f5f"
            },
            "type": "carpet"
           }
          ],
          "choropleth": [
           {
            "colorbar": {
             "outlinewidth": 0,
             "ticks": ""
            },
            "type": "choropleth"
           }
          ],
          "contour": [
           {
            "colorbar": {
             "outlinewidth": 0,
             "ticks": ""
            },
            "colorscale": [
             [
              0,
              "#0d0887"
             ],
             [
              0.1111111111111111,
              "#46039f"
             ],
             [
              0.2222222222222222,
              "#7201a8"
             ],
             [
              0.3333333333333333,
              "#9c179e"
             ],
             [
              0.4444444444444444,
              "#bd3786"
             ],
             [
              0.5555555555555556,
              "#d8576b"
             ],
             [
              0.6666666666666666,
              "#ed7953"
             ],
             [
              0.7777777777777778,
              "#fb9f3a"
             ],
             [
              0.8888888888888888,
              "#fdca26"
             ],
             [
              1,
              "#f0f921"
             ]
            ],
            "type": "contour"
           }
          ],
          "contourcarpet": [
           {
            "colorbar": {
             "outlinewidth": 0,
             "ticks": ""
            },
            "type": "contourcarpet"
           }
          ],
          "heatmap": [
           {
            "colorbar": {
             "outlinewidth": 0,
             "ticks": ""
            },
            "colorscale": [
             [
              0,
              "#0d0887"
             ],
             [
              0.1111111111111111,
              "#46039f"
             ],
             [
              0.2222222222222222,
              "#7201a8"
             ],
             [
              0.3333333333333333,
              "#9c179e"
             ],
             [
              0.4444444444444444,
              "#bd3786"
             ],
             [
              0.5555555555555556,
              "#d8576b"
             ],
             [
              0.6666666666666666,
              "#ed7953"
             ],
             [
              0.7777777777777778,
              "#fb9f3a"
             ],
             [
              0.8888888888888888,
              "#fdca26"
             ],
             [
              1,
              "#f0f921"
             ]
            ],
            "type": "heatmap"
           }
          ],
          "heatmapgl": [
           {
            "colorbar": {
             "outlinewidth": 0,
             "ticks": ""
            },
            "colorscale": [
             [
              0,
              "#0d0887"
             ],
             [
              0.1111111111111111,
              "#46039f"
             ],
             [
              0.2222222222222222,
              "#7201a8"
             ],
             [
              0.3333333333333333,
              "#9c179e"
             ],
             [
              0.4444444444444444,
              "#bd3786"
             ],
             [
              0.5555555555555556,
              "#d8576b"
             ],
             [
              0.6666666666666666,
              "#ed7953"
             ],
             [
              0.7777777777777778,
              "#fb9f3a"
             ],
             [
              0.8888888888888888,
              "#fdca26"
             ],
             [
              1,
              "#f0f921"
             ]
            ],
            "type": "heatmapgl"
           }
          ],
          "histogram": [
           {
            "marker": {
             "pattern": {
              "fillmode": "overlay",
              "size": 10,
              "solidity": 0.2
             }
            },
            "type": "histogram"
           }
          ],
          "histogram2d": [
           {
            "colorbar": {
             "outlinewidth": 0,
             "ticks": ""
            },
            "colorscale": [
             [
              0,
              "#0d0887"
             ],
             [
              0.1111111111111111,
              "#46039f"
             ],
             [
              0.2222222222222222,
              "#7201a8"
             ],
             [
              0.3333333333333333,
              "#9c179e"
             ],
             [
              0.4444444444444444,
              "#bd3786"
             ],
             [
              0.5555555555555556,
              "#d8576b"
             ],
             [
              0.6666666666666666,
              "#ed7953"
             ],
             [
              0.7777777777777778,
              "#fb9f3a"
             ],
             [
              0.8888888888888888,
              "#fdca26"
             ],
             [
              1,
              "#f0f921"
             ]
            ],
            "type": "histogram2d"
           }
          ],
          "histogram2dcontour": [
           {
            "colorbar": {
             "outlinewidth": 0,
             "ticks": ""
            },
            "colorscale": [
             [
              0,
              "#0d0887"
             ],
             [
              0.1111111111111111,
              "#46039f"
             ],
             [
              0.2222222222222222,
              "#7201a8"
             ],
             [
              0.3333333333333333,
              "#9c179e"
             ],
             [
              0.4444444444444444,
              "#bd3786"
             ],
             [
              0.5555555555555556,
              "#d8576b"
             ],
             [
              0.6666666666666666,
              "#ed7953"
             ],
             [
              0.7777777777777778,
              "#fb9f3a"
             ],
             [
              0.8888888888888888,
              "#fdca26"
             ],
             [
              1,
              "#f0f921"
             ]
            ],
            "type": "histogram2dcontour"
           }
          ],
          "mesh3d": [
           {
            "colorbar": {
             "outlinewidth": 0,
             "ticks": ""
            },
            "type": "mesh3d"
           }
          ],
          "parcoords": [
           {
            "line": {
             "colorbar": {
              "outlinewidth": 0,
              "ticks": ""
             }
            },
            "type": "parcoords"
           }
          ],
          "pie": [
           {
            "automargin": true,
            "type": "pie"
           }
          ],
          "scatter": [
           {
            "fillpattern": {
             "fillmode": "overlay",
             "size": 10,
             "solidity": 0.2
            },
            "type": "scatter"
           }
          ],
          "scatter3d": [
           {
            "line": {
             "colorbar": {
              "outlinewidth": 0,
              "ticks": ""
             }
            },
            "marker": {
             "colorbar": {
              "outlinewidth": 0,
              "ticks": ""
             }
            },
            "type": "scatter3d"
           }
          ],
          "scattercarpet": [
           {
            "marker": {
             "colorbar": {
              "outlinewidth": 0,
              "ticks": ""
             }
            },
            "type": "scattercarpet"
           }
          ],
          "scattergeo": [
           {
            "marker": {
             "colorbar": {
              "outlinewidth": 0,
              "ticks": ""
             }
            },
            "type": "scattergeo"
           }
          ],
          "scattergl": [
           {
            "marker": {
             "colorbar": {
              "outlinewidth": 0,
              "ticks": ""
             }
            },
            "type": "scattergl"
           }
          ],
          "scattermapbox": [
           {
            "marker": {
             "colorbar": {
              "outlinewidth": 0,
              "ticks": ""
             }
            },
            "type": "scattermapbox"
           }
          ],
          "scatterpolar": [
           {
            "marker": {
             "colorbar": {
              "outlinewidth": 0,
              "ticks": ""
             }
            },
            "type": "scatterpolar"
           }
          ],
          "scatterpolargl": [
           {
            "marker": {
             "colorbar": {
              "outlinewidth": 0,
              "ticks": ""
             }
            },
            "type": "scatterpolargl"
           }
          ],
          "scatterternary": [
           {
            "marker": {
             "colorbar": {
              "outlinewidth": 0,
              "ticks": ""
             }
            },
            "type": "scatterternary"
           }
          ],
          "surface": [
           {
            "colorbar": {
             "outlinewidth": 0,
             "ticks": ""
            },
            "colorscale": [
             [
              0,
              "#0d0887"
             ],
             [
              0.1111111111111111,
              "#46039f"
             ],
             [
              0.2222222222222222,
              "#7201a8"
             ],
             [
              0.3333333333333333,
              "#9c179e"
             ],
             [
              0.4444444444444444,
              "#bd3786"
             ],
             [
              0.5555555555555556,
              "#d8576b"
             ],
             [
              0.6666666666666666,
              "#ed7953"
             ],
             [
              0.7777777777777778,
              "#fb9f3a"
             ],
             [
              0.8888888888888888,
              "#fdca26"
             ],
             [
              1,
              "#f0f921"
             ]
            ],
            "type": "surface"
           }
          ],
          "table": [
           {
            "cells": {
             "fill": {
              "color": "#EBF0F8"
             },
             "line": {
              "color": "white"
             }
            },
            "header": {
             "fill": {
              "color": "#C8D4E3"
             },
             "line": {
              "color": "white"
             }
            },
            "type": "table"
           }
          ]
         },
         "layout": {
          "annotationdefaults": {
           "arrowcolor": "#2a3f5f",
           "arrowhead": 0,
           "arrowwidth": 1
          },
          "autotypenumbers": "strict",
          "coloraxis": {
           "colorbar": {
            "outlinewidth": 0,
            "ticks": ""
           }
          },
          "colorscale": {
           "diverging": [
            [
             0,
             "#8e0152"
            ],
            [
             0.1,
             "#c51b7d"
            ],
            [
             0.2,
             "#de77ae"
            ],
            [
             0.3,
             "#f1b6da"
            ],
            [
             0.4,
             "#fde0ef"
            ],
            [
             0.5,
             "#f7f7f7"
            ],
            [
             0.6,
             "#e6f5d0"
            ],
            [
             0.7,
             "#b8e186"
            ],
            [
             0.8,
             "#7fbc41"
            ],
            [
             0.9,
             "#4d9221"
            ],
            [
             1,
             "#276419"
            ]
           ],
           "sequential": [
            [
             0,
             "#0d0887"
            ],
            [
             0.1111111111111111,
             "#46039f"
            ],
            [
             0.2222222222222222,
             "#7201a8"
            ],
            [
             0.3333333333333333,
             "#9c179e"
            ],
            [
             0.4444444444444444,
             "#bd3786"
            ],
            [
             0.5555555555555556,
             "#d8576b"
            ],
            [
             0.6666666666666666,
             "#ed7953"
            ],
            [
             0.7777777777777778,
             "#fb9f3a"
            ],
            [
             0.8888888888888888,
             "#fdca26"
            ],
            [
             1,
             "#f0f921"
            ]
           ],
           "sequentialminus": [
            [
             0,
             "#0d0887"
            ],
            [
             0.1111111111111111,
             "#46039f"
            ],
            [
             0.2222222222222222,
             "#7201a8"
            ],
            [
             0.3333333333333333,
             "#9c179e"
            ],
            [
             0.4444444444444444,
             "#bd3786"
            ],
            [
             0.5555555555555556,
             "#d8576b"
            ],
            [
             0.6666666666666666,
             "#ed7953"
            ],
            [
             0.7777777777777778,
             "#fb9f3a"
            ],
            [
             0.8888888888888888,
             "#fdca26"
            ],
            [
             1,
             "#f0f921"
            ]
           ]
          },
          "colorway": [
           "#636efa",
           "#EF553B",
           "#00cc96",
           "#ab63fa",
           "#FFA15A",
           "#19d3f3",
           "#FF6692",
           "#B6E880",
           "#FF97FF",
           "#FECB52"
          ],
          "font": {
           "color": "#2a3f5f"
          },
          "geo": {
           "bgcolor": "white",
           "lakecolor": "white",
           "landcolor": "#E5ECF6",
           "showlakes": true,
           "showland": true,
           "subunitcolor": "white"
          },
          "hoverlabel": {
           "align": "left"
          },
          "hovermode": "closest",
          "mapbox": {
           "style": "light"
          },
          "paper_bgcolor": "white",
          "plot_bgcolor": "#E5ECF6",
          "polar": {
           "angularaxis": {
            "gridcolor": "white",
            "linecolor": "white",
            "ticks": ""
           },
           "bgcolor": "#E5ECF6",
           "radialaxis": {
            "gridcolor": "white",
            "linecolor": "white",
            "ticks": ""
           }
          },
          "scene": {
           "xaxis": {
            "backgroundcolor": "#E5ECF6",
            "gridcolor": "white",
            "gridwidth": 2,
            "linecolor": "white",
            "showbackground": true,
            "ticks": "",
            "zerolinecolor": "white"
           },
           "yaxis": {
            "backgroundcolor": "#E5ECF6",
            "gridcolor": "white",
            "gridwidth": 2,
            "linecolor": "white",
            "showbackground": true,
            "ticks": "",
            "zerolinecolor": "white"
           },
           "zaxis": {
            "backgroundcolor": "#E5ECF6",
            "gridcolor": "white",
            "gridwidth": 2,
            "linecolor": "white",
            "showbackground": true,
            "ticks": "",
            "zerolinecolor": "white"
           }
          },
          "shapedefaults": {
           "line": {
            "color": "#2a3f5f"
           }
          },
          "ternary": {
           "aaxis": {
            "gridcolor": "white",
            "linecolor": "white",
            "ticks": ""
           },
           "baxis": {
            "gridcolor": "white",
            "linecolor": "white",
            "ticks": ""
           },
           "bgcolor": "#E5ECF6",
           "caxis": {
            "gridcolor": "white",
            "linecolor": "white",
            "ticks": ""
           }
          },
          "title": {
           "x": 0.05
          },
          "xaxis": {
           "automargin": true,
           "gridcolor": "white",
           "linecolor": "white",
           "ticks": "",
           "title": {
            "standoff": 15
           },
           "zerolinecolor": "white",
           "zerolinewidth": 2
          },
          "yaxis": {
           "automargin": true,
           "gridcolor": "white",
           "linecolor": "white",
           "ticks": "",
           "title": {
            "standoff": 15
           },
           "zerolinecolor": "white",
           "zerolinewidth": 2
          }
         }
        },
        "title": {
         "text": "Comparaison (Arbre vs LSM) avec Black-Scholes en fonction de la Volatilité"
        },
        "xaxis": {
         "title": {
          "text": "Volatilité"
         }
        },
        "yaxis": {
         "title": {
          "text": "Différence par rapport à Black-Scholes"
         }
        }
       }
      }
     },
     "metadata": {},
     "output_type": "display_data"
    },
    {
     "data": {
      "text/html": [
       "<div>\n",
       "<style scoped>\n",
       "    .dataframe tbody tr th:only-of-type {\n",
       "        vertical-align: middle;\n",
       "    }\n",
       "\n",
       "    .dataframe tbody tr th {\n",
       "        vertical-align: top;\n",
       "    }\n",
       "\n",
       "    .dataframe thead th {\n",
       "        text-align: right;\n",
       "    }\n",
       "</style>\n",
       "<table border=\"1\" class=\"dataframe\">\n",
       "  <thead>\n",
       "    <tr style=\"text-align: right;\">\n",
       "      <th></th>\n",
       "      <th>Nombre de pas</th>\n",
       "      <th>Prix arbre trinomial</th>\n",
       "      <th>Temps arbre</th>\n",
       "      <th>Diff arbre - B&amp;S</th>\n",
       "      <th>Prix LSM</th>\n",
       "      <th>Temps LSM</th>\n",
       "      <th>Diff LSM - B&amp;S</th>\n",
       "      <th>Diff arbre * nb pas</th>\n",
       "      <th>Diff LSM * nb pas</th>\n",
       "      <th>Volatilité</th>\n",
       "    </tr>\n",
       "  </thead>\n",
       "  <tbody>\n",
       "    <tr>\n",
       "      <th>2</th>\n",
       "      <td>20</td>\n",
       "      <td>3.798353</td>\n",
       "      <td>0.315959</td>\n",
       "      <td>0.003436</td>\n",
       "      <td>3.806685</td>\n",
       "      <td>0.990173</td>\n",
       "      <td>0.011768</td>\n",
       "      <td>0.343628</td>\n",
       "      <td>0.235369</td>\n",
       "      <td>0.10</td>\n",
       "    </tr>\n",
       "    <tr>\n",
       "      <th>1</th>\n",
       "      <td>20</td>\n",
       "      <td>4.497601</td>\n",
       "      <td>0.324168</td>\n",
       "      <td>0.002859</td>\n",
       "      <td>4.449729</td>\n",
       "      <td>0.974987</td>\n",
       "      <td>-0.045013</td>\n",
       "      <td>0.285898</td>\n",
       "      <td>-0.900253</td>\n",
       "      <td>0.12</td>\n",
       "    </tr>\n",
       "    <tr>\n",
       "      <th>3</th>\n",
       "      <td>20</td>\n",
       "      <td>5.196522</td>\n",
       "      <td>0.324168</td>\n",
       "      <td>0.001945</td>\n",
       "      <td>5.243465</td>\n",
       "      <td>0.987823</td>\n",
       "      <td>0.048888</td>\n",
       "      <td>0.194502</td>\n",
       "      <td>0.977750</td>\n",
       "      <td>0.14</td>\n",
       "    </tr>\n",
       "    <tr>\n",
       "      <th>0</th>\n",
       "      <td>20</td>\n",
       "      <td>5.895064</td>\n",
       "      <td>0.315959</td>\n",
       "      <td>0.000821</td>\n",
       "      <td>5.896324</td>\n",
       "      <td>0.969362</td>\n",
       "      <td>0.002082</td>\n",
       "      <td>0.082134</td>\n",
       "      <td>0.041632</td>\n",
       "      <td>0.16</td>\n",
       "    </tr>\n",
       "    <tr>\n",
       "      <th>4</th>\n",
       "      <td>20</td>\n",
       "      <td>6.593171</td>\n",
       "      <td>0.264933</td>\n",
       "      <td>-0.000441</td>\n",
       "      <td>6.618975</td>\n",
       "      <td>0.949274</td>\n",
       "      <td>0.025362</td>\n",
       "      <td>-0.044131</td>\n",
       "      <td>0.507249</td>\n",
       "      <td>0.18</td>\n",
       "    </tr>\n",
       "    <tr>\n",
       "      <th>5</th>\n",
       "      <td>20</td>\n",
       "      <td>7.290791</td>\n",
       "      <td>0.268876</td>\n",
       "      <td>-0.001800</td>\n",
       "      <td>7.278287</td>\n",
       "      <td>0.956533</td>\n",
       "      <td>-0.014304</td>\n",
       "      <td>-0.180033</td>\n",
       "      <td>-0.286086</td>\n",
       "      <td>0.20</td>\n",
       "    </tr>\n",
       "    <tr>\n",
       "      <th>6</th>\n",
       "      <td>20</td>\n",
       "      <td>7.987870</td>\n",
       "      <td>0.263497</td>\n",
       "      <td>-0.003228</td>\n",
       "      <td>8.053403</td>\n",
       "      <td>0.962680</td>\n",
       "      <td>0.062305</td>\n",
       "      <td>-0.322842</td>\n",
       "      <td>1.246094</td>\n",
       "      <td>0.22</td>\n",
       "    </tr>\n",
       "    <tr>\n",
       "      <th>7</th>\n",
       "      <td>20</td>\n",
       "      <td>8.684353</td>\n",
       "      <td>0.270074</td>\n",
       "      <td>-0.004707</td>\n",
       "      <td>8.697262</td>\n",
       "      <td>0.957807</td>\n",
       "      <td>0.008201</td>\n",
       "      <td>-0.470727</td>\n",
       "      <td>0.164028</td>\n",
       "      <td>0.24</td>\n",
       "    </tr>\n",
       "    <tr>\n",
       "      <th>8</th>\n",
       "      <td>20</td>\n",
       "      <td>9.380188</td>\n",
       "      <td>0.274497</td>\n",
       "      <td>-0.006224</td>\n",
       "      <td>9.455006</td>\n",
       "      <td>0.938720</td>\n",
       "      <td>0.068594</td>\n",
       "      <td>-0.622406</td>\n",
       "      <td>1.371881</td>\n",
       "      <td>0.26</td>\n",
       "    </tr>\n",
       "    <tr>\n",
       "      <th>9</th>\n",
       "      <td>20</td>\n",
       "      <td>10.075322</td>\n",
       "      <td>0.286688</td>\n",
       "      <td>-0.007770</td>\n",
       "      <td>10.170851</td>\n",
       "      <td>0.942380</td>\n",
       "      <td>0.087759</td>\n",
       "      <td>-0.776953</td>\n",
       "      <td>1.755186</td>\n",
       "      <td>0.28</td>\n",
       "    </tr>\n",
       "    <tr>\n",
       "      <th>11</th>\n",
       "      <td>20</td>\n",
       "      <td>10.769702</td>\n",
       "      <td>0.272362</td>\n",
       "      <td>-0.009337</td>\n",
       "      <td>10.802972</td>\n",
       "      <td>0.976522</td>\n",
       "      <td>0.023934</td>\n",
       "      <td>-0.933677</td>\n",
       "      <td>0.478671</td>\n",
       "      <td>0.30</td>\n",
       "    </tr>\n",
       "    <tr>\n",
       "      <th>10</th>\n",
       "      <td>20</td>\n",
       "      <td>11.463274</td>\n",
       "      <td>0.279743</td>\n",
       "      <td>-0.010920</td>\n",
       "      <td>11.486134</td>\n",
       "      <td>0.960762</td>\n",
       "      <td>0.011940</td>\n",
       "      <td>-1.092050</td>\n",
       "      <td>0.238799</td>\n",
       "      <td>0.32</td>\n",
       "    </tr>\n",
       "    <tr>\n",
       "      <th>12</th>\n",
       "      <td>20</td>\n",
       "      <td>12.155986</td>\n",
       "      <td>0.287042</td>\n",
       "      <td>-0.012517</td>\n",
       "      <td>12.157704</td>\n",
       "      <td>0.931613</td>\n",
       "      <td>-0.010799</td>\n",
       "      <td>-1.251660</td>\n",
       "      <td>-0.215977</td>\n",
       "      <td>0.34</td>\n",
       "    </tr>\n",
       "    <tr>\n",
       "      <th>13</th>\n",
       "      <td>20</td>\n",
       "      <td>12.847785</td>\n",
       "      <td>0.271558</td>\n",
       "      <td>-0.014122</td>\n",
       "      <td>12.832645</td>\n",
       "      <td>0.949120</td>\n",
       "      <td>-0.029262</td>\n",
       "      <td>-1.412176</td>\n",
       "      <td>-0.585242</td>\n",
       "      <td>0.36</td>\n",
       "    </tr>\n",
       "    <tr>\n",
       "      <th>14</th>\n",
       "      <td>20</td>\n",
       "      <td>13.538620</td>\n",
       "      <td>0.288995</td>\n",
       "      <td>-0.015733</td>\n",
       "      <td>13.609379</td>\n",
       "      <td>0.951222</td>\n",
       "      <td>0.055025</td>\n",
       "      <td>-1.573329</td>\n",
       "      <td>1.100510</td>\n",
       "      <td>0.38</td>\n",
       "    </tr>\n",
       "    <tr>\n",
       "      <th>15</th>\n",
       "      <td>20</td>\n",
       "      <td>14.228438</td>\n",
       "      <td>0.286077</td>\n",
       "      <td>-0.017349</td>\n",
       "      <td>14.158400</td>\n",
       "      <td>0.963227</td>\n",
       "      <td>-0.087387</td>\n",
       "      <td>-1.734898</td>\n",
       "      <td>-1.747738</td>\n",
       "      <td>0.40</td>\n",
       "    </tr>\n",
       "    <tr>\n",
       "      <th>16</th>\n",
       "      <td>20</td>\n",
       "      <td>14.917187</td>\n",
       "      <td>0.278624</td>\n",
       "      <td>-0.018967</td>\n",
       "      <td>14.793865</td>\n",
       "      <td>0.933144</td>\n",
       "      <td>-0.142290</td>\n",
       "      <td>-1.896694</td>\n",
       "      <td>-2.845790</td>\n",
       "      <td>0.42</td>\n",
       "    </tr>\n",
       "    <tr>\n",
       "      <th>17</th>\n",
       "      <td>20</td>\n",
       "      <td>15.604817</td>\n",
       "      <td>0.268044</td>\n",
       "      <td>-0.020586</td>\n",
       "      <td>15.641946</td>\n",
       "      <td>0.918613</td>\n",
       "      <td>0.016544</td>\n",
       "      <td>-2.058556</td>\n",
       "      <td>0.330876</td>\n",
       "      <td>0.44</td>\n",
       "    </tr>\n",
       "    <tr>\n",
       "      <th>19</th>\n",
       "      <td>20</td>\n",
       "      <td>16.291274</td>\n",
       "      <td>0.260907</td>\n",
       "      <td>-0.022203</td>\n",
       "      <td>16.242625</td>\n",
       "      <td>0.946907</td>\n",
       "      <td>-0.070853</td>\n",
       "      <td>-2.220345</td>\n",
       "      <td>-1.417054</td>\n",
       "      <td>0.46</td>\n",
       "    </tr>\n",
       "    <tr>\n",
       "      <th>18</th>\n",
       "      <td>20</td>\n",
       "      <td>16.976509</td>\n",
       "      <td>0.251850</td>\n",
       "      <td>-0.023819</td>\n",
       "      <td>16.683753</td>\n",
       "      <td>0.927094</td>\n",
       "      <td>-0.316575</td>\n",
       "      <td>-2.381940</td>\n",
       "      <td>-6.331510</td>\n",
       "      <td>0.48</td>\n",
       "    </tr>\n",
       "  </tbody>\n",
       "</table>\n",
       "</div>"
      ],
      "text/plain": [
       "    Nombre de pas  Prix arbre trinomial  Temps arbre  Diff arbre - B&S  \\\n",
       "2              20              3.798353     0.315959          0.003436   \n",
       "1              20              4.497601     0.324168          0.002859   \n",
       "3              20              5.196522     0.324168          0.001945   \n",
       "0              20              5.895064     0.315959          0.000821   \n",
       "4              20              6.593171     0.264933         -0.000441   \n",
       "5              20              7.290791     0.268876         -0.001800   \n",
       "6              20              7.987870     0.263497         -0.003228   \n",
       "7              20              8.684353     0.270074         -0.004707   \n",
       "8              20              9.380188     0.274497         -0.006224   \n",
       "9              20             10.075322     0.286688         -0.007770   \n",
       "11             20             10.769702     0.272362         -0.009337   \n",
       "10             20             11.463274     0.279743         -0.010920   \n",
       "12             20             12.155986     0.287042         -0.012517   \n",
       "13             20             12.847785     0.271558         -0.014122   \n",
       "14             20             13.538620     0.288995         -0.015733   \n",
       "15             20             14.228438     0.286077         -0.017349   \n",
       "16             20             14.917187     0.278624         -0.018967   \n",
       "17             20             15.604817     0.268044         -0.020586   \n",
       "19             20             16.291274     0.260907         -0.022203   \n",
       "18             20             16.976509     0.251850         -0.023819   \n",
       "\n",
       "     Prix LSM  Temps LSM  Diff LSM - B&S  Diff arbre * nb pas  \\\n",
       "2    3.806685   0.990173        0.011768             0.343628   \n",
       "1    4.449729   0.974987       -0.045013             0.285898   \n",
       "3    5.243465   0.987823        0.048888             0.194502   \n",
       "0    5.896324   0.969362        0.002082             0.082134   \n",
       "4    6.618975   0.949274        0.025362            -0.044131   \n",
       "5    7.278287   0.956533       -0.014304            -0.180033   \n",
       "6    8.053403   0.962680        0.062305            -0.322842   \n",
       "7    8.697262   0.957807        0.008201            -0.470727   \n",
       "8    9.455006   0.938720        0.068594            -0.622406   \n",
       "9   10.170851   0.942380        0.087759            -0.776953   \n",
       "11  10.802972   0.976522        0.023934            -0.933677   \n",
       "10  11.486134   0.960762        0.011940            -1.092050   \n",
       "12  12.157704   0.931613       -0.010799            -1.251660   \n",
       "13  12.832645   0.949120       -0.029262            -1.412176   \n",
       "14  13.609379   0.951222        0.055025            -1.573329   \n",
       "15  14.158400   0.963227       -0.087387            -1.734898   \n",
       "16  14.793865   0.933144       -0.142290            -1.896694   \n",
       "17  15.641946   0.918613        0.016544            -2.058556   \n",
       "19  16.242625   0.946907       -0.070853            -2.220345   \n",
       "18  16.683753   0.927094       -0.316575            -2.381940   \n",
       "\n",
       "    Diff LSM * nb pas  Volatilité  \n",
       "2            0.235369        0.10  \n",
       "1           -0.900253        0.12  \n",
       "3            0.977750        0.14  \n",
       "0            0.041632        0.16  \n",
       "4            0.507249        0.18  \n",
       "5           -0.286086        0.20  \n",
       "6            1.246094        0.22  \n",
       "7            0.164028        0.24  \n",
       "8            1.371881        0.26  \n",
       "9            1.755186        0.28  \n",
       "11           0.478671        0.30  \n",
       "10           0.238799        0.32  \n",
       "12          -0.215977        0.34  \n",
       "13          -0.585242        0.36  \n",
       "14           1.100510        0.38  \n",
       "15          -1.747738        0.40  \n",
       "16          -2.845790        0.42  \n",
       "17           0.330876        0.44  \n",
       "19          -1.417054        0.46  \n",
       "18          -6.331510        0.48  "
      ]
     },
     "execution_count": 32,
     "metadata": {},
     "output_type": "execute_result"
    }
   ],
   "source": [
    "# Définir les plages de valeurs à tester pour la volatilité\n",
    "vol_list = np.arange(0.1, 0.5, 0.02)  # Variation de volatilité entre 10% et 50%\n",
    "\n",
    "# Créer l'objet de comparaison\n",
    "vol_comparison = VolComparison(max_cpu, step_list, vol_list, donnee_marche, brownian, option)\n",
    "\n",
    "# Afficher le graphique\n",
    "fig_vol = vol_comparison.graph_vol()\n",
    "fig_vol.show()\n",
    "\n",
    "# Afficher le tableau de résultats\n",
    "vol_comparison.results_df.sort_values(by='Volatilité', ascending=True)"
   ]
  },
  {
   "cell_type": "code",
   "execution_count": 34,
   "metadata": {},
   "outputs": [
    {
     "data": {
      "application/vnd.plotly.v1+json": {
       "config": {
        "plotlyServerURL": "https://plot.ly"
       },
       "data": [
        {
         "line": {
          "color": "blue",
          "width": 2
         },
         "marker": {
          "size": 6
         },
         "mode": "lines+markers",
         "name": "Arbre trinomial",
         "type": "scatter",
         "x": [
          -0.5,
          -0.49,
          -0.48,
          -0.47,
          -0.45999999999999996,
          -0.44999999999999996,
          -0.43999999999999995,
          -0.42999999999999994,
          -0.41999999999999993,
          -0.4099999999999999,
          -0.3999999999999999,
          -0.3899999999999999,
          -0.3799999999999999,
          -0.3699999999999999,
          -0.3599999999999999,
          -0.34999999999999987,
          -0.33999999999999986,
          -0.32999999999999985,
          -0.31999999999999984,
          -0.30999999999999983,
          -0.2999999999999998,
          -0.2899999999999998,
          -0.2799999999999998,
          -0.2699999999999998,
          -0.2599999999999998,
          -0.24999999999999978,
          -0.23999999999999977,
          -0.22999999999999976,
          -0.21999999999999975,
          -0.20999999999999974,
          -0.19999999999999973,
          -0.18999999999999972,
          -0.17999999999999972,
          -0.1699999999999997,
          -0.1599999999999997,
          -0.1499999999999997,
          -0.13999999999999968,
          -0.12999999999999967,
          -0.11999999999999966,
          -0.10999999999999965,
          -0.09999999999999964,
          -0.08999999999999964,
          -0.07999999999999963,
          -0.06999999999999962,
          -0.05999999999999961,
          -0.0499999999999996,
          -0.03999999999999959,
          -0.029999999999999583,
          -0.019999999999999574,
          -0.009999999999999565,
          4.440892098500626e-16,
          0.010000000000000453,
          0.020000000000000462,
          0.03000000000000047,
          0.04000000000000048,
          0.05000000000000049,
          0.0600000000000005,
          0.0700000000000005,
          0.08000000000000052,
          0.09000000000000052,
          0.10000000000000053,
          0.11000000000000054,
          0.12000000000000055,
          0.13000000000000056,
          0.14000000000000057,
          0.15000000000000058,
          0.1600000000000006,
          0.1700000000000006,
          0.1800000000000006,
          0.1900000000000006,
          0.20000000000000062,
          0.21000000000000063,
          0.22000000000000064,
          0.23000000000000065,
          0.24000000000000066,
          0.25000000000000067,
          0.2600000000000007,
          0.2700000000000007,
          0.2800000000000007,
          0.2900000000000007,
          0.3000000000000007,
          0.3100000000000007,
          0.32000000000000073,
          0.33000000000000074,
          0.34000000000000075,
          0.35000000000000075,
          0.36000000000000076,
          0.3700000000000008,
          0.3800000000000008,
          0.3900000000000008,
          0.4000000000000008,
          0.4100000000000008,
          0.4200000000000008,
          0.4300000000000008,
          0.44000000000000083,
          0.45000000000000084,
          0.46000000000000085,
          0.47000000000000086,
          0.48000000000000087,
          0.4900000000000009
         ],
         "y": [
          -0.00015291490925498086,
          0.0031351631267525215,
          0.004983704969222999,
          0.005266194381557704,
          0.00384699967619051,
          0.0005810844049702335,
          -0.004686249834062878,
          -0.01211958326164686,
          -0.008241415482492326,
          0.00105810682479629,
          0.007469665986909735,
          0.01078918650647298,
          0.010802347963562775,
          0.007284700207667416,
          0.0000018517474954515833,
          -0.011290264469137445,
          -0.026845044164047482,
          -0.012043035260255963,
          0.003983918274092835,
          0.014619778166554243,
          0.01958147959065981,
          0.018579648634650114,
          0.011319478095066948,
          -0.002498309070913529,
          -0.02317641124178471,
          -0.046610447995599324,
          -0.014699433891955271,
          0.008913277419475119,
          0.023927378518230125,
          0.03004546518586726,
          0.026974483864277587,
          0.01442721779298739,
          -0.007876198464064288,
          -0.04020674710975669,
          -0.055888193003722275,
          -0.01464628434940174,
          0.015092545158659654,
          0.033113767256951476,
          0.03921919173731725,
          0.03322834607370373,
          0.014979785305432092,
          -0.01566768001484453,
          -0.058833849491819024,
          -0.05694283370409714,
          -0.0113236811526507,
          0.02067113979743418,
          0.039023346082497135,
          0.04373990441424169,
          0.03485340590495323,
          0.012422291328804569,
          -0.02346907592187364,
          -0.07271049064897994,
          -0.04901455361386553,
          -0.005860022879710769,
          0.02350730720929306,
          0.03930428616282633,
          0.041770892298233164,
          0.03116928172988942,
          0.007782713971085542,
          -0.028085636358353483,
          -0.07611397122906993,
          -0.03540672748781226,
          -0.0005276069775010939,
          0.02243136421337688,
          0.03385828330100793,
          0.034152231069931815,
          0.023721618213365048,
          0.002982517372952742,
          -0.02764300601299574,
          -0.05461366923563915,
          -0.021310187221805776,
          0.002753773799401671,
          0.01801292154024381,
          0.0248999811870263,
          0.023844265919564123,
          0.015270321253659347,
          -0.00040334962555377274,
          -0.02276547346316704,
          -0.03070418401430075,
          -0.010609899681952584,
          0.003552452692389352,
          0.01215852563298725,
          0.015572220781812973,
          0.014145090819983608,
          0.00821584107402984,
          -0.0018900712543974407,
          -0.015860743095856833,
          -0.014709196393294377,
          -0.0043470774519853705,
          0.0027612701385457683,
          0.006874104233727252,
          0.008235860919164395,
          0.007077323724569595,
          0.003615852675316944,
          -0.001944332908280444,
          -0.0094118239896126,
          -0.006039734980355149,
          -0.0014707415728558715,
          0.0015734155024063057,
          0.0032378710926046494
         ]
        },
        {
         "line": {
          "color": "green",
          "dash": "dash",
          "width": 2
         },
         "marker": {
          "size": 6
         },
         "mode": "lines+markers",
         "name": "LSM",
         "type": "scatter",
         "x": [
          -0.5,
          -0.49,
          -0.48,
          -0.47,
          -0.45999999999999996,
          -0.44999999999999996,
          -0.43999999999999995,
          -0.42999999999999994,
          -0.41999999999999993,
          -0.4099999999999999,
          -0.3999999999999999,
          -0.3899999999999999,
          -0.3799999999999999,
          -0.3699999999999999,
          -0.3599999999999999,
          -0.34999999999999987,
          -0.33999999999999986,
          -0.32999999999999985,
          -0.31999999999999984,
          -0.30999999999999983,
          -0.2999999999999998,
          -0.2899999999999998,
          -0.2799999999999998,
          -0.2699999999999998,
          -0.2599999999999998,
          -0.24999999999999978,
          -0.23999999999999977,
          -0.22999999999999976,
          -0.21999999999999975,
          -0.20999999999999974,
          -0.19999999999999973,
          -0.18999999999999972,
          -0.17999999999999972,
          -0.1699999999999997,
          -0.1599999999999997,
          -0.1499999999999997,
          -0.13999999999999968,
          -0.12999999999999967,
          -0.11999999999999966,
          -0.10999999999999965,
          -0.09999999999999964,
          -0.08999999999999964,
          -0.07999999999999963,
          -0.06999999999999962,
          -0.05999999999999961,
          -0.0499999999999996,
          -0.03999999999999959,
          -0.029999999999999583,
          -0.019999999999999574,
          -0.009999999999999565,
          4.440892098500626e-16,
          0.010000000000000453,
          0.020000000000000462,
          0.03000000000000047,
          0.04000000000000048,
          0.05000000000000049,
          0.0600000000000005,
          0.0700000000000005,
          0.08000000000000052,
          0.09000000000000052,
          0.10000000000000053,
          0.11000000000000054,
          0.12000000000000055,
          0.13000000000000056,
          0.14000000000000057,
          0.15000000000000058,
          0.1600000000000006,
          0.1700000000000006,
          0.1800000000000006,
          0.1900000000000006,
          0.20000000000000062,
          0.21000000000000063,
          0.22000000000000064,
          0.23000000000000065,
          0.24000000000000066,
          0.25000000000000067,
          0.2600000000000007,
          0.2700000000000007,
          0.2800000000000007,
          0.2900000000000007,
          0.3000000000000007,
          0.3100000000000007,
          0.32000000000000073,
          0.33000000000000074,
          0.34000000000000075,
          0.35000000000000075,
          0.36000000000000076,
          0.3700000000000008,
          0.3800000000000008,
          0.3900000000000008,
          0.4000000000000008,
          0.4100000000000008,
          0.4200000000000008,
          0.4300000000000008,
          0.44000000000000083,
          0.45000000000000084,
          0.46000000000000085,
          0.47000000000000086,
          0.48000000000000087,
          0.4900000000000009
         ],
         "y": [
          -0.003476098650368728,
          -0.004836244311843055,
          0.009514187578445438,
          0.0027312364069142225,
          -0.001914229357729641,
          -0.0038808582258965107,
          -0.0016104949356174347,
          0.008044499868115312,
          -0.001128346262362162,
          0.0027285058473510704,
          0.00035151943061589863,
          -0.0001556781583703648,
          -0.001063639409168482,
          0.006861727004721652,
          0.0019881228057057054,
          -0.0008260206286220817,
          0.008279178073267834,
          -0.0014523001321808948,
          -0.007513506272083026,
          0.021423771918349988,
          0.011825386099462931,
          -0.004222155468845856,
          0.004456134035367598,
          -0.00592219708475028,
          0.016069123884219882,
          -0.00888698268089616,
          -0.003183114727502323,
          0.006071114471881023,
          -0.008725825954897903,
          0.015914384028468787,
          -0.024677226327810997,
          -0.020770118799740667,
          0.0025050374901125494,
          -0.004314725852554879,
          0.029861173880056047,
          -0.013346182379519345,
          0.0034232604664929944,
          0.024677992341035182,
          -0.0547095809270175,
          0.009643335489377236,
          0.020787003724713315,
          -0.028767772372126466,
          -0.02197095371010427,
          0.01758396639665971,
          -0.04716879226565851,
          0.016202582718530145,
          0.005525490102478159,
          -0.03424680117570755,
          -0.03793767494657718,
          0.013285052517189477,
          -0.012304213106458128,
          -0.02791645888056049,
          -0.027415547050650524,
          -0.05719833461545765,
          0.0646309925404509,
          0.035225164052668845,
          0.016558720811314487,
          0.02942268867172615,
          0.017693426362949793,
          0.04159924389285585,
          -0.028295611411426336,
          -0.0036368750062898414,
          0.030068382325557863,
          0.009970569207331081,
          -0.12718100984810832,
          0.015473963640774357,
          -0.0704936317260767,
          0.05208599831244598,
          -0.03215327635472143,
          0.011564328193578888,
          0.03705802476814135,
          -0.04682270582785186,
          -0.09056719324485485,
          0.06223879942518451,
          -0.059122842597361114,
          0.02890031856373909,
          -0.019595052240791944,
          -0.06852906470042086,
          -0.04410985121349853,
          -0.013784793759143099,
          -0.004486203905916142,
          -0.015004690220205674,
          -0.055907125130524093,
          -0.029378511914231353,
          0.020538090117828034,
          0.06254170631763856,
          -0.028548171371902242,
          0.00750378679357766,
          0.03280104739783951,
          0.03314377689668646,
          0.04968586846623424,
          -0.0332197988993812,
          -0.04315758844936468,
          0.031046083007495895,
          -0.05889594371699758,
          0.05713196132699139,
          0.054397083760441944,
          -0.06461460930179541,
          -0.033676623424359065,
          0.0010513969646055443
         ]
        }
       ],
       "layout": {
        "legend": {
         "title": {
          "text": "Méthodes"
         }
        },
        "shapes": [
         {
          "line": {
           "color": "red",
           "dash": "dash"
          },
          "type": "line",
          "x0": 0,
          "x1": 1,
          "xref": "x domain",
          "y0": 0,
          "y1": 0,
          "yref": "y"
         }
        ],
        "template": {
         "data": {
          "bar": [
           {
            "error_x": {
             "color": "#2a3f5f"
            },
            "error_y": {
             "color": "#2a3f5f"
            },
            "marker": {
             "line": {
              "color": "#E5ECF6",
              "width": 0.5
             },
             "pattern": {
              "fillmode": "overlay",
              "size": 10,
              "solidity": 0.2
             }
            },
            "type": "bar"
           }
          ],
          "barpolar": [
           {
            "marker": {
             "line": {
              "color": "#E5ECF6",
              "width": 0.5
             },
             "pattern": {
              "fillmode": "overlay",
              "size": 10,
              "solidity": 0.2
             }
            },
            "type": "barpolar"
           }
          ],
          "carpet": [
           {
            "aaxis": {
             "endlinecolor": "#2a3f5f",
             "gridcolor": "white",
             "linecolor": "white",
             "minorgridcolor": "white",
             "startlinecolor": "#2a3f5f"
            },
            "baxis": {
             "endlinecolor": "#2a3f5f",
             "gridcolor": "white",
             "linecolor": "white",
             "minorgridcolor": "white",
             "startlinecolor": "#2a3f5f"
            },
            "type": "carpet"
           }
          ],
          "choropleth": [
           {
            "colorbar": {
             "outlinewidth": 0,
             "ticks": ""
            },
            "type": "choropleth"
           }
          ],
          "contour": [
           {
            "colorbar": {
             "outlinewidth": 0,
             "ticks": ""
            },
            "colorscale": [
             [
              0,
              "#0d0887"
             ],
             [
              0.1111111111111111,
              "#46039f"
             ],
             [
              0.2222222222222222,
              "#7201a8"
             ],
             [
              0.3333333333333333,
              "#9c179e"
             ],
             [
              0.4444444444444444,
              "#bd3786"
             ],
             [
              0.5555555555555556,
              "#d8576b"
             ],
             [
              0.6666666666666666,
              "#ed7953"
             ],
             [
              0.7777777777777778,
              "#fb9f3a"
             ],
             [
              0.8888888888888888,
              "#fdca26"
             ],
             [
              1,
              "#f0f921"
             ]
            ],
            "type": "contour"
           }
          ],
          "contourcarpet": [
           {
            "colorbar": {
             "outlinewidth": 0,
             "ticks": ""
            },
            "type": "contourcarpet"
           }
          ],
          "heatmap": [
           {
            "colorbar": {
             "outlinewidth": 0,
             "ticks": ""
            },
            "colorscale": [
             [
              0,
              "#0d0887"
             ],
             [
              0.1111111111111111,
              "#46039f"
             ],
             [
              0.2222222222222222,
              "#7201a8"
             ],
             [
              0.3333333333333333,
              "#9c179e"
             ],
             [
              0.4444444444444444,
              "#bd3786"
             ],
             [
              0.5555555555555556,
              "#d8576b"
             ],
             [
              0.6666666666666666,
              "#ed7953"
             ],
             [
              0.7777777777777778,
              "#fb9f3a"
             ],
             [
              0.8888888888888888,
              "#fdca26"
             ],
             [
              1,
              "#f0f921"
             ]
            ],
            "type": "heatmap"
           }
          ],
          "heatmapgl": [
           {
            "colorbar": {
             "outlinewidth": 0,
             "ticks": ""
            },
            "colorscale": [
             [
              0,
              "#0d0887"
             ],
             [
              0.1111111111111111,
              "#46039f"
             ],
             [
              0.2222222222222222,
              "#7201a8"
             ],
             [
              0.3333333333333333,
              "#9c179e"
             ],
             [
              0.4444444444444444,
              "#bd3786"
             ],
             [
              0.5555555555555556,
              "#d8576b"
             ],
             [
              0.6666666666666666,
              "#ed7953"
             ],
             [
              0.7777777777777778,
              "#fb9f3a"
             ],
             [
              0.8888888888888888,
              "#fdca26"
             ],
             [
              1,
              "#f0f921"
             ]
            ],
            "type": "heatmapgl"
           }
          ],
          "histogram": [
           {
            "marker": {
             "pattern": {
              "fillmode": "overlay",
              "size": 10,
              "solidity": 0.2
             }
            },
            "type": "histogram"
           }
          ],
          "histogram2d": [
           {
            "colorbar": {
             "outlinewidth": 0,
             "ticks": ""
            },
            "colorscale": [
             [
              0,
              "#0d0887"
             ],
             [
              0.1111111111111111,
              "#46039f"
             ],
             [
              0.2222222222222222,
              "#7201a8"
             ],
             [
              0.3333333333333333,
              "#9c179e"
             ],
             [
              0.4444444444444444,
              "#bd3786"
             ],
             [
              0.5555555555555556,
              "#d8576b"
             ],
             [
              0.6666666666666666,
              "#ed7953"
             ],
             [
              0.7777777777777778,
              "#fb9f3a"
             ],
             [
              0.8888888888888888,
              "#fdca26"
             ],
             [
              1,
              "#f0f921"
             ]
            ],
            "type": "histogram2d"
           }
          ],
          "histogram2dcontour": [
           {
            "colorbar": {
             "outlinewidth": 0,
             "ticks": ""
            },
            "colorscale": [
             [
              0,
              "#0d0887"
             ],
             [
              0.1111111111111111,
              "#46039f"
             ],
             [
              0.2222222222222222,
              "#7201a8"
             ],
             [
              0.3333333333333333,
              "#9c179e"
             ],
             [
              0.4444444444444444,
              "#bd3786"
             ],
             [
              0.5555555555555556,
              "#d8576b"
             ],
             [
              0.6666666666666666,
              "#ed7953"
             ],
             [
              0.7777777777777778,
              "#fb9f3a"
             ],
             [
              0.8888888888888888,
              "#fdca26"
             ],
             [
              1,
              "#f0f921"
             ]
            ],
            "type": "histogram2dcontour"
           }
          ],
          "mesh3d": [
           {
            "colorbar": {
             "outlinewidth": 0,
             "ticks": ""
            },
            "type": "mesh3d"
           }
          ],
          "parcoords": [
           {
            "line": {
             "colorbar": {
              "outlinewidth": 0,
              "ticks": ""
             }
            },
            "type": "parcoords"
           }
          ],
          "pie": [
           {
            "automargin": true,
            "type": "pie"
           }
          ],
          "scatter": [
           {
            "fillpattern": {
             "fillmode": "overlay",
             "size": 10,
             "solidity": 0.2
            },
            "type": "scatter"
           }
          ],
          "scatter3d": [
           {
            "line": {
             "colorbar": {
              "outlinewidth": 0,
              "ticks": ""
             }
            },
            "marker": {
             "colorbar": {
              "outlinewidth": 0,
              "ticks": ""
             }
            },
            "type": "scatter3d"
           }
          ],
          "scattercarpet": [
           {
            "marker": {
             "colorbar": {
              "outlinewidth": 0,
              "ticks": ""
             }
            },
            "type": "scattercarpet"
           }
          ],
          "scattergeo": [
           {
            "marker": {
             "colorbar": {
              "outlinewidth": 0,
              "ticks": ""
             }
            },
            "type": "scattergeo"
           }
          ],
          "scattergl": [
           {
            "marker": {
             "colorbar": {
              "outlinewidth": 0,
              "ticks": ""
             }
            },
            "type": "scattergl"
           }
          ],
          "scattermapbox": [
           {
            "marker": {
             "colorbar": {
              "outlinewidth": 0,
              "ticks": ""
             }
            },
            "type": "scattermapbox"
           }
          ],
          "scatterpolar": [
           {
            "marker": {
             "colorbar": {
              "outlinewidth": 0,
              "ticks": ""
             }
            },
            "type": "scatterpolar"
           }
          ],
          "scatterpolargl": [
           {
            "marker": {
             "colorbar": {
              "outlinewidth": 0,
              "ticks": ""
             }
            },
            "type": "scatterpolargl"
           }
          ],
          "scatterternary": [
           {
            "marker": {
             "colorbar": {
              "outlinewidth": 0,
              "ticks": ""
             }
            },
            "type": "scatterternary"
           }
          ],
          "surface": [
           {
            "colorbar": {
             "outlinewidth": 0,
             "ticks": ""
            },
            "colorscale": [
             [
              0,
              "#0d0887"
             ],
             [
              0.1111111111111111,
              "#46039f"
             ],
             [
              0.2222222222222222,
              "#7201a8"
             ],
             [
              0.3333333333333333,
              "#9c179e"
             ],
             [
              0.4444444444444444,
              "#bd3786"
             ],
             [
              0.5555555555555556,
              "#d8576b"
             ],
             [
              0.6666666666666666,
              "#ed7953"
             ],
             [
              0.7777777777777778,
              "#fb9f3a"
             ],
             [
              0.8888888888888888,
              "#fdca26"
             ],
             [
              1,
              "#f0f921"
             ]
            ],
            "type": "surface"
           }
          ],
          "table": [
           {
            "cells": {
             "fill": {
              "color": "#EBF0F8"
             },
             "line": {
              "color": "white"
             }
            },
            "header": {
             "fill": {
              "color": "#C8D4E3"
             },
             "line": {
              "color": "white"
             }
            },
            "type": "table"
           }
          ]
         },
         "layout": {
          "annotationdefaults": {
           "arrowcolor": "#2a3f5f",
           "arrowhead": 0,
           "arrowwidth": 1
          },
          "autotypenumbers": "strict",
          "coloraxis": {
           "colorbar": {
            "outlinewidth": 0,
            "ticks": ""
           }
          },
          "colorscale": {
           "diverging": [
            [
             0,
             "#8e0152"
            ],
            [
             0.1,
             "#c51b7d"
            ],
            [
             0.2,
             "#de77ae"
            ],
            [
             0.3,
             "#f1b6da"
            ],
            [
             0.4,
             "#fde0ef"
            ],
            [
             0.5,
             "#f7f7f7"
            ],
            [
             0.6,
             "#e6f5d0"
            ],
            [
             0.7,
             "#b8e186"
            ],
            [
             0.8,
             "#7fbc41"
            ],
            [
             0.9,
             "#4d9221"
            ],
            [
             1,
             "#276419"
            ]
           ],
           "sequential": [
            [
             0,
             "#0d0887"
            ],
            [
             0.1111111111111111,
             "#46039f"
            ],
            [
             0.2222222222222222,
             "#7201a8"
            ],
            [
             0.3333333333333333,
             "#9c179e"
            ],
            [
             0.4444444444444444,
             "#bd3786"
            ],
            [
             0.5555555555555556,
             "#d8576b"
            ],
            [
             0.6666666666666666,
             "#ed7953"
            ],
            [
             0.7777777777777778,
             "#fb9f3a"
            ],
            [
             0.8888888888888888,
             "#fdca26"
            ],
            [
             1,
             "#f0f921"
            ]
           ],
           "sequentialminus": [
            [
             0,
             "#0d0887"
            ],
            [
             0.1111111111111111,
             "#46039f"
            ],
            [
             0.2222222222222222,
             "#7201a8"
            ],
            [
             0.3333333333333333,
             "#9c179e"
            ],
            [
             0.4444444444444444,
             "#bd3786"
            ],
            [
             0.5555555555555556,
             "#d8576b"
            ],
            [
             0.6666666666666666,
             "#ed7953"
            ],
            [
             0.7777777777777778,
             "#fb9f3a"
            ],
            [
             0.8888888888888888,
             "#fdca26"
            ],
            [
             1,
             "#f0f921"
            ]
           ]
          },
          "colorway": [
           "#636efa",
           "#EF553B",
           "#00cc96",
           "#ab63fa",
           "#FFA15A",
           "#19d3f3",
           "#FF6692",
           "#B6E880",
           "#FF97FF",
           "#FECB52"
          ],
          "font": {
           "color": "#2a3f5f"
          },
          "geo": {
           "bgcolor": "white",
           "lakecolor": "white",
           "landcolor": "#E5ECF6",
           "showlakes": true,
           "showland": true,
           "subunitcolor": "white"
          },
          "hoverlabel": {
           "align": "left"
          },
          "hovermode": "closest",
          "mapbox": {
           "style": "light"
          },
          "paper_bgcolor": "white",
          "plot_bgcolor": "#E5ECF6",
          "polar": {
           "angularaxis": {
            "gridcolor": "white",
            "linecolor": "white",
            "ticks": ""
           },
           "bgcolor": "#E5ECF6",
           "radialaxis": {
            "gridcolor": "white",
            "linecolor": "white",
            "ticks": ""
           }
          },
          "scene": {
           "xaxis": {
            "backgroundcolor": "#E5ECF6",
            "gridcolor": "white",
            "gridwidth": 2,
            "linecolor": "white",
            "showbackground": true,
            "ticks": "",
            "zerolinecolor": "white"
           },
           "yaxis": {
            "backgroundcolor": "#E5ECF6",
            "gridcolor": "white",
            "gridwidth": 2,
            "linecolor": "white",
            "showbackground": true,
            "ticks": "",
            "zerolinecolor": "white"
           },
           "zaxis": {
            "backgroundcolor": "#E5ECF6",
            "gridcolor": "white",
            "gridwidth": 2,
            "linecolor": "white",
            "showbackground": true,
            "ticks": "",
            "zerolinecolor": "white"
           }
          },
          "shapedefaults": {
           "line": {
            "color": "#2a3f5f"
           }
          },
          "ternary": {
           "aaxis": {
            "gridcolor": "white",
            "linecolor": "white",
            "ticks": ""
           },
           "baxis": {
            "gridcolor": "white",
            "linecolor": "white",
            "ticks": ""
           },
           "bgcolor": "#E5ECF6",
           "caxis": {
            "gridcolor": "white",
            "linecolor": "white",
            "ticks": ""
           }
          },
          "title": {
           "x": 0.05
          },
          "xaxis": {
           "automargin": true,
           "gridcolor": "white",
           "linecolor": "white",
           "ticks": "",
           "title": {
            "standoff": 15
           },
           "zerolinecolor": "white",
           "zerolinewidth": 2
          },
          "yaxis": {
           "automargin": true,
           "gridcolor": "white",
           "linecolor": "white",
           "ticks": "",
           "title": {
            "standoff": 15
           },
           "zerolinecolor": "white",
           "zerolinewidth": 2
          }
         }
        },
        "title": {
         "text": "Comparaison (Arbre vs LSM) avec Black-Scholes en fonction du Taux"
        },
        "xaxis": {
         "title": {
          "text": "Taux d'intérêt"
         }
        },
        "yaxis": {
         "title": {
          "text": "Différence par rapport à Black-Scholes"
         }
        }
       }
      }
     },
     "metadata": {},
     "output_type": "display_data"
    },
    {
     "data": {
      "text/html": [
       "<div>\n",
       "<style scoped>\n",
       "    .dataframe tbody tr th:only-of-type {\n",
       "        vertical-align: middle;\n",
       "    }\n",
       "\n",
       "    .dataframe tbody tr th {\n",
       "        vertical-align: top;\n",
       "    }\n",
       "\n",
       "    .dataframe thead th {\n",
       "        text-align: right;\n",
       "    }\n",
       "</style>\n",
       "<table border=\"1\" class=\"dataframe\">\n",
       "  <thead>\n",
       "    <tr style=\"text-align: right;\">\n",
       "      <th></th>\n",
       "      <th>Nombre de pas</th>\n",
       "      <th>Prix arbre trinomial</th>\n",
       "      <th>Temps arbre</th>\n",
       "      <th>Diff arbre - B&amp;S</th>\n",
       "      <th>Diff arbre * nb pas</th>\n",
       "      <th>Prix LSM</th>\n",
       "      <th>Temps LSM</th>\n",
       "      <th>Diff LSM - B&amp;S</th>\n",
       "      <th>Diff LSM * nb pas</th>\n",
       "      <th>Taux d'intérêt</th>\n",
       "    </tr>\n",
       "  </thead>\n",
       "  <tbody>\n",
       "    <tr>\n",
       "      <th>3</th>\n",
       "      <td>20</td>\n",
       "      <td>0.087754</td>\n",
       "      <td>0.024882</td>\n",
       "      <td>-0.000153</td>\n",
       "      <td>-0.003058</td>\n",
       "      <td>0.084430</td>\n",
       "      <td>1.081014</td>\n",
       "      <td>-0.003476</td>\n",
       "      <td>-0.069522</td>\n",
       "      <td>-0.50</td>\n",
       "    </tr>\n",
       "    <tr>\n",
       "      <th>0</th>\n",
       "      <td>20</td>\n",
       "      <td>0.102553</td>\n",
       "      <td>0.021368</td>\n",
       "      <td>0.003135</td>\n",
       "      <td>0.062703</td>\n",
       "      <td>0.094582</td>\n",
       "      <td>1.084528</td>\n",
       "      <td>-0.004836</td>\n",
       "      <td>-0.096725</td>\n",
       "      <td>-0.49</td>\n",
       "    </tr>\n",
       "    <tr>\n",
       "      <th>1</th>\n",
       "      <td>20</td>\n",
       "      <td>0.117239</td>\n",
       "      <td>0.022803</td>\n",
       "      <td>0.004984</td>\n",
       "      <td>0.099674</td>\n",
       "      <td>0.121769</td>\n",
       "      <td>1.077692</td>\n",
       "      <td>0.009514</td>\n",
       "      <td>0.190284</td>\n",
       "      <td>-0.48</td>\n",
       "    </tr>\n",
       "    <tr>\n",
       "      <th>2</th>\n",
       "      <td>20</td>\n",
       "      <td>0.131810</td>\n",
       "      <td>0.019914</td>\n",
       "      <td>0.005266</td>\n",
       "      <td>0.105324</td>\n",
       "      <td>0.129275</td>\n",
       "      <td>1.083210</td>\n",
       "      <td>0.002731</td>\n",
       "      <td>0.054625</td>\n",
       "      <td>-0.47</td>\n",
       "    </tr>\n",
       "    <tr>\n",
       "      <th>6</th>\n",
       "      <td>20</td>\n",
       "      <td>0.146268</td>\n",
       "      <td>0.019127</td>\n",
       "      <td>0.003847</td>\n",
       "      <td>0.076940</td>\n",
       "      <td>0.140507</td>\n",
       "      <td>0.960577</td>\n",
       "      <td>-0.001914</td>\n",
       "      <td>-0.038285</td>\n",
       "      <td>-0.46</td>\n",
       "    </tr>\n",
       "    <tr>\n",
       "      <th>...</th>\n",
       "      <td>...</td>\n",
       "      <td>...</td>\n",
       "      <td>...</td>\n",
       "      <td>...</td>\n",
       "      <td>...</td>\n",
       "      <td>...</td>\n",
       "      <td>...</td>\n",
       "      <td>...</td>\n",
       "      <td>...</td>\n",
       "      <td>...</td>\n",
       "    </tr>\n",
       "    <tr>\n",
       "      <th>95</th>\n",
       "      <td>20</td>\n",
       "      <td>28.979183</td>\n",
       "      <td>0.017968</td>\n",
       "      <td>-0.009412</td>\n",
       "      <td>-0.188236</td>\n",
       "      <td>29.045727</td>\n",
       "      <td>1.040632</td>\n",
       "      <td>0.057132</td>\n",
       "      <td>1.142639</td>\n",
       "      <td>0.45</td>\n",
       "    </tr>\n",
       "    <tr>\n",
       "      <th>96</th>\n",
       "      <td>20</td>\n",
       "      <td>29.516853</td>\n",
       "      <td>0.016113</td>\n",
       "      <td>-0.006040</td>\n",
       "      <td>-0.120795</td>\n",
       "      <td>29.577289</td>\n",
       "      <td>1.058088</td>\n",
       "      <td>0.054397</td>\n",
       "      <td>1.087942</td>\n",
       "      <td>0.46</td>\n",
       "    </tr>\n",
       "    <tr>\n",
       "      <th>97</th>\n",
       "      <td>20</td>\n",
       "      <td>30.053211</td>\n",
       "      <td>0.017968</td>\n",
       "      <td>-0.001471</td>\n",
       "      <td>-0.029415</td>\n",
       "      <td>29.990067</td>\n",
       "      <td>1.040632</td>\n",
       "      <td>-0.064615</td>\n",
       "      <td>-1.292292</td>\n",
       "      <td>0.47</td>\n",
       "    </tr>\n",
       "    <tr>\n",
       "      <th>98</th>\n",
       "      <td>20</td>\n",
       "      <td>30.585412</td>\n",
       "      <td>0.020214</td>\n",
       "      <td>0.001573</td>\n",
       "      <td>0.031468</td>\n",
       "      <td>30.550162</td>\n",
       "      <td>0.947877</td>\n",
       "      <td>-0.033677</td>\n",
       "      <td>-0.673532</td>\n",
       "      <td>0.48</td>\n",
       "    </tr>\n",
       "    <tr>\n",
       "      <th>99</th>\n",
       "      <td>20</td>\n",
       "      <td>31.113488</td>\n",
       "      <td>0.022321</td>\n",
       "      <td>0.003238</td>\n",
       "      <td>0.064757</td>\n",
       "      <td>31.111301</td>\n",
       "      <td>0.999542</td>\n",
       "      <td>0.001051</td>\n",
       "      <td>0.021028</td>\n",
       "      <td>0.49</td>\n",
       "    </tr>\n",
       "  </tbody>\n",
       "</table>\n",
       "<p>100 rows × 10 columns</p>\n",
       "</div>"
      ],
      "text/plain": [
       "    Nombre de pas  Prix arbre trinomial  Temps arbre  Diff arbre - B&S  \\\n",
       "3              20              0.087754     0.024882         -0.000153   \n",
       "0              20              0.102553     0.021368          0.003135   \n",
       "1              20              0.117239     0.022803          0.004984   \n",
       "2              20              0.131810     0.019914          0.005266   \n",
       "6              20              0.146268     0.019127          0.003847   \n",
       "..            ...                   ...          ...               ...   \n",
       "95             20             28.979183     0.017968         -0.009412   \n",
       "96             20             29.516853     0.016113         -0.006040   \n",
       "97             20             30.053211     0.017968         -0.001471   \n",
       "98             20             30.585412     0.020214          0.001573   \n",
       "99             20             31.113488     0.022321          0.003238   \n",
       "\n",
       "    Diff arbre * nb pas   Prix LSM  Temps LSM  Diff LSM - B&S  \\\n",
       "3             -0.003058   0.084430   1.081014       -0.003476   \n",
       "0              0.062703   0.094582   1.084528       -0.004836   \n",
       "1              0.099674   0.121769   1.077692        0.009514   \n",
       "2              0.105324   0.129275   1.083210        0.002731   \n",
       "6              0.076940   0.140507   0.960577       -0.001914   \n",
       "..                  ...        ...        ...             ...   \n",
       "95            -0.188236  29.045727   1.040632        0.057132   \n",
       "96            -0.120795  29.577289   1.058088        0.054397   \n",
       "97            -0.029415  29.990067   1.040632       -0.064615   \n",
       "98             0.031468  30.550162   0.947877       -0.033677   \n",
       "99             0.064757  31.111301   0.999542        0.001051   \n",
       "\n",
       "    Diff LSM * nb pas  Taux d'intérêt  \n",
       "3           -0.069522           -0.50  \n",
       "0           -0.096725           -0.49  \n",
       "1            0.190284           -0.48  \n",
       "2            0.054625           -0.47  \n",
       "6           -0.038285           -0.46  \n",
       "..                ...             ...  \n",
       "95           1.142639            0.45  \n",
       "96           1.087942            0.46  \n",
       "97          -1.292292            0.47  \n",
       "98          -0.673532            0.48  \n",
       "99           0.021028            0.49  \n",
       "\n",
       "[100 rows x 10 columns]"
      ]
     },
     "execution_count": 34,
     "metadata": {},
     "output_type": "execute_result"
    }
   ],
   "source": [
    "# Définir les plages de valeurs à tester pour le taux\n",
    "rate_list = np.arange(-0.5,0.5, 0.01)  # Variation du taux entre -2% et 10%\n",
    "\n",
    "# Créer l'objet de comparaison\n",
    "rate_comparison = RateComparison(max_cpu, step_list, rate_list, donnee_marche, brownian, option)\n",
    "\n",
    "# Afficher le graphique\n",
    "fig_rate = rate_comparison.graph_rate()\n",
    "fig_rate.show()\n",
    "\n",
    "# Afficher le tableau de résultats\n",
    "rate_comparison.results_df.sort_values(by='Taux d\\'intérêt', ascending=True)"
   ]
  },
  {
   "cell_type": "code",
   "execution_count": null,
   "metadata": {},
   "outputs": [],
   "source": []
  }
 ],
 "metadata": {
  "kernelspec": {
   "display_name": "base",
   "language": "python",
   "name": "python3"
  },
  "language_info": {
   "codemirror_mode": {
    "name": "ipython",
    "version": 3
   },
   "file_extension": ".py",
   "mimetype": "text/x-python",
   "name": "python",
   "nbconvert_exporter": "python",
   "pygments_lexer": "ipython3",
   "version": "3.12.4"
  }
 },
 "nbformat": 4,
 "nbformat_minor": 2
}
